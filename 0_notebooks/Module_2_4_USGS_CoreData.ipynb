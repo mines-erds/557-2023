{
 "cells": [
  {
   "cell_type": "markdown",
   "metadata": {
    "id": "EE3Vh2szhO8A"
   },
   "source": [
    "# Module 2: Data wrangling using `pandas`\n",
    "\n",
    "## Overview: USGS core dataset\n",
    "This notebook will take you through python code very commonly used to import, sort, and visualize some data, in this case a spreadsheet of USGS core data. We will use `pandas`, a fast, powerful, flexible, and easy-to-use data analysis and manipulation tool. \n",
    "\n",
    "By completing this notebook, you will be able to:\n",
    "- See how easy it is to interact with a large dataset that would be cumbersome to handle in Excel. \n",
    "- Slice, group, and combine data and perform basic data exploration and visualization\n",
    "\n",
    "For questions on this notebook, ask them on the [GEOL 557 slack](https://join.slack.com/t/minesgeo/shared_invite/zt-cqawm4lu-Zcfpf4mBLwjnksY6_umlKA)<a href=\"https://join.slack.com/t/minesgeo/shared_invite/zt-cqawm4lu-Zcfpf4mBLwjnksY6_umlKA\">\n",
    "<img src=\"https://cdn.brandfolder.io/5H442O3W/as/pl546j-7le8zk-ex8w65/Slack_RGB.svg\" alt=\"Go to the GEOl 557 slack\" width=\"100\">\n",
    "</a>\n",
    "\n",
    "## Instructions\n",
    "Work through this notebook - there will be several places where you need to fill-in-the-blank or write some code into an open cell. When you are finished, make sure to use the Colab menu (not the browser-level menu) to do the following:\n",
    "- Expand all the sections - in the Colab menu, choose View --> Expand sections) \n",
    "- Save the notebook as a pdf, again using the Colab menu, using File --> Print --> Save as PDF. \n",
    "\n",
    "--- \n",
    "## Course\n",
    "**GEOL 557 Earth Resource Data Science I: Fundamentals**. GEOL 557 forms part 2 of the four-part course series for the \"Earth Resource Data Science\" online graduate certificate at Mines - [learn more about the certificate here](https://online.mines.edu/er/)\n",
    "\n",
    "Notebook created by **Zane Jobe** and **Thomas Martin**, [CoRE research group](https://core.mines.edu), Colorado School of Mines\n",
    "\n",
    "[![Twitter URL](https://img.shields.io/twitter/url/https/twitter.com/ZaneJobe.svg?style=social&label=Follow%20%40ZaneJobe)](https://twitter.com/ZaneJobe)\n",
    "and [![Twitter URL](https://img.shields.io/twitter/url/https/twitter.com/ThomasM_geo.svg?style=social&label=Follow%20%40ThomasM_geo)](https://twitter.com/ThomasM_geo) on Twitter \n",
    "\n",
    "\n",
    "### First, let's import some libraries"
   ]
  },
  {
   "cell_type": "code",
   "execution_count": 1,
   "metadata": {
    "id": "QDnDMB1RhO8B"
   },
   "outputs": [
    {
     "name": "stderr",
     "output_type": "stream",
     "text": [
      "/tmp/ipykernel_540/3764414258.py:8: DeprecationWarning: Importing display from IPython.core.display is deprecated since IPython 7.14, please import from IPython display\n",
      "  from IPython.core.display import display, HTML\n"
     ]
    },
    {
     "data": {
      "text/html": [
       "<style>.container { width:90% !important; }</style>"
      ],
      "text/plain": [
       "<IPython.core.display.HTML object>"
      ]
     },
     "metadata": {},
     "output_type": "display_data"
    }
   ],
   "source": [
    "# these three libraries are very, very, common and you will probably import them almost any time you do anything\n",
    "import pandas as pd\n",
    "import matplotlib.pyplot as plt\n",
    "import numpy as np\n",
    "import seaborn as sns\n",
    "\n",
    "# this sets the notebook width to make use of more screen on a widescreen laptop\n",
    "from IPython.core.display import display, HTML\n",
    "display(HTML(\"<style>.container { width:90% !important; }</style>\"))"
   ]
  },
  {
   "cell_type": "markdown",
   "metadata": {
    "id": "8kuj0iaDhO8F"
   },
   "source": [
    "## Import some data\n",
    "We will use a csv file that has lists all the cores in the USGS Core Research Center in Lakewood, CO. I just downloaded it directly from the website and made no changes to it. That's the whole point of all this, which is to work with data you can easily obtain and not spend time manually changing things in Excel. \n",
    "\n",
    "You don't need to do this, but if you want to recreate this dataset, you can download this exact spreadsheet from the [USGS CRC](https://my.usgs.gov/crcwc/). Just click search, don't type anything into the boxes. You should get 16,531 rows (as of Feb 2020), which you can export as a CSV at the bottom of the page. You could do the same things for cuttings by clicking on the cuttings tab (there are 53,456 rows in the cuttings database), but we will just stick with cores for now - 16,000 rows is plenty of data for our first foray into python!\n",
    "\n",
    "If the code to import the data does not work, you can go to [this csv](https://docs.google.com/spreadsheets/d/1fX8ZyF2Pmx7apcBftvWVVOUlPTCRl014cIASIowAVNE/edit?usp=sharing) in Google Drive - open it in Google Sheets, and then click 'Share' in the upper right hand corner. Copy the link, and then paste it below, replacing the `view?usp=sharing` with `export?format=csv`.\n",
    "\n",
    "BTW - if instead you go to the file straight in Google Drive, and copy the link from there rather than inside of Google Sheets, you need to do the import a slightly different way (described in this [stackoverflow post](https://stackoverflow.com/questions/56611698/pandas-how-to-read-csv-file-from-google-drive-public)). Why it is different in Sheets vs, Drive, I do not know..."
   ]
  },
  {
   "cell_type": "code",
   "execution_count": 2,
   "metadata": {
    "id": "TmKCrWSshO8F"
   },
   "outputs": [
    {
     "data": {
      "text/html": [
       "<div>\n",
       "<style scoped>\n",
       "    .dataframe tbody tr th:only-of-type {\n",
       "        vertical-align: middle;\n",
       "    }\n",
       "\n",
       "    .dataframe tbody tr th {\n",
       "        vertical-align: top;\n",
       "    }\n",
       "\n",
       "    .dataframe thead th {\n",
       "        text-align: right;\n",
       "    }\n",
       "</style>\n",
       "<table border=\"1\" class=\"dataframe\">\n",
       "  <thead>\n",
       "    <tr style=\"text-align: right;\">\n",
       "      <th></th>\n",
       "      <th>Twn Num</th>\n",
       "      <th>Twn Dir</th>\n",
       "      <th>Rng Num</th>\n",
       "      <th>Rng Dir</th>\n",
       "      <th>Sec</th>\n",
       "      <th>Quarter</th>\n",
       "      <th>Lib Num</th>\n",
       "      <th>API Num</th>\n",
       "      <th>Operator</th>\n",
       "      <th>Well Name</th>\n",
       "      <th>...</th>\n",
       "      <th>Thin Sec</th>\n",
       "      <th>Analysis</th>\n",
       "      <th>Latitude</th>\n",
       "      <th>Longitude</th>\n",
       "      <th>Source</th>\n",
       "      <th>Security Flag</th>\n",
       "      <th>Formation</th>\n",
       "      <th>Age</th>\n",
       "      <th>Min Depth</th>\n",
       "      <th>Max Depth</th>\n",
       "    </tr>\n",
       "  </thead>\n",
       "  <tbody>\n",
       "    <tr>\n",
       "      <th>0</th>\n",
       "      <td>21.0</td>\n",
       "      <td>S</td>\n",
       "      <td>8.0</td>\n",
       "      <td>E</td>\n",
       "      <td>17.0</td>\n",
       "      <td>SWSW</td>\n",
       "      <td>T645</td>\n",
       "      <td>4.301530e+09</td>\n",
       "      <td>WOLF ENERGY</td>\n",
       "      <td>1-17 ANDOVER FED</td>\n",
       "      <td>...</td>\n",
       "      <td>F</td>\n",
       "      <td>F</td>\n",
       "      <td>38.985290</td>\n",
       "      <td>-111.053300</td>\n",
       "      <td>FROM STATE RECORDS</td>\n",
       "      <td>NO SPECIAL RESTRICTIONS</td>\n",
       "      <td>KAIBAB /LM/</td>\n",
       "      <td>PERM</td>\n",
       "      <td>5147.0</td>\n",
       "      <td>5207.0</td>\n",
       "    </tr>\n",
       "    <tr>\n",
       "      <th>1</th>\n",
       "      <td>157.0</td>\n",
       "      <td>N</td>\n",
       "      <td>91.0</td>\n",
       "      <td>W</td>\n",
       "      <td>7.0</td>\n",
       "      <td>SWNW</td>\n",
       "      <td>T646</td>\n",
       "      <td>3.306100e+09</td>\n",
       "      <td>GARY SAMUEL JR</td>\n",
       "      <td>7-5 JOHNSON</td>\n",
       "      <td>...</td>\n",
       "      <td>F</td>\n",
       "      <td>T</td>\n",
       "      <td>48.439313</td>\n",
       "      <td>-102.492039</td>\n",
       "      <td>FROM STATE RECORDS</td>\n",
       "      <td>NO SPECIAL RESTRICTIONS</td>\n",
       "      <td>RIVAL</td>\n",
       "      <td>MISS</td>\n",
       "      <td>8047.0</td>\n",
       "      <td>8108.0</td>\n",
       "    </tr>\n",
       "  </tbody>\n",
       "</table>\n",
       "<p>2 rows × 25 columns</p>\n",
       "</div>"
      ],
      "text/plain": [
       "   Twn Num Twn Dir  Rng Num Rng Dir   Sec Quarter Lib Num       API Num  \\\n",
       "0     21.0       S      8.0       E  17.0    SWSW    T645  4.301530e+09   \n",
       "1    157.0       N     91.0       W   7.0    SWNW    T646  3.306100e+09   \n",
       "\n",
       "         Operator         Well Name  ... Thin Sec Analysis   Latitude  \\\n",
       "0     WOLF ENERGY  1-17 ANDOVER FED  ...        F        F  38.985290   \n",
       "1  GARY SAMUEL JR       7-5 JOHNSON  ...        F        T  48.439313   \n",
       "\n",
       "    Longitude              Source            Security Flag    Formation   Age  \\\n",
       "0 -111.053300  FROM STATE RECORDS  NO SPECIAL RESTRICTIONS  KAIBAB /LM/  PERM   \n",
       "1 -102.492039  FROM STATE RECORDS  NO SPECIAL RESTRICTIONS        RIVAL  MISS   \n",
       "\n",
       "   Min Depth Max Depth  \n",
       "0     5147.0    5207.0  \n",
       "1     8047.0    8108.0  \n",
       "\n",
       "[2 rows x 25 columns]"
      ]
     },
     "execution_count": 2,
     "metadata": {},
     "output_type": "execute_result"
    }
   ],
   "source": [
    "# import data using pandas\n",
    "\n",
    "# these next two things shuoldnt need to be changed if you set up your Google Drive folder correctly (see Module 1)\n",
    "folder_path = '../1_data/' # makes a path\n",
    "file_name = 'USGS_cores_all.csv' # file name\n",
    "\n",
    "df=pd.read_csv(folder_path + file_name) # uses pandas to read in the csv as a 'DataFrame' called df\n",
    "\n",
    "df.head(2) # show the first two lines"
   ]
  },
  {
   "cell_type": "code",
   "execution_count": 3,
   "metadata": {
    "id": "-Uruhj6LwQPY"
   },
   "outputs": [
    {
     "name": "stdout",
     "output_type": "stream",
     "text": [
      "<class 'pandas.core.frame.DataFrame'>\n",
      "RangeIndex: 16531 entries, 0 to 16530\n",
      "Data columns (total 25 columns):\n",
      " #   Column         Non-Null Count  Dtype  \n",
      "---  ------         --------------  -----  \n",
      " 0   Twn Num        16219 non-null  float64\n",
      " 1   Twn Dir        16176 non-null  object \n",
      " 2   Rng Num        16218 non-null  float64\n",
      " 3   Rng Dir        16175 non-null  object \n",
      " 4   Sec            16212 non-null  float64\n",
      " 5   Quarter        14145 non-null  object \n",
      " 6   Lib Num        16531 non-null  object \n",
      " 7   API Num        13102 non-null  float64\n",
      " 8   Operator       16527 non-null  object \n",
      " 9   Well Name      16529 non-null  object \n",
      " 10  Field          14571 non-null  object \n",
      " 11  Type           16072 non-null  object \n",
      " 12  State          16451 non-null  object \n",
      " 13  County         16530 non-null  object \n",
      " 14  Photos         16531 non-null  object \n",
      " 15  Thin Sec       16531 non-null  object \n",
      " 16  Analysis       16531 non-null  object \n",
      " 17  Latitude       16374 non-null  float64\n",
      " 18  Longitude      16374 non-null  float64\n",
      " 19  Source         16265 non-null  object \n",
      " 20  Security Flag  15795 non-null  object \n",
      " 21  Formation      16204 non-null  object \n",
      " 22  Age            14219 non-null  object \n",
      " 23  Min Depth      16487 non-null  float64\n",
      " 24  Max Depth      16486 non-null  float64\n",
      "dtypes: float64(8), object(17)\n",
      "memory usage: 3.2+ MB\n"
     ]
    }
   ],
   "source": [
    "df.info()"
   ]
  },
  {
   "cell_type": "markdown",
   "metadata": {
    "id": "bkY3vR3dhO8J"
   },
   "source": [
    "### Now let's create a thickness value from the Depth columns to see how thick each core sample is:\n"
   ]
  },
  {
   "cell_type": "code",
   "execution_count": 4,
   "metadata": {
    "id": "tGE_ay9YhO8J"
   },
   "outputs": [],
   "source": [
    "th=df['Max Depth']-df['Min Depth'] # make the variable\n",
    "df['thickness']=th # assign it to a new column in dataframe called thickness"
   ]
  },
  {
   "cell_type": "code",
   "execution_count": 5,
   "metadata": {
    "id": "yi70sTXKjhbH"
   },
   "outputs": [
    {
     "data": {
      "text/plain": [
       "count    16485.000000\n",
       "mean       126.122354\n",
       "std        523.089766\n",
       "min      -6152.000000\n",
       "25%         20.000000\n",
       "50%         41.000000\n",
       "75%         65.000000\n",
       "max      16253.000000\n",
       "Name: thickness, dtype: float64"
      ]
     },
     "execution_count": 5,
     "metadata": {},
     "output_type": "execute_result"
    }
   ],
   "source": [
    "df.thickness.describe()"
   ]
  },
  {
   "cell_type": "markdown",
   "metadata": {
    "id": "ffLDNBVthO8M"
   },
   "source": [
    "A median of 41 feet seems ok, but the mean is 126, so the distribution is extremely log-normal. Notice the max and min are obviously errors in the database. We won't worry about that for now, as we want to check out the bulk statistics of the database. But good to know there may be a few weird values that you would want to filter out. \n",
    "\n",
    "Also, note that there are a few thickness values missing, as the dataframe is 16531 rows and the thickness only has 16485 rows (meaning some rows don't have depth values)."
   ]
  },
  {
   "cell_type": "markdown",
   "metadata": {
    "id": "XXgEhis6hO8f"
   },
   "source": [
    "### Let's look at a CDF to see the thickness values\n",
    "Either there are a lot of really thick cores here, or the depth values are wrong...\n",
    "\n",
    "We will use a library called seaborn (`sns`), which we will leanr a lot more about later, but just appreciate this CDF for now:"
   ]
  },
  {
   "cell_type": "code",
   "execution_count": 6,
   "metadata": {
    "id": "IIWPyBwlhO8f"
   },
   "outputs": [
    {
     "data": {
      "text/plain": [
       "<Axes: xlabel='thickness', ylabel='Density'>"
      ]
     },
     "execution_count": 6,
     "metadata": {},
     "output_type": "execute_result"
    },
    {
     "data": {
      "image/png": "[encoded data removed]",
      "text/plain": [
       "<Figure size 640x480 with 1 Axes>"
      ]
     },
     "metadata": {},
     "output_type": "display_data"
    }
   ],
   "source": [
    "sns.kdeplot(df.thickness,cumulative=True)"
   ]
  },
  {
   "cell_type": "markdown",
   "metadata": {
    "id": "nLcp4dNPHg82"
   },
   "source": [
    "Whoa, ok something is definitely weird with those values - there are a few negative ones, and there are some HUGE ones. Let's filter the data a bit:"
   ]
  },
  {
   "cell_type": "code",
   "execution_count": 7,
   "metadata": {
    "id": "6WXlR-nvHpZ5"
   },
   "outputs": [
    {
     "name": "stdout",
     "output_type": "stream",
     "text": [
      "563 values dropped out of 16531 values\n"
     ]
    }
   ],
   "source": [
    "original_length = len(df)\n",
    "\n",
    "df = df[df.thickness>0]            # get rid of negative values\n",
    "df = df[df.thickness<1000]         # get rid of huge values\n",
    "\n",
    "dropped = original_length - len(df)\n",
    "\n",
    "print(str(dropped)+' values dropped out of '+str(original_length)+' values')"
   ]
  },
  {
   "cell_type": "markdown",
   "metadata": {
    "id": "JtDINAelhO8t"
   },
   "source": [
    "### take one well name and export the data as a csv"
   ]
  },
  {
   "cell_type": "code",
   "execution_count": 8,
   "metadata": {
    "id": "W7XE2CJRhO8t"
   },
   "outputs": [],
   "source": [
    "one_well=df.loc[df['Well Name']=='1 WILLIAMS'] # choose a well name called \"1 WILLIAMS\" (case sensitive)\n",
    "one_well.to_csv('one_well_export.csv') # export just that one well"
   ]
  },
  {
   "cell_type": "markdown",
   "metadata": {
    "id": "dogO-L9uhO8S"
   },
   "source": [
    "## Now let's subset the dataframe to look at only Colorado and Wyoming cores"
   ]
  },
  {
   "cell_type": "code",
   "execution_count": 9,
   "metadata": {
    "id": "_RxpgVudhO8S"
   },
   "outputs": [
    {
     "name": "stdout",
     "output_type": "stream",
     "text": [
      "Formation      State\n",
      "MINNELUSA      WY       506\n",
      "PHOSPHORIA     WY       451\n",
      "MUDDY          WY       444\n",
      "DAKOTA         WY       436\n",
      "FRONTIER       WY       394\n",
      "TENSLEEP       WY       349\n",
      "UNKNOWN        WY       305\n",
      "DAKOTA J       CO       302\n",
      "UNKNOWN        CO       295\n",
      "GREEN RIVER    CO       259\n",
      "TEAPOT         WY       199\n",
      "ALMOND         WY       195\n",
      "MESAVERDE      WY       175\n",
      "DAKOTA D       CO       159\n",
      "PARKMAN        WY       144\n",
      "DAKOTA         CO       126\n",
      "SHANNON        WY       112\n",
      "GREEN RIVER    WY       109\n",
      "NIOBRARA       CO       104\n",
      "MESAVERDE      CO       103\n",
      "SUSSEX         CO       102\n",
      "FORT UNION     WY       101\n",
      "LEWIS          WY        97\n",
      "MOWRY          WY        84\n",
      "WASATCH        WY        80\n",
      "WALL CREEK     WY        69\n",
      "OPECHE         WY        66\n",
      "FRUITLAND      CO        62\n",
      "MADISON        WY        60\n",
      "WILLIAMS FORK  CO        58\n",
      "LANCE          WY        55\n",
      "MANCOS         CO        55\n",
      "SKULL CREEK    WY        53\n",
      "LYONS          CO        51\n",
      "SUSSEX         WY        51\n",
      "LAKOTA         WY        49\n",
      "NUGGET         WY        45\n",
      "MORRISON       CO        45\n",
      "EMBAR          WY        44\n",
      "SUNDANCE       WY        42\n",
      "GRANITE        WY        42\n",
      "MORROW         CO        39\n",
      "DINWOODY       WY        39\n",
      "DESERT CREEK   CO        38\n",
      "TEPEE TRAIL    WY        38\n",
      "TECKLA         WY        37\n",
      "ISMAY          CO        37\n",
      "ERICSON        WY        37\n",
      "CODELL         CO        36\n",
      "NEWCASTLE      WY        36\n",
      "dtype: int64\n"
     ]
    }
   ],
   "source": [
    "cowy=df[df['State'].isin(['CO','WY'])] # it's as easy at that!! \n",
    "\n",
    "# Now let's view the numer of cores grouped by Formation and State\n",
    "tmp=cowy.groupby(['Formation','State']).size()\n",
    "tmp=tmp.sort_values(ascending=False) # sort the values in descending order (i.e., with the largest values at the top)\n",
    "print(tmp[0:50]) # only show the top 50 values"
   ]
  },
  {
   "cell_type": "markdown",
   "metadata": {
    "id": "mQYAcf4lhO8V"
   },
   "source": [
    "### Now you try a groupby of some of the other columns:\n",
    "Maybe By `Age` and `Formation`? Or `State` and `County`? Choose any of the column names, but consider whether they are useful for grouping. For example, depth probably isn't useful here, as each core will have a slightly different depth values, so you would end up with thoussands of groups. "
   ]
  },
  {
   "cell_type": "code",
   "execution_count": 10,
   "metadata": {
    "id": "ybVcsAUfhO8V"
   },
   "outputs": [],
   "source": [
    "# your code here"
   ]
  },
  {
   "cell_type": "markdown",
   "metadata": {
    "id": "M7FX41WjhO8b"
   },
   "source": [
    "### Now let's subset a little more to look at one formation only"
   ]
  },
  {
   "cell_type": "code",
   "execution_count": 11,
   "metadata": {
    "id": "CTsBhRNghO8c"
   },
   "outputs": [
    {
     "name": "stdout",
     "output_type": "stream",
     "text": [
      "there are 368 green river cores\n",
      "there are 368 slabbed green river cores\n"
     ]
    }
   ],
   "source": [
    "Fm_of_interest=cowy.loc[cowy['Formation']=='GREEN RIVER'] # pull only one formation\n",
    "print('there are',len(Fm_of_interest),'green river cores')\n",
    "\n",
    "slab=Fm_of_interest[Fm_of_interest['Type'].isin(['SLABBED'])] # find only slabbed cores (i.e., not whole core or butts)\n",
    "print('there are',len(Fm_of_interest),'slabbed green river cores') "
   ]
  },
  {
   "cell_type": "markdown",
   "metadata": {
    "id": "4WWFNSn-G30g"
   },
   "source": [
    "### And filter the data by one county"
   ]
  },
  {
   "cell_type": "code",
   "execution_count": 12,
   "metadata": {
    "id": "HPqw7nDghO8o"
   },
   "outputs": [
    {
     "name": "stdout",
     "output_type": "stream",
     "text": [
      "There are 109.0 ft of slabbed core in DENVER County\n",
      "There are 3 wells in DENVER County\n",
      "There are 3 slabbed core boxes in DENVER County\n"
     ]
    }
   ],
   "source": [
    "countyname='DENVER' # change this name (case sensitive)\n",
    "\n",
    "c=cowy.loc[cowy['County']==countyname]\n",
    "print('There are',c.thickness.sum(),'ft of slabbed core in',countyname,'County')\n",
    "print('There are',c['Well Name'].unique().size,'wells in',countyname,'County')\n",
    "print('There are',c['Well Name'].size,'slabbed core boxes in',countyname,'County')"
   ]
  },
  {
   "cell_type": "markdown",
   "metadata": {
    "id": "e3If3lvkhO8q"
   },
   "source": [
    "### plot formations with most rows of data\n",
    "We will use seaborn again here, which plays very well with pandas"
   ]
  },
  {
   "cell_type": "code",
   "execution_count": 13,
   "metadata": {
    "id": "gyLFTZzXhO8q"
   },
   "outputs": [
    {
     "data": {
      "image/png": "[encoded data removed]",
      "text/plain": [
       "<Figure size 640x480 with 1 Axes>"
      ]
     },
     "metadata": {},
     "output_type": "display_data"
    }
   ],
   "source": [
    "counts=df['Formation'].value_counts()\n",
    "sns.barplot(y=counts.index[0:20], x=counts.values[0:20])\n",
    "plt.title('Top 20 Formations with the most cores')\n",
    "plt.show()"
   ]
  },
  {
   "cell_type": "markdown",
   "metadata": {
    "id": "nnZSGgzdhO8s"
   },
   "source": [
    "### find total thickness of Lewis cores in Wyoming"
   ]
  },
  {
   "cell_type": "code",
   "execution_count": 14,
   "metadata": {
    "id": "rGp7ErfUhO8s"
   },
   "outputs": [
    {
     "data": {
      "text/plain": [
       "4678.0"
      ]
     },
     "execution_count": 14,
     "metadata": {},
     "output_type": "execute_result"
    }
   ],
   "source": [
    "wy=df[df['State'].isin(['WY'])]\n",
    "lewis=wy[wy['Formation'].isin(['LEWIS'])].sort_values(by='thickness',ascending=False)\n",
    "lewis.thickness.sum()"
   ]
  },
  {
   "cell_type": "markdown",
   "metadata": {
    "id": "-9kmq3ekhO8h"
   },
   "source": [
    "### Now you try \n",
    "\n",
    "Do a groupby of some of the other columns, maybe By `Age` and `Formation`? Or `State` and `County`? Choose any of the column names, but consider whether they are useful for grouping. For example, depth probably isn't useful here, as each core will have a slightly different depth values, so you would end up with thousands of groups. \n",
    "\n",
    "You can use the `cowy` variable or make a new one with a different state...\n",
    "\n",
    "Finally, export what you did as a csv."
   ]
  },
  {
   "cell_type": "code",
   "execution_count": 15,
   "metadata": {
    "id": "geHEy_bghO8h"
   },
   "outputs": [],
   "source": [
    "# your code here"
   ]
  },
  {
   "cell_type": "markdown",
   "metadata": {
    "id": "4E9lkFAJqv1s"
   },
   "source": [
    "![Done](https://media1.tenor.com/images/2482cef47746e746a0b8c7e1af3b0e6e/tenor.gif?itemid=7907909)"
   ]
  }
 ],
 "metadata": {
  "colab": {
   "collapsed_sections": [],
   "provenance": []
  },
  "kernelspec": {
   "display_name": "Python [conda env:csm-2024-fall]",
   "language": "python",
   "name": "conda-env-csm-2024-fall-py"
  },
  "language_info": {
   "codemirror_mode": {
    "name": "ipython",
    "version": 3
   },
   "file_extension": ".py",
   "mimetype": "text/x-python",
   "name": "python",
   "nbconvert_exporter": "python",
   "pygments_lexer": "ipython3",
   "version": "3.11.10"
  }
 },
 "nbformat": 4,
 "nbformat_minor": 4
}

{
 "cells": [
  {
   "cell_type": "markdown",
   "metadata": {
    "id": "Q801KttGPsAp"
   },
   "source": [
    "# Module 3 | Loading in Geoscientific data"
   ]
  },
  {
   "cell_type": "markdown",
   "metadata": {
    "id": "21eyXms-PrGO"
   },
   "source": [
    "Hello! In this module we will load in some geo-whatever data into python for future use."
   ]
  },
  {
   "cell_type": "code",
   "execution_count": null,
   "metadata": {
    "id": "5SvXmU-Bg-Wu",
    "tags": []
   },
   "outputs": [],
   "source": [
    "import pandas as pd\n",
    "import numpy as np\n",
    "\n",
    "import matplotlib.pyplot as plt"
   ]
  },
  {
   "cell_type": "markdown",
   "metadata": {
    "id": "IqDbRb9Bhd4Z"
   },
   "source": [
    "## Reading in a .las file"
   ]
  },
  {
   "cell_type": "markdown",
   "metadata": {
    "id": "2DKYllg4SxDl"
   },
   "source": [
    ".las files are common for downhole geophysical measurements (gamma ray, deep resistivity). They are commonly used in the oil and gas industry, but also used in enviromental and mining industries. To open up this file type, we will install a package called lasio, that will handle I/O."
   ]
  },
  {
   "cell_type": "code",
   "execution_count": null,
   "metadata": {
    "id": "FVUzqYolhtAh",
    "tags": []
   },
   "outputs": [],
   "source": [
    "import lasio"
   ]
  },
  {
   "cell_type": "code",
   "execution_count": null,
   "metadata": {
    "tags": []
   },
   "outputs": [],
   "source": [
    "lasfile = '../1_data/561689E.las'"
   ]
  },
  {
   "cell_type": "code",
   "execution_count": null,
   "metadata": {
    "id": "JvrYY0ULhgXo",
    "tags": []
   },
   "outputs": [],
   "source": [
    "las = lasio.read(lasfile)"
   ]
  },
  {
   "cell_type": "markdown",
   "metadata": {
    "id": "MyMwg_HvYv__"
   },
   "source": [
    "In one line, we can convert the las object to a dataframe!"
   ]
  },
  {
   "cell_type": "code",
   "execution_count": null,
   "metadata": {
    "id": "7d0EM532hnlh",
    "tags": []
   },
   "outputs": [],
   "source": [
    "df = las.df()"
   ]
  },
  {
   "cell_type": "code",
   "execution_count": null,
   "metadata": {
    "colab": {
     "base_uri": "https://localhost:8080/",
     "height": 470
    },
    "id": "jGrzd1sth4GV",
    "outputId": "75109ef9-9efa-4d88-fc8f-1e4ae22858ef",
    "tags": []
   },
   "outputs": [],
   "source": [
    "df"
   ]
  },
  {
   "cell_type": "markdown",
   "metadata": {
    "id": "IpfPZUDJZGyX"
   },
   "source": [
    "Once the well data is loaded into a data frame, you can export it as a .csv, a JSON, or other pythontic functions. If your interested in using well logs further, check out the turtorial on the github."
   ]
  },
  {
   "cell_type": "markdown",
   "metadata": {
    "id": "TQvD4tmth9WN"
   },
   "source": [
    "## Reading in USGS River Data"
   ]
  },
  {
   "cell_type": "markdown",
   "metadata": {
    "id": "MZMlRhfzlghf"
   },
   "source": [
    "USGS has river data from everywhere, we will load in some USGS data from Western Colorado. There are two files, discharge and temperature. Link to the data is [here](https://waterdata.usgs.gov/co/nwis/inventory/?site_no=09070500). The file has a header that is commented with a # infront of it. There are two ways we can handle this. The other small change I did was to make these files a .txt file."
   ]
  },
  {
   "cell_type": "markdown",
   "metadata": {
    "id": "5lMhuRVnbBU8"
   },
   "source": [
    "#### USGS Temperature Data"
   ]
  },
  {
   "cell_type": "code",
   "execution_count": null,
   "metadata": {
    "id": "rCFsymGWtJox",
    "tags": []
   },
   "outputs": [],
   "source": [
    "rowskip = np.arange(0,35)\n",
    "rowskip = rowskip.tolist()\n",
    "rowskip.append(36)\n",
    "# rowskip # uncomment if you want to qc the output"
   ]
  },
  {
   "cell_type": "code",
   "execution_count": null,
   "metadata": {
    "id": "mijcRXtktTRZ",
    "tags": []
   },
   "outputs": [],
   "source": [
    "folder = '../1_data/'\n",
    "usgs_temp = 'monthly_temp.txt'"
   ]
  },
  {
   "cell_type": "code",
   "execution_count": null,
   "metadata": {
    "id": "5THS3NKSh_51",
    "tags": []
   },
   "outputs": [],
   "source": [
    "df_temp = pd.read_csv(folder + usgs_temp, skiprows=rowskip, sep = \"\\t\")"
   ]
  },
  {
   "cell_type": "code",
   "execution_count": null,
   "metadata": {
    "colab": {
     "base_uri": "https://localhost:8080/",
     "height": 204
    },
    "id": "QwsycIFIjDeB",
    "outputId": "2c3e6195-b948-4dbb-8de8-2b1a00938d41",
    "tags": []
   },
   "outputs": [],
   "source": [
    "df_temp.head()"
   ]
  },
  {
   "cell_type": "markdown",
   "metadata": {
    "id": "Uw0dFyKsbLHX"
   },
   "source": [
    "#### USGS Discharge data"
   ]
  },
  {
   "cell_type": "markdown",
   "metadata": {
    "id": "mOILf1HQeBBj"
   },
   "source": [
    "Let's load in the discharge data"
   ]
  },
  {
   "cell_type": "code",
   "execution_count": null,
   "metadata": {
    "id": "-GbFaOnEbPVQ",
    "tags": []
   },
   "outputs": [],
   "source": [
    "usgs_discharge = '../1_data/monthly_distcharge.txt'"
   ]
  },
  {
   "cell_type": "code",
   "execution_count": null,
   "metadata": {
    "id": "9PCI0s8teE8z",
    "tags": []
   },
   "outputs": [],
   "source": [
    "df_dist = pd.read_csv(usgs_discharge, sep='\\s+', comment=\"#\", header=0, skiprows=[1])"
   ]
  },
  {
   "cell_type": "code",
   "execution_count": null,
   "metadata": {
    "colab": {
     "base_uri": "https://localhost:8080/",
     "height": 204
    },
    "id": "THnm2GHPeZ8X",
    "outputId": "13a00826-a151-4fc2-c29a-3d456bd58498",
    "tags": []
   },
   "outputs": [],
   "source": [
    "df_dist.head()"
   ]
  },
  {
   "cell_type": "markdown",
   "metadata": {},
   "source": [
    "# GeoTif Read in "
   ]
  },
  {
   "cell_type": "markdown",
   "metadata": {},
   "source": [
    "This GeoTif file is from [here](https://www.sciencebase.gov/catalog/item/53f5a87ae4b09d12e0e8547b) provided by USGS.\n",
    "\n",
    "When working with GeoTIFFs in the Python ecosystem, particularly using xarray and rioxarray, you gain powerful capabilities for handling geospatial data. These libraries typically load GeoTIFFs as DataArrays with dimensions like (band, y, x), where each band represents a distinct data layer such as spectral bands, time series, or different data types. Rioxarray extends xarray's functionality by preserving crucial geospatial metadata, including coordinate reference systems (CRS) and geotransforms, which are essential for accurate spatial analysis and visualization. This integration with Python's broader scientific computing ecosystem (numpy, scipy, scikit-image) enables efficient processing of the numerical data within GeoTIFFs, facilitating operations like band math, filtering, and image classification. Moreover, xarray's labeled dimensions and coordinates allow for easy slicing, aggregation, and analysis of GeoTIFF data based on spatial or temporal dimensions, making it particularly powerful for applications in Earth observation and climate studies."
   ]
  },
  {
   "cell_type": "markdown",
   "metadata": {},
   "source": [
    "#### Work through the xarray tutorial in notebook 3_2"
   ]
  },
  {
   "cell_type": "code",
   "execution_count": null,
   "metadata": {},
   "outputs": [],
   "source": [
    "!pip install rioxarray"
   ]
  },
  {
   "cell_type": "code",
   "execution_count": null,
   "metadata": {
    "id": "4Qt1xdGvWK6K"
   },
   "outputs": [],
   "source": [
    "import rioxarray\n",
    "\n",
    "# Replace this with the actual path to your file\n",
    "file_path = \"../1_data/FAA_UTM18N_NAD83.tif\"\n",
    "\n",
    "# Open the file\n",
    "data = rioxarray.open_rasterio(file_path)\n",
    "\n",
    "# Now you can work with the data\n",
    "data"
   ]
  },
  {
   "cell_type": "code",
   "execution_count": null,
   "metadata": {},
   "outputs": [],
   "source": [
    "# Ensure data is in the correct shape for imshow\n",
    "rgb_data = np.transpose(data.values, (1, 2, 0))\n",
    "\n",
    "# Normalize the data to 0-1 range for each band\n",
    "rgb_data = rgb_data.astype(np.float32)\n",
    "for i in range(3):\n",
    "    band = rgb_data[:,:,i]\n",
    "    min_val, max_val = np.nanmin(band), np.nanmax(band)\n",
    "    rgb_data[:,:,i] = (band - min_val) / (max_val - min_val)\n",
    "\n",
    "# Clip values to 0-1 range\n",
    "rgb_data = np.clip(rgb_data, 0, 1)\n",
    "\n",
    "# Create the plot\n",
    "plt.figure(figsize=(10, 8))\n",
    "plt.imshow(rgb_data)\n",
    "plt.title(\"3-Band GeoTIFF Visualization\")\n",
    "plt.axis('off')  # Turn off axis\n",
    "plt.show()"
   ]
  },
  {
   "cell_type": "markdown",
   "metadata": {
    "id": "b-k4i2FiBE2m"
   },
   "source": [
    "# Questions"
   ]
  },
  {
   "cell_type": "markdown",
   "metadata": {
    "id": "xjolnBhpBJP7"
   },
   "source": [
    "Using a combination of code and text boxes, please answer the following questions:"
   ]
  },
  {
   "cell_type": "markdown",
   "metadata": {
    "id": "hsoWROMbET0T"
   },
   "source": [
    "#### 0. When would you use xarray (or rioxarray) compared to pandas?"
   ]
  },
  {
   "cell_type": "markdown",
   "metadata": {
    "id": "tJpVQqqfBQna"
   },
   "source": [
    "#### 1. Load in a data file from your research or independent project? Does it require a package (like lasio or obspy)? After you have loaded it in, can you make it into a pandas dataframe easily? If not, why?"
   ]
  },
  {
   "cell_type": "markdown",
   "metadata": {
    "id": "WO6peuneBRAS"
   },
   "source": [
    "#### 2. Do you like using packages to load in data, or would you prefer something else?"
   ]
  },
  {
   "cell_type": "markdown",
   "metadata": {
    "id": "jhICJKbOBp5S"
   },
   "source": [
    "#### 3. Does using python change how you want to create and store data?"
   ]
  },
  {
   "cell_type": "markdown",
   "metadata": {
    "id": "L1Qjc8dmCKx4"
   },
   "source": [
    "#### 4. How is data storage handled in your research group or job? Could it be done better (in the context of python)?"
   ]
  },
  {
   "cell_type": "markdown",
   "metadata": {
    "id": "uoSz6M-aFCeF"
   },
   "source": [
    "#### 5. Out of loading the two USGS river data files, which made more sense?"
   ]
  },
  {
   "cell_type": "markdown",
   "metadata": {
    "id": "3sww4tbfCZOx"
   },
   "source": [
    "#### 6. Bonus. Is there a geo-data format that you wanted to load into python, but could not?"
   ]
  }
 ],
 "metadata": {
  "colab": {
   "provenance": [],
   "toc_visible": true
  },
  "kernelspec": {
   "display_name": "Python [conda env:csm-2024-fall]",
   "language": "python",
   "name": "conda-env-csm-2024-fall-py"
  },
  "language_info": {
   "codemirror_mode": {
    "name": "ipython",
    "version": 3
   },
   "file_extension": ".py",
   "mimetype": "text/x-python",
   "name": "python",
   "nbconvert_exporter": "python",
   "pygments_lexer": "ipython3",
   "version": "3.11.10"
  }
 },
 "nbformat": 4,
 "nbformat_minor": 4
}

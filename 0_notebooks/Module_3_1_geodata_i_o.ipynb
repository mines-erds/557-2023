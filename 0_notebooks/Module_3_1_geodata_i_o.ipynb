{
 "cells": [
  {
   "cell_type": "markdown",
   "metadata": {
    "id": "Q801KttGPsAp"
   },
   "source": [
    "# Module 3 | Loading in Geoscientific data"
   ]
  },
  {
   "cell_type": "markdown",
   "metadata": {
    "id": "21eyXms-PrGO"
   },
   "source": [
    "Hello! In this module we will load in some geo-whatever data into python for future use."
   ]
  },
  {
   "cell_type": "code",
   "execution_count": 1,
   "metadata": {
    "id": "5SvXmU-Bg-Wu",
    "tags": []
   },
   "outputs": [],
   "source": [
    "import pandas as pd\n",
    "import numpy as np\n",
    "\n",
    "import matplotlib.pyplot as plt"
   ]
  },
  {
   "cell_type": "markdown",
   "metadata": {
    "id": "IqDbRb9Bhd4Z"
   },
   "source": [
    "## Reading in a .las file"
   ]
  },
  {
   "cell_type": "markdown",
   "metadata": {
    "id": "2DKYllg4SxDl"
   },
   "source": [
    ".las files are common for downhole geophysical measurements (gamma ray, deep resistivity). They are commonly used in the oil and gas industry, but also used in enviromental and mining industries. To open up this file type, we will install a package called lasio, that will handle I/O."
   ]
  },
  {
   "cell_type": "code",
   "execution_count": null,
   "metadata": {
    "id": "FVUzqYolhtAh",
    "tags": []
   },
   "outputs": [],
   "source": [
    "import lasio"
   ]
  },
  {
   "cell_type": "code",
   "execution_count": null,
   "metadata": {
    "tags": []
   },
   "outputs": [],
   "source": [
    "lasfile = '../1_data/561689E.las'"
   ]
  },
  {
   "cell_type": "code",
   "execution_count": null,
   "metadata": {
    "id": "JvrYY0ULhgXo",
    "tags": []
   },
   "outputs": [],
   "source": [
    "las = lasio.read(lasfile)"
   ]
  },
  {
   "cell_type": "markdown",
   "metadata": {
    "id": "MyMwg_HvYv__"
   },
   "source": [
    "In one line, we can convert the las object to a dataframe!"
   ]
  },
  {
   "cell_type": "code",
   "execution_count": null,
   "metadata": {
    "id": "7d0EM532hnlh",
    "tags": []
   },
   "outputs": [],
   "source": [
    "df = las.df()"
   ]
  },
  {
   "cell_type": "code",
   "execution_count": null,
   "metadata": {
    "colab": {
     "base_uri": "https://localhost:8080/",
     "height": 470
    },
    "id": "jGrzd1sth4GV",
    "outputId": "75109ef9-9efa-4d88-fc8f-1e4ae22858ef",
    "tags": []
   },
   "outputs": [],
   "source": [
    "df"
   ]
  },
  {
   "cell_type": "markdown",
   "metadata": {
    "id": "IpfPZUDJZGyX"
   },
   "source": [
    "Once the well data is loaded into a data frame, you can export it as a .csv, a JSON, or other pythontic functions. If your interested in using well logs further, check out the turtorial on the github."
   ]
  },
  {
   "cell_type": "markdown",
   "metadata": {
    "id": "TQvD4tmth9WN"
   },
   "source": [
    "## Reading in USGS River Data"
   ]
  },
  {
   "cell_type": "markdown",
   "metadata": {
    "id": "MZMlRhfzlghf"
   },
   "source": [
    "USGS has river data from everywhere, we will load in some USGS data from Western Colorado. There are two files, discharge and temperature. Link to the data is [here](https://waterdata.usgs.gov/co/nwis/inventory/?site_no=09070500). The file has a header that is commented with a # infront of it. There are two ways we can handle this. The other small change I did was to make these files a .txt file."
   ]
  },
  {
   "cell_type": "markdown",
   "metadata": {
    "id": "5lMhuRVnbBU8"
   },
   "source": [
    "#### USGS Temperature Data"
   ]
  },
  {
   "cell_type": "code",
   "execution_count": null,
   "metadata": {
    "id": "rCFsymGWtJox",
    "tags": []
   },
   "outputs": [],
   "source": [
    "rowskip = np.arange(0,35)\n",
    "rowskip = rowskip.tolist()\n",
    "rowskip.append(36)\n",
    "# rowskip # uncomment if you want to qc the output"
   ]
  },
  {
   "cell_type": "code",
   "execution_count": null,
   "metadata": {
    "id": "mijcRXtktTRZ",
    "tags": []
   },
   "outputs": [],
   "source": [
    "folder = '../1_data/'\n",
    "usgs_temp = 'monthly_temp.txt'"
   ]
  },
  {
   "cell_type": "code",
   "execution_count": null,
   "metadata": {
    "id": "5THS3NKSh_51",
    "tags": []
   },
   "outputs": [],
   "source": [
    "df_temp = pd.read_csv(folder + usgs_temp, skiprows=rowskip, sep = \"\\t\")"
   ]
  },
  {
   "cell_type": "code",
   "execution_count": null,
   "metadata": {
    "colab": {
     "base_uri": "https://localhost:8080/",
     "height": 204
    },
    "id": "QwsycIFIjDeB",
    "outputId": "2c3e6195-b948-4dbb-8de8-2b1a00938d41",
    "tags": []
   },
   "outputs": [],
   "source": [
    "df_temp.head()"
   ]
  },
  {
   "cell_type": "markdown",
   "metadata": {
    "id": "Uw0dFyKsbLHX"
   },
   "source": [
    "#### USGS Discharge data"
   ]
  },
  {
   "cell_type": "markdown",
   "metadata": {
    "id": "mOILf1HQeBBj"
   },
   "source": [
    "Let's load in the discharge data"
   ]
  },
  {
   "cell_type": "code",
   "execution_count": null,
   "metadata": {
    "id": "-GbFaOnEbPVQ",
    "tags": []
   },
   "outputs": [],
   "source": [
    "usgs_discharge = '../1_data/monthly_distcharge.txt'"
   ]
  },
  {
   "cell_type": "code",
   "execution_count": null,
   "metadata": {
    "id": "9PCI0s8teE8z",
    "tags": []
   },
   "outputs": [],
   "source": [
    "df_dist = pd.read_csv(usgs_discharge, sep='\\s+', comment=\"#\", header=0, skiprows=[1])"
   ]
  },
  {
   "cell_type": "code",
   "execution_count": null,
   "metadata": {
    "colab": {
     "base_uri": "https://localhost:8080/",
     "height": 204
    },
    "id": "THnm2GHPeZ8X",
    "outputId": "13a00826-a151-4fc2-c29a-3d456bd58498",
    "tags": []
   },
   "outputs": [],
   "source": [
    "df_dist.head()"
   ]
  },
  {
   "cell_type": "markdown",
   "metadata": {},
   "source": [
    "# GeoTif Read in "
   ]
  },
  {
   "cell_type": "markdown",
   "metadata": {},
   "source": [
    "This GeoTif file is from [here](https://www.sciencebase.gov/catalog/item/53f5a87ae4b09d12e0e8547b) provided by USGS.\n",
    "\n",
    "When working with GeoTIFFs in the Python ecosystem, particularly using xarray and rioxarray, you gain powerful capabilities for handling geospatial data. These libraries typically load GeoTIFFs as DataArrays with dimensions like (band, y, x), where each band represents a distinct data layer such as spectral bands, time series, or different data types. Rioxarray extends xarray's functionality by preserving crucial geospatial metadata, including coordinate reference systems (CRS) and geotransforms, which are essential for accurate spatial analysis and visualization. This integration with Python's broader scientific computing ecosystem (numpy, scipy, scikit-image) enables efficient processing of the numerical data within GeoTIFFs, facilitating operations like band math, filtering, and image classification. Moreover, xarray's labeled dimensions and coordinates allow for easy slicing, aggregation, and analysis of GeoTIFF data based on spatial or temporal dimensions, making it particularly powerful for applications in Earth observation and climate studies."
   ]
  },
  {
   "cell_type": "markdown",
   "metadata": {},
   "source": [
    "#### Work through the xarray tutorial in notebook 3_2"
   ]
  },
  {
   "cell_type": "code",
   "execution_count": 2,
   "metadata": {
    "id": "4Qt1xdGvWK6K"
   },
   "outputs": [
    {
     "data": {
      "text/html": [
       "<div><svg style=\"position: absolute; width: 0; height: 0; overflow: hidden\">\n",
       "<defs>\n",
       "<symbol id=\"icon-database\" viewBox=\"0 0 32 32\">\n",
       "<path d=\"M16 0c-8.837 0-16 2.239-16 5v4c0 2.761 7.163 5 16 5s16-2.239 16-5v-4c0-2.761-7.163-5-16-5z\"></path>\n",
       "<path d=\"M16 17c-8.837 0-16-2.239-16-5v6c0 2.761 7.163 5 16 5s16-2.239 16-5v-6c0 2.761-7.163 5-16 5z\"></path>\n",
       "<path d=\"M16 26c-8.837 0-16-2.239-16-5v6c0 2.761 7.163 5 16 5s16-2.239 16-5v-6c0 2.761-7.163 5-16 5z\"></path>\n",
       "</symbol>\n",
       "<symbol id=\"icon-file-text2\" viewBox=\"0 0 32 32\">\n",
       "<path d=\"M28.681 7.159c-0.694-0.947-1.662-2.053-2.724-3.116s-2.169-2.030-3.116-2.724c-1.612-1.182-2.393-1.319-2.841-1.319h-15.5c-1.378 0-2.5 1.121-2.5 2.5v27c0 1.378 1.122 2.5 2.5 2.5h23c1.378 0 2.5-1.122 2.5-2.5v-19.5c0-0.448-0.137-1.23-1.319-2.841zM24.543 5.457c0.959 0.959 1.712 1.825 2.268 2.543h-4.811v-4.811c0.718 0.556 1.584 1.309 2.543 2.268zM28 29.5c0 0.271-0.229 0.5-0.5 0.5h-23c-0.271 0-0.5-0.229-0.5-0.5v-27c0-0.271 0.229-0.5 0.5-0.5 0 0 15.499-0 15.5 0v7c0 0.552 0.448 1 1 1h7v19.5z\"></path>\n",
       "<path d=\"M23 26h-14c-0.552 0-1-0.448-1-1s0.448-1 1-1h14c0.552 0 1 0.448 1 1s-0.448 1-1 1z\"></path>\n",
       "<path d=\"M23 22h-14c-0.552 0-1-0.448-1-1s0.448-1 1-1h14c0.552 0 1 0.448 1 1s-0.448 1-1 1z\"></path>\n",
       "<path d=\"M23 18h-14c-0.552 0-1-0.448-1-1s0.448-1 1-1h14c0.552 0 1 0.448 1 1s-0.448 1-1 1z\"></path>\n",
       "</symbol>\n",
       "</defs>\n",
       "</svg>\n",
       "<style>/* CSS stylesheet for displaying xarray objects in jupyterlab.\n",
       " *\n",
       " */\n",
       "\n",
       ":root {\n",
       "  --xr-font-color0: var(--jp-content-font-color0, rgba(0, 0, 0, 1));\n",
       "  --xr-font-color2: var(--jp-content-font-color2, rgba(0, 0, 0, 0.54));\n",
       "  --xr-font-color3: var(--jp-content-font-color3, rgba(0, 0, 0, 0.38));\n",
       "  --xr-border-color: var(--jp-border-color2, #e0e0e0);\n",
       "  --xr-disabled-color: var(--jp-layout-color3, #bdbdbd);\n",
       "  --xr-background-color: var(--jp-layout-color0, white);\n",
       "  --xr-background-color-row-even: var(--jp-layout-color1, white);\n",
       "  --xr-background-color-row-odd: var(--jp-layout-color2, #eeeeee);\n",
       "}\n",
       "\n",
       "html[theme=dark],\n",
       "body[data-theme=dark],\n",
       "body.vscode-dark {\n",
       "  --xr-font-color0: rgba(255, 255, 255, 1);\n",
       "  --xr-font-color2: rgba(255, 255, 255, 0.54);\n",
       "  --xr-font-color3: rgba(255, 255, 255, 0.38);\n",
       "  --xr-border-color: #1F1F1F;\n",
       "  --xr-disabled-color: #515151;\n",
       "  --xr-background-color: #111111;\n",
       "  --xr-background-color-row-even: #111111;\n",
       "  --xr-background-color-row-odd: #313131;\n",
       "}\n",
       "\n",
       ".xr-wrap {\n",
       "  display: block !important;\n",
       "  min-width: 300px;\n",
       "  max-width: 700px;\n",
       "}\n",
       "\n",
       ".xr-text-repr-fallback {\n",
       "  /* fallback to plain text repr when CSS is not injected (untrusted notebook) */\n",
       "  display: none;\n",
       "}\n",
       "\n",
       ".xr-header {\n",
       "  padding-top: 6px;\n",
       "  padding-bottom: 6px;\n",
       "  margin-bottom: 4px;\n",
       "  border-bottom: solid 1px var(--xr-border-color);\n",
       "}\n",
       "\n",
       ".xr-header > div,\n",
       ".xr-header > ul {\n",
       "  display: inline;\n",
       "  margin-top: 0;\n",
       "  margin-bottom: 0;\n",
       "}\n",
       "\n",
       ".xr-obj-type,\n",
       ".xr-array-name {\n",
       "  margin-left: 2px;\n",
       "  margin-right: 10px;\n",
       "}\n",
       "\n",
       ".xr-obj-type {\n",
       "  color: var(--xr-font-color2);\n",
       "}\n",
       "\n",
       ".xr-sections {\n",
       "  padding-left: 0 !important;\n",
       "  display: grid;\n",
       "  grid-template-columns: 150px auto auto 1fr 20px 20px;\n",
       "}\n",
       "\n",
       ".xr-section-item {\n",
       "  display: contents;\n",
       "}\n",
       "\n",
       ".xr-section-item input {\n",
       "  display: none;\n",
       "}\n",
       "\n",
       ".xr-section-item input + label {\n",
       "  color: var(--xr-disabled-color);\n",
       "}\n",
       "\n",
       ".xr-section-item input:enabled + label {\n",
       "  cursor: pointer;\n",
       "  color: var(--xr-font-color2);\n",
       "}\n",
       "\n",
       ".xr-section-item input:enabled + label:hover {\n",
       "  color: var(--xr-font-color0);\n",
       "}\n",
       "\n",
       ".xr-section-summary {\n",
       "  grid-column: 1;\n",
       "  color: var(--xr-font-color2);\n",
       "  font-weight: 500;\n",
       "}\n",
       "\n",
       ".xr-section-summary > span {\n",
       "  display: inline-block;\n",
       "  padding-left: 0.5em;\n",
       "}\n",
       "\n",
       ".xr-section-summary-in:disabled + label {\n",
       "  color: var(--xr-font-color2);\n",
       "}\n",
       "\n",
       ".xr-section-summary-in + label:before {\n",
       "  display: inline-block;\n",
       "  content: '►';\n",
       "  font-size: 11px;\n",
       "  width: 15px;\n",
       "  text-align: center;\n",
       "}\n",
       "\n",
       ".xr-section-summary-in:disabled + label:before {\n",
       "  color: var(--xr-disabled-color);\n",
       "}\n",
       "\n",
       ".xr-section-summary-in:checked + label:before {\n",
       "  content: '▼';\n",
       "}\n",
       "\n",
       ".xr-section-summary-in:checked + label > span {\n",
       "  display: none;\n",
       "}\n",
       "\n",
       ".xr-section-summary,\n",
       ".xr-section-inline-details {\n",
       "  padding-top: 4px;\n",
       "  padding-bottom: 4px;\n",
       "}\n",
       "\n",
       ".xr-section-inline-details {\n",
       "  grid-column: 2 / -1;\n",
       "}\n",
       "\n",
       ".xr-section-details {\n",
       "  display: none;\n",
       "  grid-column: 1 / -1;\n",
       "  margin-bottom: 5px;\n",
       "}\n",
       "\n",
       ".xr-section-summary-in:checked ~ .xr-section-details {\n",
       "  display: contents;\n",
       "}\n",
       "\n",
       ".xr-array-wrap {\n",
       "  grid-column: 1 / -1;\n",
       "  display: grid;\n",
       "  grid-template-columns: 20px auto;\n",
       "}\n",
       "\n",
       ".xr-array-wrap > label {\n",
       "  grid-column: 1;\n",
       "  vertical-align: top;\n",
       "}\n",
       "\n",
       ".xr-preview {\n",
       "  color: var(--xr-font-color3);\n",
       "}\n",
       "\n",
       ".xr-array-preview,\n",
       ".xr-array-data {\n",
       "  padding: 0 5px !important;\n",
       "  grid-column: 2;\n",
       "}\n",
       "\n",
       ".xr-array-data,\n",
       ".xr-array-in:checked ~ .xr-array-preview {\n",
       "  display: none;\n",
       "}\n",
       "\n",
       ".xr-array-in:checked ~ .xr-array-data,\n",
       ".xr-array-preview {\n",
       "  display: inline-block;\n",
       "}\n",
       "\n",
       ".xr-dim-list {\n",
       "  display: inline-block !important;\n",
       "  list-style: none;\n",
       "  padding: 0 !important;\n",
       "  margin: 0;\n",
       "}\n",
       "\n",
       ".xr-dim-list li {\n",
       "  display: inline-block;\n",
       "  padding: 0;\n",
       "  margin: 0;\n",
       "}\n",
       "\n",
       ".xr-dim-list:before {\n",
       "  content: '(';\n",
       "}\n",
       "\n",
       ".xr-dim-list:after {\n",
       "  content: ')';\n",
       "}\n",
       "\n",
       ".xr-dim-list li:not(:last-child):after {\n",
       "  content: ',';\n",
       "  padding-right: 5px;\n",
       "}\n",
       "\n",
       ".xr-has-index {\n",
       "  font-weight: bold;\n",
       "}\n",
       "\n",
       ".xr-var-list,\n",
       ".xr-var-item {\n",
       "  display: contents;\n",
       "}\n",
       "\n",
       ".xr-var-item > div,\n",
       ".xr-var-item label,\n",
       ".xr-var-item > .xr-var-name span {\n",
       "  background-color: var(--xr-background-color-row-even);\n",
       "  margin-bottom: 0;\n",
       "}\n",
       "\n",
       ".xr-var-item > .xr-var-name:hover span {\n",
       "  padding-right: 5px;\n",
       "}\n",
       "\n",
       ".xr-var-list > li:nth-child(odd) > div,\n",
       ".xr-var-list > li:nth-child(odd) > label,\n",
       ".xr-var-list > li:nth-child(odd) > .xr-var-name span {\n",
       "  background-color: var(--xr-background-color-row-odd);\n",
       "}\n",
       "\n",
       ".xr-var-name {\n",
       "  grid-column: 1;\n",
       "}\n",
       "\n",
       ".xr-var-dims {\n",
       "  grid-column: 2;\n",
       "}\n",
       "\n",
       ".xr-var-dtype {\n",
       "  grid-column: 3;\n",
       "  text-align: right;\n",
       "  color: var(--xr-font-color2);\n",
       "}\n",
       "\n",
       ".xr-var-preview {\n",
       "  grid-column: 4;\n",
       "}\n",
       "\n",
       ".xr-index-preview {\n",
       "  grid-column: 2 / 5;\n",
       "  color: var(--xr-font-color2);\n",
       "}\n",
       "\n",
       ".xr-var-name,\n",
       ".xr-var-dims,\n",
       ".xr-var-dtype,\n",
       ".xr-preview,\n",
       ".xr-attrs dt {\n",
       "  white-space: nowrap;\n",
       "  overflow: hidden;\n",
       "  text-overflow: ellipsis;\n",
       "  padding-right: 10px;\n",
       "}\n",
       "\n",
       ".xr-var-name:hover,\n",
       ".xr-var-dims:hover,\n",
       ".xr-var-dtype:hover,\n",
       ".xr-attrs dt:hover {\n",
       "  overflow: visible;\n",
       "  width: auto;\n",
       "  z-index: 1;\n",
       "}\n",
       "\n",
       ".xr-var-attrs,\n",
       ".xr-var-data,\n",
       ".xr-index-data {\n",
       "  display: none;\n",
       "  background-color: var(--xr-background-color) !important;\n",
       "  padding-bottom: 5px !important;\n",
       "}\n",
       "\n",
       ".xr-var-attrs-in:checked ~ .xr-var-attrs,\n",
       ".xr-var-data-in:checked ~ .xr-var-data,\n",
       ".xr-index-data-in:checked ~ .xr-index-data {\n",
       "  display: block;\n",
       "}\n",
       "\n",
       ".xr-var-data > table {\n",
       "  float: right;\n",
       "}\n",
       "\n",
       ".xr-var-name span,\n",
       ".xr-var-data,\n",
       ".xr-index-name div,\n",
       ".xr-index-data,\n",
       ".xr-attrs {\n",
       "  padding-left: 25px !important;\n",
       "}\n",
       "\n",
       ".xr-attrs,\n",
       ".xr-var-attrs,\n",
       ".xr-var-data,\n",
       ".xr-index-data {\n",
       "  grid-column: 1 / -1;\n",
       "}\n",
       "\n",
       "dl.xr-attrs {\n",
       "  padding: 0;\n",
       "  margin: 0;\n",
       "  display: grid;\n",
       "  grid-template-columns: 125px auto;\n",
       "}\n",
       "\n",
       ".xr-attrs dt,\n",
       ".xr-attrs dd {\n",
       "  padding: 0;\n",
       "  margin: 0;\n",
       "  float: left;\n",
       "  padding-right: 10px;\n",
       "  width: auto;\n",
       "}\n",
       "\n",
       ".xr-attrs dt {\n",
       "  font-weight: normal;\n",
       "  grid-column: 1;\n",
       "}\n",
       "\n",
       ".xr-attrs dt:hover span {\n",
       "  display: inline-block;\n",
       "  background: var(--xr-background-color);\n",
       "  padding-right: 10px;\n",
       "}\n",
       "\n",
       ".xr-attrs dd {\n",
       "  grid-column: 2;\n",
       "  white-space: pre-wrap;\n",
       "  word-break: break-all;\n",
       "}\n",
       "\n",
       ".xr-icon-database,\n",
       ".xr-icon-file-text2,\n",
       ".xr-no-icon {\n",
       "  display: inline-block;\n",
       "  vertical-align: middle;\n",
       "  width: 1em;\n",
       "  height: 1.5em !important;\n",
       "  stroke-width: 0;\n",
       "  stroke: currentColor;\n",
       "  fill: currentColor;\n",
       "}\n",
       "</style><pre class='xr-text-repr-fallback'>&lt;xarray.DataArray (band: 3, y: 1387, x: 1491)&gt;\n",
       "[6204051 values with dtype=uint8]\n",
       "Coordinates:\n",
       "  * band         (band) int64 1 2 3\n",
       "  * x            (x) float64 2.236e+05 2.236e+05 ... 2.592e+05 2.592e+05\n",
       "  * y            (y) float64 4.218e+06 4.218e+06 ... 4.185e+06 4.185e+06\n",
       "    spatial_ref  int64 0\n",
       "Attributes:\n",
       "    AREA_OR_POINT:  Area\n",
       "    scale_factor:   1.0\n",
       "    add_offset:     0.0</pre><div class='xr-wrap' style='display:none'><div class='xr-header'><div class='xr-obj-type'>xarray.DataArray</div><div class='xr-array-name'></div><ul class='xr-dim-list'><li><span class='xr-has-index'>band</span>: 3</li><li><span class='xr-has-index'>y</span>: 1387</li><li><span class='xr-has-index'>x</span>: 1491</li></ul></div><ul class='xr-sections'><li class='xr-section-item'><div class='xr-array-wrap'><input id='section-228def86-2554-48b4-80ee-c2cbfbce677b' class='xr-array-in' type='checkbox' checked><label for='section-228def86-2554-48b4-80ee-c2cbfbce677b' title='Show/hide data repr'><svg class='icon xr-icon-database'><use xlink:href='#icon-database'></use></svg></label><div class='xr-array-preview xr-preview'><span>...</span></div><div class='xr-array-data'><pre>[6204051 values with dtype=uint8]</pre></div></div></li><li class='xr-section-item'><input id='section-41b422e5-e0c3-4f8d-bbac-14260df4d560' class='xr-section-summary-in' type='checkbox'  checked><label for='section-41b422e5-e0c3-4f8d-bbac-14260df4d560' class='xr-section-summary' >Coordinates: <span>(4)</span></label><div class='xr-section-inline-details'></div><div class='xr-section-details'><ul class='xr-var-list'><li class='xr-var-item'><div class='xr-var-name'><span class='xr-has-index'>band</span></div><div class='xr-var-dims'>(band)</div><div class='xr-var-dtype'>int64</div><div class='xr-var-preview xr-preview'>1 2 3</div><input id='attrs-3cfce2ef-9e4b-4e0a-b8ca-b86cb3b7513e' class='xr-var-attrs-in' type='checkbox' disabled><label for='attrs-3cfce2ef-9e4b-4e0a-b8ca-b86cb3b7513e' title='Show/Hide attributes'><svg class='icon xr-icon-file-text2'><use xlink:href='#icon-file-text2'></use></svg></label><input id='data-8e143c17-9a22-4160-8f5e-a0d5f8bfc0de' class='xr-var-data-in' type='checkbox'><label for='data-8e143c17-9a22-4160-8f5e-a0d5f8bfc0de' title='Show/Hide data repr'><svg class='icon xr-icon-database'><use xlink:href='#icon-database'></use></svg></label><div class='xr-var-attrs'><dl class='xr-attrs'></dl></div><div class='xr-var-data'><pre>array([1, 2, 3])</pre></div></li><li class='xr-var-item'><div class='xr-var-name'><span class='xr-has-index'>x</span></div><div class='xr-var-dims'>(x)</div><div class='xr-var-dtype'>float64</div><div class='xr-var-preview xr-preview'>2.236e+05 2.236e+05 ... 2.592e+05</div><input id='attrs-7a62baa0-2edb-449e-ab06-9c47cdcd85af' class='xr-var-attrs-in' type='checkbox' disabled><label for='attrs-7a62baa0-2edb-449e-ab06-9c47cdcd85af' title='Show/Hide attributes'><svg class='icon xr-icon-file-text2'><use xlink:href='#icon-file-text2'></use></svg></label><input id='data-7856513c-b6f3-43a4-a688-07310afdd752' class='xr-var-data-in' type='checkbox'><label for='data-7856513c-b6f3-43a4-a688-07310afdd752' title='Show/Hide data repr'><svg class='icon xr-icon-database'><use xlink:href='#icon-database'></use></svg></label><div class='xr-var-attrs'><dl class='xr-attrs'></dl></div><div class='xr-var-data'><pre>array([223598.200055, 223622.127126, 223646.054197, ..., 259201.681604,\n",
       "       259225.608675, 259249.535746])</pre></div></li><li class='xr-var-item'><div class='xr-var-name'><span class='xr-has-index'>y</span></div><div class='xr-var-dims'>(y)</div><div class='xr-var-dtype'>float64</div><div class='xr-var-preview xr-preview'>4.218e+06 4.218e+06 ... 4.185e+06</div><input id='attrs-0d024bf7-d206-4b4b-96b1-47dfc15c5a85' class='xr-var-attrs-in' type='checkbox' disabled><label for='attrs-0d024bf7-d206-4b4b-96b1-47dfc15c5a85' title='Show/Hide attributes'><svg class='icon xr-icon-file-text2'><use xlink:href='#icon-file-text2'></use></svg></label><input id='data-97afaebf-6f4c-4483-83cb-49a7271c8920' class='xr-var-data-in' type='checkbox'><label for='data-97afaebf-6f4c-4483-83cb-49a7271c8920' title='Show/Hide data repr'><svg class='icon xr-icon-database'><use xlink:href='#icon-database'></use></svg></label><div class='xr-var-attrs'><dl class='xr-attrs'></dl></div><div class='xr-var-data'><pre>array([4217895.013918, 4217871.086847, 4217847.159776, ..., 4184779.947746,\n",
       "       4184756.020675, 4184732.093604])</pre></div></li><li class='xr-var-item'><div class='xr-var-name'><span>spatial_ref</span></div><div class='xr-var-dims'>()</div><div class='xr-var-dtype'>int64</div><div class='xr-var-preview xr-preview'>0</div><input id='attrs-3313f718-e580-40c1-a0a1-938dad070745' class='xr-var-attrs-in' type='checkbox' ><label for='attrs-3313f718-e580-40c1-a0a1-938dad070745' title='Show/Hide attributes'><svg class='icon xr-icon-file-text2'><use xlink:href='#icon-file-text2'></use></svg></label><input id='data-28de7749-4ee9-426c-9dec-0e194aac9c5f' class='xr-var-data-in' type='checkbox'><label for='data-28de7749-4ee9-426c-9dec-0e194aac9c5f' title='Show/Hide data repr'><svg class='icon xr-icon-database'><use xlink:href='#icon-database'></use></svg></label><div class='xr-var-attrs'><dl class='xr-attrs'><dt><span>crs_wkt :</span></dt><dd>PROJCS[&quot;NAD83 / UTM zone 18N&quot;,GEOGCS[&quot;NAD83&quot;,DATUM[&quot;North_American_Datum_1983&quot;,SPHEROID[&quot;GRS 1980&quot;,6378137,298.257222101,AUTHORITY[&quot;EPSG&quot;,&quot;7019&quot;]],AUTHORITY[&quot;EPSG&quot;,&quot;6269&quot;]],PRIMEM[&quot;Greenwich&quot;,0,AUTHORITY[&quot;EPSG&quot;,&quot;8901&quot;]],UNIT[&quot;degree&quot;,0.0174532925199433,AUTHORITY[&quot;EPSG&quot;,&quot;9122&quot;]],AUTHORITY[&quot;EPSG&quot;,&quot;4269&quot;]],PROJECTION[&quot;Transverse_Mercator&quot;],PARAMETER[&quot;latitude_of_origin&quot;,0],PARAMETER[&quot;central_meridian&quot;,-75],PARAMETER[&quot;scale_factor&quot;,0.9996],PARAMETER[&quot;false_easting&quot;,500000],PARAMETER[&quot;false_northing&quot;,0],UNIT[&quot;metre&quot;,1,AUTHORITY[&quot;EPSG&quot;,&quot;9001&quot;]],AXIS[&quot;Easting&quot;,EAST],AXIS[&quot;Northing&quot;,NORTH],AUTHORITY[&quot;EPSG&quot;,&quot;26918&quot;]]</dd><dt><span>semi_major_axis :</span></dt><dd>6378137.0</dd><dt><span>semi_minor_axis :</span></dt><dd>6356752.314140356</dd><dt><span>inverse_flattening :</span></dt><dd>298.257222101</dd><dt><span>reference_ellipsoid_name :</span></dt><dd>GRS 1980</dd><dt><span>longitude_of_prime_meridian :</span></dt><dd>0.0</dd><dt><span>prime_meridian_name :</span></dt><dd>Greenwich</dd><dt><span>geographic_crs_name :</span></dt><dd>NAD83</dd><dt><span>horizontal_datum_name :</span></dt><dd>North American Datum 1983</dd><dt><span>projected_crs_name :</span></dt><dd>NAD83 / UTM zone 18N</dd><dt><span>grid_mapping_name :</span></dt><dd>transverse_mercator</dd><dt><span>latitude_of_projection_origin :</span></dt><dd>0.0</dd><dt><span>longitude_of_central_meridian :</span></dt><dd>-75.0</dd><dt><span>false_easting :</span></dt><dd>500000.0</dd><dt><span>false_northing :</span></dt><dd>0.0</dd><dt><span>scale_factor_at_central_meridian :</span></dt><dd>0.9996</dd><dt><span>spatial_ref :</span></dt><dd>PROJCS[&quot;NAD83 / UTM zone 18N&quot;,GEOGCS[&quot;NAD83&quot;,DATUM[&quot;North_American_Datum_1983&quot;,SPHEROID[&quot;GRS 1980&quot;,6378137,298.257222101,AUTHORITY[&quot;EPSG&quot;,&quot;7019&quot;]],AUTHORITY[&quot;EPSG&quot;,&quot;6269&quot;]],PRIMEM[&quot;Greenwich&quot;,0,AUTHORITY[&quot;EPSG&quot;,&quot;8901&quot;]],UNIT[&quot;degree&quot;,0.0174532925199433,AUTHORITY[&quot;EPSG&quot;,&quot;9122&quot;]],AUTHORITY[&quot;EPSG&quot;,&quot;4269&quot;]],PROJECTION[&quot;Transverse_Mercator&quot;],PARAMETER[&quot;latitude_of_origin&quot;,0],PARAMETER[&quot;central_meridian&quot;,-75],PARAMETER[&quot;scale_factor&quot;,0.9996],PARAMETER[&quot;false_easting&quot;,500000],PARAMETER[&quot;false_northing&quot;,0],UNIT[&quot;metre&quot;,1,AUTHORITY[&quot;EPSG&quot;,&quot;9001&quot;]],AXIS[&quot;Easting&quot;,EAST],AXIS[&quot;Northing&quot;,NORTH],AUTHORITY[&quot;EPSG&quot;,&quot;26918&quot;]]</dd><dt><span>GeoTransform :</span></dt><dd>223586.23651964564 23.927070933333344 0.0 4217906.977453323 0.0 -23.927070933333344</dd></dl></div><div class='xr-var-data'><pre>array(0)</pre></div></li></ul></div></li><li class='xr-section-item'><input id='section-d99241f1-cd10-4eb7-b5ed-ee074ff1b53e' class='xr-section-summary-in' type='checkbox'  ><label for='section-d99241f1-cd10-4eb7-b5ed-ee074ff1b53e' class='xr-section-summary' >Indexes: <span>(3)</span></label><div class='xr-section-inline-details'></div><div class='xr-section-details'><ul class='xr-var-list'><li class='xr-var-item'><div class='xr-index-name'><div>band</div></div><div class='xr-index-preview'>PandasIndex</div><div></div><input id='index-6a5783b0-b7d5-46fd-8c5d-7dd994d20306' class='xr-index-data-in' type='checkbox'/><label for='index-6a5783b0-b7d5-46fd-8c5d-7dd994d20306' title='Show/Hide index repr'><svg class='icon xr-icon-database'><use xlink:href='#icon-database'></use></svg></label><div class='xr-index-data'><pre>PandasIndex(Index([1, 2, 3], dtype=&#x27;int64&#x27;, name=&#x27;band&#x27;))</pre></div></li><li class='xr-var-item'><div class='xr-index-name'><div>x</div></div><div class='xr-index-preview'>PandasIndex</div><div></div><input id='index-f39704a6-4d44-4978-940c-f542d21be3db' class='xr-index-data-in' type='checkbox'/><label for='index-f39704a6-4d44-4978-940c-f542d21be3db' title='Show/Hide index repr'><svg class='icon xr-icon-database'><use xlink:href='#icon-database'></use></svg></label><div class='xr-index-data'><pre>PandasIndex(Index([ 223598.2000551123, 223622.12712604564, 223646.05419697898,\n",
       "        223669.9812679123, 223693.90833884565, 223717.83540977899,\n",
       "        223741.7624807123, 223765.68955164563, 223789.61662257896,\n",
       "        223813.5436935123,\n",
       "       ...\n",
       "       259034.19210737897,  259058.1191783123, 259082.04624924564,\n",
       "       259105.97332017898,  259129.9003911123, 259153.82746204565,\n",
       "         259177.754532979, 259201.68160391232, 259225.60867484566,\n",
       "         259249.535745779],\n",
       "      dtype=&#x27;float64&#x27;, name=&#x27;x&#x27;, length=1491))</pre></div></li><li class='xr-var-item'><div class='xr-index-name'><div>y</div></div><div class='xr-index-preview'>PandasIndex</div><div></div><input id='index-7ad048ee-bac2-4007-860a-415448f902b8' class='xr-index-data-in' type='checkbox'/><label for='index-7ad048ee-bac2-4007-860a-415448f902b8' title='Show/Hide index repr'><svg class='icon xr-icon-database'><use xlink:href='#icon-database'></use></svg></label><div class='xr-index-data'><pre>PandasIndex(Index([ 4217895.013917857,  4217871.086846923,   4217847.15977599,\n",
       "        4217823.232705057,  4217799.305634123,   4217775.37856319,\n",
       "       4217751.4514922565,  4217727.524421323,  4217703.597350391,\n",
       "        4217679.670279457,\n",
       "       ...\n",
       "        4184947.437242657, 4184923.5101717236,   4184899.58310079,\n",
       "       4184875.6560298568, 4184851.7289589234,   4184827.80188799,\n",
       "        4184803.874817057, 4184779.9477461237, 4184756.0206751903,\n",
       "        4184732.093604257],\n",
       "      dtype=&#x27;float64&#x27;, name=&#x27;y&#x27;, length=1387))</pre></div></li></ul></div></li><li class='xr-section-item'><input id='section-16151374-c4c8-4ad3-8ad6-ae28b55c41d5' class='xr-section-summary-in' type='checkbox'  checked><label for='section-16151374-c4c8-4ad3-8ad6-ae28b55c41d5' class='xr-section-summary' >Attributes: <span>(3)</span></label><div class='xr-section-inline-details'></div><div class='xr-section-details'><dl class='xr-attrs'><dt><span>AREA_OR_POINT :</span></dt><dd>Area</dd><dt><span>scale_factor :</span></dt><dd>1.0</dd><dt><span>add_offset :</span></dt><dd>0.0</dd></dl></div></li></ul></div></div>"
      ],
      "text/plain": [
       "<xarray.DataArray (band: 3, y: 1387, x: 1491)>\n",
       "[6204051 values with dtype=uint8]\n",
       "Coordinates:\n",
       "  * band         (band) int64 1 2 3\n",
       "  * x            (x) float64 2.236e+05 2.236e+05 ... 2.592e+05 2.592e+05\n",
       "  * y            (y) float64 4.218e+06 4.218e+06 ... 4.185e+06 4.185e+06\n",
       "    spatial_ref  int64 0\n",
       "Attributes:\n",
       "    AREA_OR_POINT:  Area\n",
       "    scale_factor:   1.0\n",
       "    add_offset:     0.0"
      ]
     },
     "execution_count": 2,
     "metadata": {},
     "output_type": "execute_result"
    }
   ],
   "source": [
    "import rioxarray\n",
    "\n",
    "# Replace this with the actual path to your file\n",
    "file_path = \"../1_data/FAA_UTM18N_NAD83.tif\"\n",
    "\n",
    "# Open the file\n",
    "data = rioxarray.open_rasterio(file_path)\n",
    "\n",
    "# Now you can work with the data\n",
    "data"
   ]
  },
  {
   "cell_type": "code",
   "execution_count": null,
   "metadata": {},
   "outputs": [],
   "source": [
    "# Ensure data is in the correct shape for imshow\n",
    "rgb_data = np.transpose(data.values, (1, 2, 0))\n",
    "\n",
    "# Normalize the data to 0-1 range for each band\n",
    "rgb_data = rgb_data.astype(np.float32)\n",
    "for i in range(3):\n",
    "    band = rgb_data[:,:,i]\n",
    "    min_val, max_val = np.nanmin(band), np.nanmax(band)\n",
    "    rgb_data[:,:,i] = (band - min_val) / (max_val - min_val)\n",
    "\n",
    "# Clip values to 0-1 range\n",
    "rgb_data = np.clip(rgb_data, 0, 1)\n",
    "\n",
    "# Create the plot\n",
    "plt.figure(figsize=(10, 8))\n",
    "plt.imshow(rgb_data)\n",
    "plt.title(\"3-Band GeoTIFF Visualization\")\n",
    "plt.axis('off')  # Turn off axis\n",
    "plt.show()"
   ]
  },
  {
   "cell_type": "markdown",
   "metadata": {
    "id": "b-k4i2FiBE2m"
   },
   "source": [
    "# Questions"
   ]
  },
  {
   "cell_type": "markdown",
   "metadata": {
    "id": "xjolnBhpBJP7"
   },
   "source": [
    "Using a combination of code and text boxes, please answer the following questions:"
   ]
  },
  {
   "cell_type": "markdown",
   "metadata": {
    "id": "hsoWROMbET0T"
   },
   "source": [
    "#### 0. When would you use xarray (or rioxarray) compared to pandas?"
   ]
  },
  {
   "cell_type": "markdown",
   "metadata": {
    "id": "tJpVQqqfBQna"
   },
   "source": [
    "#### 1. Load in a data file from your research or independent project? Does it require a package (like lasio or obspy)? After you have loaded it in, can you make it into a pandas dataframe easily? If not, why?"
   ]
  },
  {
   "cell_type": "markdown",
   "metadata": {
    "id": "WO6peuneBRAS"
   },
   "source": [
    "#### 2. Do you like using packages to load in data, or would you prefer something else?"
   ]
  },
  {
   "cell_type": "markdown",
   "metadata": {
    "id": "jhICJKbOBp5S"
   },
   "source": [
    "#### 3. Does using python change how you want to create and store data?"
   ]
  },
  {
   "cell_type": "markdown",
   "metadata": {
    "id": "L1Qjc8dmCKx4"
   },
   "source": [
    "#### 4. How is data storage handled in your research group or job? Could it be done better (in the context of python)?"
   ]
  },
  {
   "cell_type": "markdown",
   "metadata": {
    "id": "uoSz6M-aFCeF"
   },
   "source": [
    "#### 5. Out of loading the two USGS river data files, which made more sense?"
   ]
  },
  {
   "cell_type": "markdown",
   "metadata": {
    "id": "3sww4tbfCZOx"
   },
   "source": [
    "#### 6. Bonus. Is there a geo-data format that you wanted to load into python, but could not?"
   ]
  }
 ],
 "metadata": {
  "colab": {
   "provenance": [],
   "toc_visible": true
  },
  "kernelspec": {
   "display_name": "Python [conda env:csm-2024-fall]",
   "language": "python",
   "name": "conda-env-csm-2024-fall-py"
  },
  "language_info": {
   "codemirror_mode": {
    "name": "ipython",
    "version": 3
   },
   "file_extension": ".py",
   "mimetype": "text/x-python",
   "name": "python",
   "nbconvert_exporter": "python",
   "pygments_lexer": "ipython3",
   "version": "3.11.10"
  }
 },
 "nbformat": 4,
 "nbformat_minor": 4
}

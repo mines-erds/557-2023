{
 "cells": [
  {
   "cell_type": "markdown",
   "metadata": {
    "id": "gJOVeSQi_HqJ"
   },
   "source": [
    "# Module 2: Data wrangling using `pandas`\n",
    "\n",
    "## Overview: Clean vs. dirty geochronology datasets\n",
    "This notebook will take you through python code to import, sort, and make some very basic plots of some U-Pb detrital zircon geochronology data using `pandas`. We will look at one nicely cleaned dataset, and anothrer dataset that is messier, and needs some wrangling before we can play with it.\n",
    "\n",
    "For questions on this notebook, ask them on the [GEOL 557 slack](https://join.slack.com/t/minesgeo/shared_invite/zt-cqawm4lu-Zcfpf4mBLwjnksY6_umlKA)<a href=\"https://join.slack.com/t/minesgeo/shared_invite/zt-cqawm4lu-Zcfpf4mBLwjnksY6_umlKA\">\n",
    "<img src=\"https://cdn.brandfolder.io/5H442O3W/as/pl546j-7le8zk-ex8w65/Slack_RGB.svg\" alt=\"Go to the GEOl 557 slack\" width=\"100\">\n",
    "</a>\n",
    "\n",
    "## Instructions\n",
    "Work through this notebook - there will be several places where you need to fill-in-the-blank or write some code into an open cell. When you are finished, make sure to use the Colab menu (not the browser-level menu) to do the following:\n",
    "- Expand all the sections - in the Colab menu, choose View --> Expand sections) \n",
    "- Save the notebook as a pdf, again using the Colab menu, using File --> Print --> Save as PDF. \n",
    "\n",
    "--- \n",
    "## Course\n",
    "**GEOL 557 Earth Resource Data Science I: Fundamentals**. GEOL 557 forms part 2 of the four-part course series for the \"Earth Resource Data Science\" online graduate certificate at Mines - [learn more about the certificate here](https://online.mines.edu/er/)\n",
    "\n",
    "Notebook created by **Zane Jobe** and **Thomas Martin**, [CoRE research group](https://core.mines.edu), Colorado School of Mines\n",
    "\n",
    "[![Twitter URL](https://img.shields.io/twitter/url/https/twitter.com/ZaneJobe.svg?style=social&label=Follow%20%40ZaneJobe)](https://twitter.com/ZaneJobe)\n",
    "and [![Twitter URL](https://img.shields.io/twitter/url/https/twitter.com/ThomasM_geo.svg?style=social&label=Follow%20%40ThomasM_geo)](https://twitter.com/ThomasM_geo) on Twitter \n",
    "\n",
    "# TO DO: change path to GEOL_557"
   ]
  },
  {
   "cell_type": "code",
   "execution_count": 5,
   "metadata": {
    "id": "1wGxu-9R_HqR"
   },
   "outputs": [],
   "source": [
    "import pandas as pd # this imports pandas to this notebook\n",
    "import numpy as np\n",
    "from matplotlib import pyplot as plt\n",
    "\n",
    "# these next two things shuoldnt need to be changed if you set up your Google Drive folder correctly (see Module 1)\n",
    "folder_path = '../1_data/' # makes a path\n",
    "file_name = 'Sharman_ExampleDataset_1.xlsx' # file name"
   ]
  },
  {
   "cell_type": "markdown",
   "metadata": {
    "id": "NaN2luxZ3Kj5"
   },
   "source": [
    "## Let's load in a dataset\n",
    "The data we want is located here https://github.com/grsharman/detritalPy/blob/master/detritalPy/example-data/ExampleDataset_1.xlsx\n",
    "\n",
    "It is downloaded and saved in the Google Drive folder. \n",
    "\n",
    "We load it with the pandas `read_xls` function into a DataFrame called `df`:"
   ]
  },
  {
   "cell_type": "code",
   "execution_count": 11,
   "metadata": {
    "tags": []
   },
   "outputs": [
    {
     "name": "stdout",
     "output_type": "stream",
     "text": [
      "Collecting openpyxl\n",
      "  Downloading openpyxl-3.1.2-py2.py3-none-any.whl (249 kB)\n",
      "\u001b[2K     \u001b[90m━━━━━━━━━━━━━━━━━━━━━━━━━━━━━━━━━━━━━━━\u001b[0m \u001b[32m250.0/250.0 kB\u001b[0m \u001b[31m6.3 MB/s\u001b[0m eta \u001b[36m0:00:00\u001b[0m00:01\u001b[0m\n",
      "\u001b[?25hCollecting et-xmlfile (from openpyxl)\n",
      "  Downloading et_xmlfile-1.1.0-py3-none-any.whl (4.7 kB)\n",
      "Installing collected packages: et-xmlfile, openpyxl\n",
      "Successfully installed et-xmlfile-1.1.0 openpyxl-3.1.2\n"
     ]
    }
   ],
   "source": [
    "!pip install openpyxl"
   ]
  },
  {
   "cell_type": "code",
   "execution_count": 15,
   "metadata": {
    "id": "H6AyOjCX3KrN"
   },
   "outputs": [
    {
     "data": {
      "text/html": [
       "<div>\n",
       "<style scoped>\n",
       "    .dataframe tbody tr th:only-of-type {\n",
       "        vertical-align: middle;\n",
       "    }\n",
       "\n",
       "    .dataframe tbody tr th {\n",
       "        vertical-align: top;\n",
       "    }\n",
       "\n",
       "    .dataframe thead th {\n",
       "        text-align: right;\n",
       "    }\n",
       "</style>\n",
       "<table border=\"1\" class=\"dataframe\">\n",
       "  <thead>\n",
       "    <tr style=\"text-align: right;\">\n",
       "      <th></th>\n",
       "      <th>Sample_ID</th>\n",
       "      <th>Grain_ID</th>\n",
       "      <th>Analysis_ID</th>\n",
       "      <th>206Pb_204Pb</th>\n",
       "      <th>U_ppm</th>\n",
       "      <th>U_Th</th>\n",
       "      <th>Th_U</th>\n",
       "      <th>207Pb_206Pb</th>\n",
       "      <th>207Pb_206Pb_err</th>\n",
       "      <th>207Pb_235U</th>\n",
       "      <th>...</th>\n",
       "      <th>68Age</th>\n",
       "      <th>68Age_err</th>\n",
       "      <th>76Age</th>\n",
       "      <th>76Age_err</th>\n",
       "      <th>BestAge</th>\n",
       "      <th>BestAge_err</th>\n",
       "      <th>Disc</th>\n",
       "      <th>ZHe_Age</th>\n",
       "      <th>ZHe_Age_err</th>\n",
       "      <th>RimCore</th>\n",
       "    </tr>\n",
       "  </thead>\n",
       "  <tbody>\n",
       "    <tr>\n",
       "      <th>0</th>\n",
       "      <td>POR-2</td>\n",
       "      <td>NaN</td>\n",
       "      <td>POR-2-64</td>\n",
       "      <td>187.562603</td>\n",
       "      <td>2454.0</td>\n",
       "      <td>1.593317</td>\n",
       "      <td>0.627621</td>\n",
       "      <td>0.040688</td>\n",
       "      <td>0.005553</td>\n",
       "      <td>0.037519</td>\n",
       "      <td>...</td>\n",
       "      <td>42.969196</td>\n",
       "      <td>0.800852</td>\n",
       "      <td>-307.078907</td>\n",
       "      <td>350.590494</td>\n",
       "      <td>42.969196</td>\n",
       "      <td>0.800852</td>\n",
       "      <td>NaN</td>\n",
       "      <td>NaN</td>\n",
       "      <td>NaN</td>\n",
       "      <td>NaN</td>\n",
       "    </tr>\n",
       "    <tr>\n",
       "      <th>1</th>\n",
       "      <td>POR-2</td>\n",
       "      <td>NaN</td>\n",
       "      <td>POR-2-85</td>\n",
       "      <td>400.690026</td>\n",
       "      <td>1830.0</td>\n",
       "      <td>2.015693</td>\n",
       "      <td>0.496107</td>\n",
       "      <td>0.046028</td>\n",
       "      <td>0.007520</td>\n",
       "      <td>0.046150</td>\n",
       "      <td>...</td>\n",
       "      <td>46.708420</td>\n",
       "      <td>0.651555</td>\n",
       "      <td>-0.892810</td>\n",
       "      <td>396.082033</td>\n",
       "      <td>46.708420</td>\n",
       "      <td>0.651555</td>\n",
       "      <td>NaN</td>\n",
       "      <td>NaN</td>\n",
       "      <td>NaN</td>\n",
       "      <td>NaN</td>\n",
       "    </tr>\n",
       "    <tr>\n",
       "      <th>2</th>\n",
       "      <td>POR-2</td>\n",
       "      <td>NaN</td>\n",
       "      <td>POR-2-33</td>\n",
       "      <td>1727.768911</td>\n",
       "      <td>18460.0</td>\n",
       "      <td>19.197699</td>\n",
       "      <td>0.052090</td>\n",
       "      <td>0.046373</td>\n",
       "      <td>0.000795</td>\n",
       "      <td>0.048013</td>\n",
       "      <td>...</td>\n",
       "      <td>48.226943</td>\n",
       "      <td>0.999377</td>\n",
       "      <td>17.007509</td>\n",
       "      <td>41.201972</td>\n",
       "      <td>48.226943</td>\n",
       "      <td>0.999377</td>\n",
       "      <td>NaN</td>\n",
       "      <td>NaN</td>\n",
       "      <td>NaN</td>\n",
       "      <td>NaN</td>\n",
       "    </tr>\n",
       "    <tr>\n",
       "      <th>3</th>\n",
       "      <td>POR-2</td>\n",
       "      <td>NaN</td>\n",
       "      <td>POR-2-82</td>\n",
       "      <td>1535.301774</td>\n",
       "      <td>19514.0</td>\n",
       "      <td>5.805308</td>\n",
       "      <td>0.172256</td>\n",
       "      <td>0.046624</td>\n",
       "      <td>0.001008</td>\n",
       "      <td>0.048465</td>\n",
       "      <td>...</td>\n",
       "      <td>48.417302</td>\n",
       "      <td>0.921306</td>\n",
       "      <td>30.016655</td>\n",
       "      <td>51.812993</td>\n",
       "      <td>48.417302</td>\n",
       "      <td>0.921306</td>\n",
       "      <td>NaN</td>\n",
       "      <td>NaN</td>\n",
       "      <td>NaN</td>\n",
       "      <td>NaN</td>\n",
       "    </tr>\n",
       "    <tr>\n",
       "      <th>4</th>\n",
       "      <td>POR-2</td>\n",
       "      <td>NaN</td>\n",
       "      <td>POR-2-7</td>\n",
       "      <td>299.211125</td>\n",
       "      <td>2332.0</td>\n",
       "      <td>1.529990</td>\n",
       "      <td>0.653599</td>\n",
       "      <td>0.042033</td>\n",
       "      <td>0.004611</td>\n",
       "      <td>0.044318</td>\n",
       "      <td>...</td>\n",
       "      <td>49.108359</td>\n",
       "      <td>0.547924</td>\n",
       "      <td>-224.552689</td>\n",
       "      <td>276.898362</td>\n",
       "      <td>49.108359</td>\n",
       "      <td>0.547924</td>\n",
       "      <td>NaN</td>\n",
       "      <td>NaN</td>\n",
       "      <td>NaN</td>\n",
       "      <td>NaN</td>\n",
       "    </tr>\n",
       "  </tbody>\n",
       "</table>\n",
       "<p>5 rows × 26 columns</p>\n",
       "</div>"
      ],
      "text/plain": [
       "  Sample_ID  Grain_ID Analysis_ID  206Pb_204Pb    U_ppm       U_Th      Th_U  \\\n",
       "0     POR-2       NaN    POR-2-64   187.562603   2454.0   1.593317  0.627621   \n",
       "1     POR-2       NaN    POR-2-85   400.690026   1830.0   2.015693  0.496107   \n",
       "2     POR-2       NaN    POR-2-33  1727.768911  18460.0  19.197699  0.052090   \n",
       "3     POR-2       NaN    POR-2-82  1535.301774  19514.0   5.805308  0.172256   \n",
       "4     POR-2       NaN     POR-2-7   299.211125   2332.0   1.529990  0.653599   \n",
       "\n",
       "   207Pb_206Pb  207Pb_206Pb_err  207Pb_235U  ...      68Age  68Age_err  \\\n",
       "0     0.040688         0.005553    0.037519  ...  42.969196   0.800852   \n",
       "1     0.046028         0.007520    0.046150  ...  46.708420   0.651555   \n",
       "2     0.046373         0.000795    0.048013  ...  48.226943   0.999377   \n",
       "3     0.046624         0.001008    0.048465  ...  48.417302   0.921306   \n",
       "4     0.042033         0.004611    0.044318  ...  49.108359   0.547924   \n",
       "\n",
       "        76Age   76Age_err    BestAge  BestAge_err  Disc  ZHe_Age  ZHe_Age_err  \\\n",
       "0 -307.078907  350.590494  42.969196     0.800852   NaN      NaN          NaN   \n",
       "1   -0.892810  396.082033  46.708420     0.651555   NaN      NaN          NaN   \n",
       "2   17.007509   41.201972  48.226943     0.999377   NaN      NaN          NaN   \n",
       "3   30.016655   51.812993  48.417302     0.921306   NaN      NaN          NaN   \n",
       "4 -224.552689  276.898362  49.108359     0.547924   NaN      NaN          NaN   \n",
       "\n",
       "   RimCore  \n",
       "0      NaN  \n",
       "1      NaN  \n",
       "2      NaN  \n",
       "3      NaN  \n",
       "4      NaN  \n",
       "\n",
       "[5 rows x 26 columns]"
      ]
     },
     "execution_count": 15,
     "metadata": {},
     "output_type": "execute_result"
    }
   ],
   "source": [
    "df=pd.read_excel(folder_path + file_name, sheet_name='ZrUPb', engine='openpyxl') # uses pandas to read in the csv as a 'DataFrame' called df\n",
    "df.head()"
   ]
  },
  {
   "cell_type": "markdown",
   "metadata": {
    "id": "O3P0_Ms13K-A"
   },
   "source": [
    "Nice! Let's make sure the dtypes are correct:"
   ]
  },
  {
   "cell_type": "code",
   "execution_count": null,
   "metadata": {
    "id": "awZZsL_USl5k"
   },
   "outputs": [],
   "source": [
    "df.info()"
   ]
  },
  {
   "cell_type": "markdown",
   "metadata": {
    "id": "lV70MjqW9f50"
   },
   "source": [
    "Excellent - I wish all data files were formatted like that. Let's check out a description of the data:"
   ]
  },
  {
   "cell_type": "code",
   "execution_count": null,
   "metadata": {
    "id": "mpe2rdb3Hxh4"
   },
   "outputs": [],
   "source": [
    "df.describe()"
   ]
  },
  {
   "cell_type": "code",
   "execution_count": null,
   "metadata": {
    "id": "-K1cY18hLn06"
   },
   "outputs": [],
   "source": [
    "df.groupby('Sample_ID').BestAge.describe()"
   ]
  },
  {
   "cell_type": "code",
   "execution_count": null,
   "metadata": {
    "id": "R9gu1AKeJIQi"
   },
   "outputs": [],
   "source": [
    "df.groupby('Sample_ID').size() # number of rows per sample"
   ]
  },
  {
   "cell_type": "code",
   "execution_count": null,
   "metadata": {
    "id": "32TnQYpAJTMH"
   },
   "outputs": [],
   "source": [
    "df.groupby('Sample_ID').BestAge.max() # oldest Age per sample (could also do min, mean, median, etc.)"
   ]
  },
  {
   "cell_type": "code",
   "execution_count": null,
   "metadata": {
    "id": "VyK_wGnEL2-h"
   },
   "outputs": [],
   "source": [
    "df.BestAge.hist() # all ages as a histogram"
   ]
  },
  {
   "cell_type": "code",
   "execution_count": null,
   "metadata": {
    "id": "UAqiNHRtINLH"
   },
   "outputs": [],
   "source": [
    "# each sample as a separate box plot\n",
    "df.groupby('Sample_ID').boxplot(column=['BestAge'], grid=False, showfliers=False, figsize=[10,20], sharey=True)\n",
    "plt.show()"
   ]
  },
  {
   "cell_type": "code",
   "execution_count": null,
   "metadata": {
    "id": "2fu9eHGQtLkr"
   },
   "outputs": [],
   "source": [
    "df.plot(x='BestAge', y='BestAge_err', style='.');"
   ]
  },
  {
   "cell_type": "markdown",
   "metadata": {
    "id": "BLc7PdUn7w1E"
   },
   "source": [
    "### Now you try\n",
    "Make a plot using one of the built-in pandas plotting methods - anything you want! "
   ]
  },
  {
   "cell_type": "code",
   "execution_count": null,
   "metadata": {
    "id": "bbb1SGwE7w1E"
   },
   "outputs": [],
   "source": [
    "# your code goes here"
   ]
  },
  {
   "cell_type": "markdown",
   "metadata": {
    "id": "23I60nMAqZmD"
   },
   "source": [
    "![I did it](https://media1.tenor.com/images/a5747f7b1d84287ca4a62e8a428d51ae/tenor.gif?itemid=4990241)"
   ]
  },
  {
   "cell_type": "markdown",
   "metadata": {
    "id": "ILqUaHPu6NTz"
   },
   "source": [
    "# Some not-so-easy geochronology data\n",
    "\n",
    "Ok, now it's time for the not-so-easy dataset. Here goes:"
   ]
  },
  {
   "cell_type": "code",
   "execution_count": null,
   "metadata": {
    "id": "GcAjvaEy6NT8"
   },
   "outputs": [],
   "source": [
    "# these next two things shuoldnt need to be changed if you set up your Google Drive folder correctly (see Module 1)\n",
    "folder_path = '../1_data/' # makes a path\n",
    "file_name = 'Daniels_GSA_2017304_appendix2.xlsx' # file name"
   ]
  },
  {
   "cell_type": "markdown",
   "metadata": {
    "id": "0QlgJFu26NUH"
   },
   "source": [
    "## Let's load in a dataset\n",
    "The data we want is located here https://doi.org/10.1130/B31757.1 It is the Appendix 2 file (\"Supplemental Information 2\" down at the bottom   of the   page). Two tabs in that xlsx are useful to us, the \"high throughput\" and \"low throughput\" tabs, which are U-Pb ages from detrital zircons from the Magallanes Basin, Chile. Also, by default, `pandas` imports the first sheet, but we also want to specify that, so we use `sheet_name` for that. \n",
    "\n",
    "Before we load the data, the Excel file is weird, and has a linked IsoPlot function in the file that needs to be broken/deleted. I took care of breaking this link and saving as a new file, which fixes weird encryption issues with Excel format. Yet another reason to just use a csv file... \n",
    "\n",
    "We load it with the pandas `read_xls` function into a DataFrame called `df`:"
   ]
  },
  {
   "cell_type": "code",
   "execution_count": null,
   "metadata": {
    "id": "5sbhaJoO6NUI"
   },
   "outputs": [],
   "source": [
    "df=pd.read_excel(folder_path + file_name, sheet_name='HighThroughputAges - LA-ICP-MS') # uses pandas to read in the csv as a 'DataFrame' called df\n",
    "df.head()"
   ]
  },
  {
   "cell_type": "markdown",
   "metadata": {
    "id": "d1NaaMoo6NUO"
   },
   "source": [
    "Hmm, that doesnt look right. There are a few header lines, which are messing up the key names (currently in row `1`. You could go into Excel and delete them, but it's good practice to modify the input file as little as possible. Also, there are 13 samples and two tabs, so that means you would have to fix these issues 26 times manually, which is sub-optimal. Let's automate the boring stuff!"
   ]
  },
  {
   "cell_type": "code",
   "execution_count": null,
   "metadata": {
    "id": "ZNNkt0EJHjRM"
   },
   "outputs": [],
   "source": [
    "df=pd.read_excel(folder_path + file_name, sheet_name='HighThroughputAges - LA-ICP-MS', skiprows=2) # uses pandas to read in the csv as a 'DataFrame' called df\n",
    "df.head()"
   ]
  },
  {
   "cell_type": "markdown",
   "metadata": {
    "id": "dOrbPCpKIge1"
   },
   "source": [
    "OK, that's a bit better, but still not great. If you look at the Excel, it has empty rows to separate the samples, and merged rows to indicate column names and subnames. This looks snazzy in Excel, but is a pain when doing data analysis because it means that one row is empty (hence the `Unnamed:1` as the second column name. \n",
    "\n",
    "First, let's get rid of the empty rows:"
   ]
  },
  {
   "cell_type": "code",
   "execution_count": null,
   "metadata": {
    "id": "b53-xymd6NUT"
   },
   "outputs": [],
   "source": [
    "print('df has length', len(df), 'before dropping rows with no data')\n",
    "df.dropna(how='all', inplace=True)\n",
    "print('df has length', len(df), 'after dropping rows with no data')"
   ]
  },
  {
   "cell_type": "markdown",
   "metadata": {
    "id": "gYbKOSqx6NUV"
   },
   "source": [
    "Now to deal with the column names. Ideally, we would rename the column names so that the name and the subname is in each, like this first example:"
   ]
  },
  {
   "cell_type": "code",
   "execution_count": null,
   "metadata": {
    "id": "rWY1Jyng63EY"
   },
   "outputs": [],
   "source": [
    "df.rename({'Data for Tera-Wasserburg plot2'\t: 'TeraWasserburg_238U/206Pb'},axis=1, inplace=True)\n",
    "df.head()"
   ]
  },
  {
   "cell_type": "markdown",
   "metadata": {
    "id": "xPyyZadTCFeR"
   },
   "source": [
    "There are smarter, more automated ways to do that (using a loop or `.apply` methods), but that's a topic for another day. \n",
    "\n",
    "In this case, we don't really want to fool around with all those columns anyways - what we are really interested in are the ages, and so we can just drop all the columns that don't have age information. "
   ]
  },
  {
   "cell_type": "code",
   "execution_count": null,
   "metadata": {
    "id": "zqkRgqLrClyC"
   },
   "outputs": [],
   "source": [
    "#renames the columns first\n",
    "col_dict = {'15-CC-01 HT':'Sample', \n",
    "            'Unnamed: 1':'Spot', \n",
    "            'Dates':'Age_207Pb/206Pb', \n",
    "            'Unnamed: 25':'Age_206Pb/238U', \n",
    "            'Unnamed: 28':'Age_207Pb/235Pb', \n",
    "            'Accepted Dates4':'Age_Accepted'\n",
    "           }\n",
    "\n",
    "df.rename(col_dict, axis=1, inplace=True) # axis 1 acts on the columns\n",
    "\n",
    "# now let's drop all the columns we didnt rename\n",
    "col_list = list(col_dict.values())\n",
    "df = df.filter(col_list, axis=1) # reassign it\n",
    "df.head()"
   ]
  },
  {
   "cell_type": "code",
   "execution_count": null,
   "metadata": {
    "id": "MuCadeVCgM_x"
   },
   "outputs": [],
   "source": [
    "# get rid of first line\n",
    "df.drop(0,axis=0, inplace=True) # axis 0 works on the rows\n",
    "df.head()"
   ]
  },
  {
   "cell_type": "markdown",
   "metadata": {
    "id": "4RbMQyZFDsPH"
   },
   "source": [
    "And lastly, from the way that xls was formatted, there should be some extra rows that only had values in the first column that we renamed to `Sample`, so let's look at that column:"
   ]
  },
  {
   "cell_type": "code",
   "execution_count": null,
   "metadata": {
    "id": "ch2WZAn9Df49"
   },
   "outputs": [],
   "source": [
    "print(df.Sample.value_counts())\n",
    "print(df.Sample.value_counts().values)\n"
   ]
  },
  {
   "cell_type": "markdown",
   "metadata": {
    "id": "DrHzV3bdFAEj"
   },
   "source": [
    "Whoa, lots of weird things there. The way that xls is formatted is really not great! It would be smart to replace the sample names beginning with `UK` with the ones beginning with `15-`, but for now we won't mess with that. Let's just get rid of the rows that only have data in the `Sample` column, and no other data:"
   ]
  },
  {
   "cell_type": "code",
   "execution_count": null,
   "metadata": {
    "id": "zr6PKKYKE-57",
    "scrolled": true
   },
   "outputs": [],
   "source": [
    "# Which columns have NaNs\n",
    "df.isnull().sum()"
   ]
  },
  {
   "cell_type": "markdown",
   "metadata": {
    "id": "7G6WG8Sg7w1a"
   },
   "source": [
    "See the 32 in Spot? There shouldn't be any NaNs there either, if each `Spot` is part of a `Sample`. So, let's get rid of rows where Spot is NaN"
   ]
  },
  {
   "cell_type": "code",
   "execution_count": null,
   "metadata": {
    "id": "-QJiYhKqlvoO"
   },
   "outputs": [],
   "source": [
    "# get rid of all rows where Spot is NaN\n",
    "df.dropna(axis=0, subset = ['Spot'], inplace=True)\n",
    "\n",
    "# now check the samples\n",
    "print(df.isnull().sum())\n",
    "print(df.Sample.value_counts())"
   ]
  },
  {
   "cell_type": "markdown",
   "metadata": {
    "id": "RtsGx1F5njMv"
   },
   "source": [
    "Great! That means we have 12 Samples, , with around 640 ages per sample. \n",
    "\n",
    "Last thing we need to do is to convert the `objects` to other dtypes:"
   ]
  },
  {
   "cell_type": "code",
   "execution_count": null,
   "metadata": {
    "id": "xLKh1WLWni1H"
   },
   "outputs": [],
   "source": [
    "df.info()"
   ]
  },
  {
   "cell_type": "code",
   "execution_count": null,
   "metadata": {
    "id": "eVjt9TbqDF60"
   },
   "outputs": [],
   "source": [
    "# get rid of strings in the age columns\n",
    "df[df.columns[2:6]] = df[df.columns[2:6]].apply(pd.to_numeric, errors='coerce').fillna(0).astype(float).dropna()\n",
    "# you can read about the coerce method on the pandas website"
   ]
  },
  {
   "cell_type": "code",
   "execution_count": null,
   "metadata": {
    "id": "gP_OJaaUniAB"
   },
   "outputs": [],
   "source": [
    "df.info()"
   ]
  },
  {
   "cell_type": "markdown",
   "metadata": {
    "id": "A0phWFwdnJmC"
   },
   "source": [
    "### Whew! \n",
    "Ok, that took a bit of work, and you might think you can do this faster in Excel, and you are probably correct. but think about if instead of one spreadsheet, you had 55 or 550 of these spreadsheets to deal with - still want to do it in Excel? \n",
    "\n",
    "### Now let's try a simple plot:"
   ]
  },
  {
   "cell_type": "code",
   "execution_count": null,
   "metadata": {
    "id": "jmkfmMXdZrfz"
   },
   "outputs": [],
   "source": [
    "df.plot.scatter(x='Age_207Pb/206Pb', y='Age_206Pb/238U')"
   ]
  },
  {
   "cell_type": "code",
   "execution_count": null,
   "metadata": {
    "id": "jGM2_tjlaXUi"
   },
   "outputs": [],
   "source": [
    "df['Age_206Pb/238U'].max()"
   ]
  },
  {
   "cell_type": "code",
   "execution_count": null,
   "metadata": {
    "id": "SUBNX_XbD26R"
   },
   "outputs": [],
   "source": [
    "df.plot.scatter(x='Age_207Pb/206Pb', y='Age_206Pb/238U', xlim=[0, 4000], ylim=[0,4000])"
   ]
  },
  {
   "cell_type": "code",
   "execution_count": null,
   "metadata": {
    "id": "C8M_vcNNEmHH"
   },
   "outputs": [],
   "source": [
    "### Now you try - for example, do a `describe()` on a column and a `hist` of ages (you can choose the column you want to plot)"
   ]
  },
  {
   "cell_type": "code",
   "execution_count": null,
   "metadata": {
    "id": "yM5vDA8N7w1q"
   },
   "outputs": [],
   "source": [
    "# your code here"
   ]
  },
  {
   "cell_type": "markdown",
   "metadata": {
    "id": "-i8rVb7O7w1r"
   },
   "source": [
    "### Now let's export that clean dataset as a csv\n",
    "Search the pandas documention to figure out how to export a csv of this dataset you have just cleaned up"
   ]
  },
  {
   "cell_type": "code",
   "execution_count": null,
   "metadata": {
    "id": "uc2wBmgz7w1s"
   },
   "outputs": [],
   "source": [
    "# your code here"
   ]
  },
  {
   "cell_type": "markdown",
   "metadata": {
    "id": "35lfh9tTqlmj"
   },
   "source": [
    "![Robert Redford](https://media1.tenor.com/images/3952a85da6e63c7755607a40a4bc975f/tenor.gif?itemid=4959267)"
   ]
  }
 ],
 "metadata": {
  "colab": {
   "collapsed_sections": [],
   "provenance": []
  },
  "kernelspec": {
   "display_name": "Python [conda env:mines23f]",
   "language": "python",
   "name": "conda-env-mines23f-py"
  },
  "language_info": {
   "codemirror_mode": {
    "name": "ipython",
    "version": 3
   },
   "file_extension": ".py",
   "mimetype": "text/x-python",
   "name": "python",
   "nbconvert_exporter": "python",
   "pygments_lexer": "ipython3",
   "version": "3.8.17"
  }
 },
 "nbformat": 4,
 "nbformat_minor": 4
}

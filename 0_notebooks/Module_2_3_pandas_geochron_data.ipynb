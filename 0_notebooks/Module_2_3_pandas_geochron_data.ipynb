{
 "cells": [
  {
   "cell_type": "markdown",
   "metadata": {
    "id": "gJOVeSQi_HqJ"
   },
   "source": [
    "# Module 2: Data wrangling using `pandas`\n",
    "\n",
    "## Overview: Clean vs. dirty geochronology datasets\n",
    "This notebook will take you through python code to import, sort, and make some very basic plots of some U-Pb detrital zircon geochronology data using `pandas`. We will look at one nicely cleaned dataset, and anothrer dataset that is messier, and needs some wrangling before we can play with it.\n",
    "\n",
    "For questions on this notebook, ask them on the [GEOL 557 slack](https://join.slack.com/t/minesgeo/shared_invite/zt-cqawm4lu-Zcfpf4mBLwjnksY6_umlKA)<a href=\"https://join.slack.com/t/minesgeo/shared_invite/zt-cqawm4lu-Zcfpf4mBLwjnksY6_umlKA\">\n",
    "<img src=\"https://cdn.brandfolder.io/5H442O3W/as/pl546j-7le8zk-ex8w65/Slack_RGB.svg\" alt=\"Go to the GEOl 557 slack\" width=\"100\">\n",
    "</a>\n",
    "\n",
    "## Instructions\n",
    "Work through this notebook - there will be several places where you need to fill-in-the-blank or write some code into an open cell. When you are finished, make sure to use the Colab menu (not the browser-level menu) to do the following:\n",
    "- Expand all the sections - in the Colab menu, choose View --> Expand sections) \n",
    "- Save the notebook as a pdf, again using the Colab menu, using File --> Print --> Save as PDF. \n",
    "\n",
    "--- \n",
    "## Course\n",
    "**GEOL 557 Earth Resource Data Science I: Fundamentals**. GEOL 557 forms part 2 of the four-part course series for the \"Earth Resource Data Science\" online graduate certificate at Mines - [learn more about the certificate here](https://online.mines.edu/er/)\n",
    "\n",
    "Notebook created by **Zane Jobe** and **Thomas Martin**, [CoRE research group](https://core.mines.edu), Colorado School of Mines"
   ]
  },
  {
   "cell_type": "code",
   "execution_count": 1,
   "metadata": {
    "id": "1wGxu-9R_HqR"
   },
   "outputs": [],
   "source": [
    "import pandas as pd # this imports pandas to this notebook\n",
    "import numpy as np\n",
    "from matplotlib import pyplot as plt\n",
    "\n",
    "# these next two things shuoldnt need to be changed if you set up your Google Drive folder correctly (see Module 1)\n",
    "folder_path = '../1_data/' # makes a path\n",
    "file_name = 'Sharman_ExampleDataset_1.xlsx' # file name"
   ]
  },
  {
   "cell_type": "markdown",
   "metadata": {
    "id": "NaN2luxZ3Kj5"
   },
   "source": [
    "## Let's load in a dataset\n",
    "The data we want is located here https://github.com/grsharman/detritalPy/blob/master/detritalPy/example-data/ExampleDataset_1.xlsx\n",
    "\n",
    "It is downloaded and saved in the Google Drive folder. \n",
    "\n",
    "We load it with the pandas `read_xls` function into a DataFrame called `df`:"
   ]
  },
  {
   "cell_type": "code",
   "execution_count": 3,
   "metadata": {
    "id": "H6AyOjCX3KrN"
   },
   "outputs": [
    {
     "data": {
      "text/html": [
       "<div>\n",
       "<style scoped>\n",
       "    .dataframe tbody tr th:only-of-type {\n",
       "        vertical-align: middle;\n",
       "    }\n",
       "\n",
       "    .dataframe tbody tr th {\n",
       "        vertical-align: top;\n",
       "    }\n",
       "\n",
       "    .dataframe thead th {\n",
       "        text-align: right;\n",
       "    }\n",
       "</style>\n",
       "<table border=\"1\" class=\"dataframe\">\n",
       "  <thead>\n",
       "    <tr style=\"text-align: right;\">\n",
       "      <th></th>\n",
       "      <th>Sample_ID</th>\n",
       "      <th>Grain_ID</th>\n",
       "      <th>Analysis_ID</th>\n",
       "      <th>206Pb_204Pb</th>\n",
       "      <th>U_ppm</th>\n",
       "      <th>U_Th</th>\n",
       "      <th>Th_U</th>\n",
       "      <th>207Pb_206Pb</th>\n",
       "      <th>207Pb_206Pb_err</th>\n",
       "      <th>207Pb_235U</th>\n",
       "      <th>...</th>\n",
       "      <th>68Age</th>\n",
       "      <th>68Age_err</th>\n",
       "      <th>76Age</th>\n",
       "      <th>76Age_err</th>\n",
       "      <th>BestAge</th>\n",
       "      <th>BestAge_err</th>\n",
       "      <th>Disc</th>\n",
       "      <th>ZHe_Age</th>\n",
       "      <th>ZHe_Age_err</th>\n",
       "      <th>RimCore</th>\n",
       "    </tr>\n",
       "  </thead>\n",
       "  <tbody>\n",
       "    <tr>\n",
       "      <th>0</th>\n",
       "      <td>POR-2</td>\n",
       "      <td>NaN</td>\n",
       "      <td>POR-2-64</td>\n",
       "      <td>187.562603</td>\n",
       "      <td>2454.0</td>\n",
       "      <td>1.593317</td>\n",
       "      <td>0.627621</td>\n",
       "      <td>0.040688</td>\n",
       "      <td>0.005553</td>\n",
       "      <td>0.037519</td>\n",
       "      <td>...</td>\n",
       "      <td>42.969196</td>\n",
       "      <td>0.800852</td>\n",
       "      <td>-307.078907</td>\n",
       "      <td>350.590494</td>\n",
       "      <td>42.969196</td>\n",
       "      <td>0.800852</td>\n",
       "      <td>NaN</td>\n",
       "      <td>NaN</td>\n",
       "      <td>NaN</td>\n",
       "      <td>NaN</td>\n",
       "    </tr>\n",
       "    <tr>\n",
       "      <th>1</th>\n",
       "      <td>POR-2</td>\n",
       "      <td>NaN</td>\n",
       "      <td>POR-2-85</td>\n",
       "      <td>400.690026</td>\n",
       "      <td>1830.0</td>\n",
       "      <td>2.015693</td>\n",
       "      <td>0.496107</td>\n",
       "      <td>0.046028</td>\n",
       "      <td>0.007520</td>\n",
       "      <td>0.046150</td>\n",
       "      <td>...</td>\n",
       "      <td>46.708420</td>\n",
       "      <td>0.651555</td>\n",
       "      <td>-0.892810</td>\n",
       "      <td>396.082033</td>\n",
       "      <td>46.708420</td>\n",
       "      <td>0.651555</td>\n",
       "      <td>NaN</td>\n",
       "      <td>NaN</td>\n",
       "      <td>NaN</td>\n",
       "      <td>NaN</td>\n",
       "    </tr>\n",
       "    <tr>\n",
       "      <th>2</th>\n",
       "      <td>POR-2</td>\n",
       "      <td>NaN</td>\n",
       "      <td>POR-2-33</td>\n",
       "      <td>1727.768911</td>\n",
       "      <td>18460.0</td>\n",
       "      <td>19.197699</td>\n",
       "      <td>0.052090</td>\n",
       "      <td>0.046373</td>\n",
       "      <td>0.000795</td>\n",
       "      <td>0.048013</td>\n",
       "      <td>...</td>\n",
       "      <td>48.226943</td>\n",
       "      <td>0.999377</td>\n",
       "      <td>17.007509</td>\n",
       "      <td>41.201972</td>\n",
       "      <td>48.226943</td>\n",
       "      <td>0.999377</td>\n",
       "      <td>NaN</td>\n",
       "      <td>NaN</td>\n",
       "      <td>NaN</td>\n",
       "      <td>NaN</td>\n",
       "    </tr>\n",
       "    <tr>\n",
       "      <th>3</th>\n",
       "      <td>POR-2</td>\n",
       "      <td>NaN</td>\n",
       "      <td>POR-2-82</td>\n",
       "      <td>1535.301774</td>\n",
       "      <td>19514.0</td>\n",
       "      <td>5.805308</td>\n",
       "      <td>0.172256</td>\n",
       "      <td>0.046624</td>\n",
       "      <td>0.001008</td>\n",
       "      <td>0.048465</td>\n",
       "      <td>...</td>\n",
       "      <td>48.417302</td>\n",
       "      <td>0.921306</td>\n",
       "      <td>30.016655</td>\n",
       "      <td>51.812993</td>\n",
       "      <td>48.417302</td>\n",
       "      <td>0.921306</td>\n",
       "      <td>NaN</td>\n",
       "      <td>NaN</td>\n",
       "      <td>NaN</td>\n",
       "      <td>NaN</td>\n",
       "    </tr>\n",
       "    <tr>\n",
       "      <th>4</th>\n",
       "      <td>POR-2</td>\n",
       "      <td>NaN</td>\n",
       "      <td>POR-2-7</td>\n",
       "      <td>299.211125</td>\n",
       "      <td>2332.0</td>\n",
       "      <td>1.529990</td>\n",
       "      <td>0.653599</td>\n",
       "      <td>0.042033</td>\n",
       "      <td>0.004611</td>\n",
       "      <td>0.044318</td>\n",
       "      <td>...</td>\n",
       "      <td>49.108359</td>\n",
       "      <td>0.547924</td>\n",
       "      <td>-224.552689</td>\n",
       "      <td>276.898362</td>\n",
       "      <td>49.108359</td>\n",
       "      <td>0.547924</td>\n",
       "      <td>NaN</td>\n",
       "      <td>NaN</td>\n",
       "      <td>NaN</td>\n",
       "      <td>NaN</td>\n",
       "    </tr>\n",
       "  </tbody>\n",
       "</table>\n",
       "<p>5 rows × 26 columns</p>\n",
       "</div>"
      ],
      "text/plain": [
       "  Sample_ID  Grain_ID Analysis_ID  206Pb_204Pb    U_ppm       U_Th      Th_U  \\\n",
       "0     POR-2       NaN    POR-2-64   187.562603   2454.0   1.593317  0.627621   \n",
       "1     POR-2       NaN    POR-2-85   400.690026   1830.0   2.015693  0.496107   \n",
       "2     POR-2       NaN    POR-2-33  1727.768911  18460.0  19.197699  0.052090   \n",
       "3     POR-2       NaN    POR-2-82  1535.301774  19514.0   5.805308  0.172256   \n",
       "4     POR-2       NaN     POR-2-7   299.211125   2332.0   1.529990  0.653599   \n",
       "\n",
       "   207Pb_206Pb  207Pb_206Pb_err  207Pb_235U  ...      68Age  68Age_err  \\\n",
       "0     0.040688         0.005553    0.037519  ...  42.969196   0.800852   \n",
       "1     0.046028         0.007520    0.046150  ...  46.708420   0.651555   \n",
       "2     0.046373         0.000795    0.048013  ...  48.226943   0.999377   \n",
       "3     0.046624         0.001008    0.048465  ...  48.417302   0.921306   \n",
       "4     0.042033         0.004611    0.044318  ...  49.108359   0.547924   \n",
       "\n",
       "        76Age   76Age_err    BestAge  BestAge_err  Disc  ZHe_Age  ZHe_Age_err  \\\n",
       "0 -307.078907  350.590494  42.969196     0.800852   NaN      NaN          NaN   \n",
       "1   -0.892810  396.082033  46.708420     0.651555   NaN      NaN          NaN   \n",
       "2   17.007509   41.201972  48.226943     0.999377   NaN      NaN          NaN   \n",
       "3   30.016655   51.812993  48.417302     0.921306   NaN      NaN          NaN   \n",
       "4 -224.552689  276.898362  49.108359     0.547924   NaN      NaN          NaN   \n",
       "\n",
       "   RimCore  \n",
       "0      NaN  \n",
       "1      NaN  \n",
       "2      NaN  \n",
       "3      NaN  \n",
       "4      NaN  \n",
       "\n",
       "[5 rows x 26 columns]"
      ]
     },
     "execution_count": 3,
     "metadata": {},
     "output_type": "execute_result"
    }
   ],
   "source": [
    "df=pd.read_excel(folder_path + file_name, sheet_name='ZrUPb', engine='openpyxl') # uses pandas to read in the csv as a 'DataFrame' called df\n",
    "df.head()"
   ]
  },
  {
   "cell_type": "markdown",
   "metadata": {
    "id": "O3P0_Ms13K-A"
   },
   "source": [
    "Nice! Let's make sure the dtypes are correct:"
   ]
  },
  {
   "cell_type": "code",
   "execution_count": 4,
   "metadata": {
    "id": "awZZsL_USl5k"
   },
   "outputs": [
    {
     "name": "stdout",
     "output_type": "stream",
     "text": [
      "<class 'pandas.core.frame.DataFrame'>\n",
      "RangeIndex: 1184 entries, 0 to 1183\n",
      "Data columns (total 26 columns):\n",
      " #   Column           Non-Null Count  Dtype  \n",
      "---  ------           --------------  -----  \n",
      " 0   Sample_ID        1184 non-null   object \n",
      " 1   Grain_ID         0 non-null      float64\n",
      " 2   Analysis_ID      1184 non-null   object \n",
      " 3   206Pb_204Pb      589 non-null    float64\n",
      " 4   U_ppm            1184 non-null   float64\n",
      " 5   U_Th             1184 non-null   float64\n",
      " 6   Th_U             1184 non-null   float64\n",
      " 7   207Pb_206Pb      1184 non-null   float64\n",
      " 8   207Pb_206Pb_err  1184 non-null   float64\n",
      " 9   207Pb_235U       1184 non-null   float64\n",
      " 10  207Pb_235U_err   1184 non-null   float64\n",
      " 11  206Pb_238U       1184 non-null   float64\n",
      " 12  206Pb_238U_err   1184 non-null   float64\n",
      " 13  RHO              1184 non-null   float64\n",
      " 14  75Age            1184 non-null   float64\n",
      " 15  75Age_err        1183 non-null   float64\n",
      " 16  68Age            1184 non-null   float64\n",
      " 17  68Age_err        1184 non-null   float64\n",
      " 18  76Age            625 non-null    float64\n",
      " 19  76Age_err        625 non-null    float64\n",
      " 20  BestAge          1184 non-null   float64\n",
      " 21  BestAge_err      1184 non-null   float64\n",
      " 22  Disc             0 non-null      float64\n",
      " 23  ZHe_Age          0 non-null      float64\n",
      " 24  ZHe_Age_err      0 non-null      float64\n",
      " 25  RimCore          0 non-null      float64\n",
      "dtypes: float64(24), object(2)\n",
      "memory usage: 240.6+ KB\n"
     ]
    }
   ],
   "source": [
    "df.info()"
   ]
  },
  {
   "cell_type": "markdown",
   "metadata": {
    "id": "lV70MjqW9f50"
   },
   "source": [
    "Excellent - I wish all data files were formatted like that. Let's check out a description of the data:"
   ]
  },
  {
   "cell_type": "code",
   "execution_count": 5,
   "metadata": {
    "id": "mpe2rdb3Hxh4"
   },
   "outputs": [
    {
     "data": {
      "text/html": [
       "<div>\n",
       "<style scoped>\n",
       "    .dataframe tbody tr th:only-of-type {\n",
       "        vertical-align: middle;\n",
       "    }\n",
       "\n",
       "    .dataframe tbody tr th {\n",
       "        vertical-align: top;\n",
       "    }\n",
       "\n",
       "    .dataframe thead th {\n",
       "        text-align: right;\n",
       "    }\n",
       "</style>\n",
       "<table border=\"1\" class=\"dataframe\">\n",
       "  <thead>\n",
       "    <tr style=\"text-align: right;\">\n",
       "      <th></th>\n",
       "      <th>Grain_ID</th>\n",
       "      <th>206Pb_204Pb</th>\n",
       "      <th>U_ppm</th>\n",
       "      <th>U_Th</th>\n",
       "      <th>Th_U</th>\n",
       "      <th>207Pb_206Pb</th>\n",
       "      <th>207Pb_206Pb_err</th>\n",
       "      <th>207Pb_235U</th>\n",
       "      <th>207Pb_235U_err</th>\n",
       "      <th>206Pb_238U</th>\n",
       "      <th>...</th>\n",
       "      <th>68Age</th>\n",
       "      <th>68Age_err</th>\n",
       "      <th>76Age</th>\n",
       "      <th>76Age_err</th>\n",
       "      <th>BestAge</th>\n",
       "      <th>BestAge_err</th>\n",
       "      <th>Disc</th>\n",
       "      <th>ZHe_Age</th>\n",
       "      <th>ZHe_Age_err</th>\n",
       "      <th>RimCore</th>\n",
       "    </tr>\n",
       "  </thead>\n",
       "  <tbody>\n",
       "    <tr>\n",
       "      <th>count</th>\n",
       "      <td>0.0</td>\n",
       "      <td>589.000000</td>\n",
       "      <td>1.184000e+03</td>\n",
       "      <td>1184.000000</td>\n",
       "      <td>1184.000000</td>\n",
       "      <td>1184.000000</td>\n",
       "      <td>1184.000000</td>\n",
       "      <td>1184.000000</td>\n",
       "      <td>1184.000000</td>\n",
       "      <td>1184.000000</td>\n",
       "      <td>...</td>\n",
       "      <td>1184.000000</td>\n",
       "      <td>1184.000000</td>\n",
       "      <td>625.000000</td>\n",
       "      <td>625.000000</td>\n",
       "      <td>1184.000000</td>\n",
       "      <td>1184.000000</td>\n",
       "      <td>0.0</td>\n",
       "      <td>0.0</td>\n",
       "      <td>0.0</td>\n",
       "      <td>0.0</td>\n",
       "    </tr>\n",
       "    <tr>\n",
       "      <th>mean</th>\n",
       "      <td>NaN</td>\n",
       "      <td>488.143662</td>\n",
       "      <td>1.535729e+04</td>\n",
       "      <td>2.660451</td>\n",
       "      <td>0.571404</td>\n",
       "      <td>0.053841</td>\n",
       "      <td>0.004100</td>\n",
       "      <td>0.449679</td>\n",
       "      <td>0.019499</td>\n",
       "      <td>0.039633</td>\n",
       "      <td>...</td>\n",
       "      <td>237.506342</td>\n",
       "      <td>4.827252</td>\n",
       "      <td>285.044004</td>\n",
       "      <td>289.446382</td>\n",
       "      <td>248.472298</td>\n",
       "      <td>4.791130</td>\n",
       "      <td>NaN</td>\n",
       "      <td>NaN</td>\n",
       "      <td>NaN</td>\n",
       "      <td>NaN</td>\n",
       "    </tr>\n",
       "    <tr>\n",
       "      <th>std</th>\n",
       "      <td>NaN</td>\n",
       "      <td>401.628866</td>\n",
       "      <td>6.010806e+04</td>\n",
       "      <td>3.485530</td>\n",
       "      <td>0.355032</td>\n",
       "      <td>0.018079</td>\n",
       "      <td>0.017931</td>\n",
       "      <td>1.377295</td>\n",
       "      <td>0.080965</td>\n",
       "      <td>0.070476</td>\n",
       "      <td>...</td>\n",
       "      <td>388.856896</td>\n",
       "      <td>9.456529</td>\n",
       "      <td>664.797347</td>\n",
       "      <td>327.423335</td>\n",
       "      <td>422.322410</td>\n",
       "      <td>8.445739</td>\n",
       "      <td>NaN</td>\n",
       "      <td>NaN</td>\n",
       "      <td>NaN</td>\n",
       "      <td>NaN</td>\n",
       "    </tr>\n",
       "    <tr>\n",
       "      <th>min</th>\n",
       "      <td>NaN</td>\n",
       "      <td>27.043019</td>\n",
       "      <td>2.330000e+01</td>\n",
       "      <td>0.325100</td>\n",
       "      <td>0.016160</td>\n",
       "      <td>0.018146</td>\n",
       "      <td>0.000143</td>\n",
       "      <td>0.037519</td>\n",
       "      <td>0.000850</td>\n",
       "      <td>0.006688</td>\n",
       "      <td>...</td>\n",
       "      <td>42.969196</td>\n",
       "      <td>0.310222</td>\n",
       "      <td>-3087.582303</td>\n",
       "      <td>0.000000</td>\n",
       "      <td>42.969196</td>\n",
       "      <td>0.310222</td>\n",
       "      <td>NaN</td>\n",
       "      <td>NaN</td>\n",
       "      <td>NaN</td>\n",
       "      <td>NaN</td>\n",
       "    </tr>\n",
       "    <tr>\n",
       "      <th>25%</th>\n",
       "      <td>NaN</td>\n",
       "      <td>212.240881</td>\n",
       "      <td>3.542250e+02</td>\n",
       "      <td>1.440044</td>\n",
       "      <td>0.351865</td>\n",
       "      <td>0.047596</td>\n",
       "      <td>0.000800</td>\n",
       "      <td>0.100513</td>\n",
       "      <td>0.003250</td>\n",
       "      <td>0.015208</td>\n",
       "      <td>...</td>\n",
       "      <td>97.261275</td>\n",
       "      <td>1.436355</td>\n",
       "      <td>13.499498</td>\n",
       "      <td>86.000000</td>\n",
       "      <td>97.261275</td>\n",
       "      <td>1.436355</td>\n",
       "      <td>NaN</td>\n",
       "      <td>NaN</td>\n",
       "      <td>NaN</td>\n",
       "      <td>NaN</td>\n",
       "    </tr>\n",
       "    <tr>\n",
       "      <th>50%</th>\n",
       "      <td>NaN</td>\n",
       "      <td>382.879604</td>\n",
       "      <td>1.582590e+03</td>\n",
       "      <td>2.039231</td>\n",
       "      <td>0.490381</td>\n",
       "      <td>0.049334</td>\n",
       "      <td>0.001432</td>\n",
       "      <td>0.144072</td>\n",
       "      <td>0.005756</td>\n",
       "      <td>0.021930</td>\n",
       "      <td>...</td>\n",
       "      <td>139.641154</td>\n",
       "      <td>2.176547</td>\n",
       "      <td>115.670764</td>\n",
       "      <td>186.132997</td>\n",
       "      <td>139.641154</td>\n",
       "      <td>2.176547</td>\n",
       "      <td>NaN</td>\n",
       "      <td>NaN</td>\n",
       "      <td>NaN</td>\n",
       "      <td>NaN</td>\n",
       "    </tr>\n",
       "    <tr>\n",
       "      <th>75%</th>\n",
       "      <td>NaN</td>\n",
       "      <td>639.357573</td>\n",
       "      <td>1.182978e+04</td>\n",
       "      <td>2.842000</td>\n",
       "      <td>0.694425</td>\n",
       "      <td>0.051800</td>\n",
       "      <td>0.004197</td>\n",
       "      <td>0.184492</td>\n",
       "      <td>0.016409</td>\n",
       "      <td>0.026100</td>\n",
       "      <td>...</td>\n",
       "      <td>166.050169</td>\n",
       "      <td>4.205218</td>\n",
       "      <td>241.342989</td>\n",
       "      <td>368.796567</td>\n",
       "      <td>166.050169</td>\n",
       "      <td>4.159157</td>\n",
       "      <td>NaN</td>\n",
       "      <td>NaN</td>\n",
       "      <td>NaN</td>\n",
       "      <td>NaN</td>\n",
       "    </tr>\n",
       "    <tr>\n",
       "      <th>max</th>\n",
       "      <td>NaN</td>\n",
       "      <td>2912.198355</td>\n",
       "      <td>1.217614e+06</td>\n",
       "      <td>61.881165</td>\n",
       "      <td>3.075977</td>\n",
       "      <td>0.260038</td>\n",
       "      <td>0.564884</td>\n",
       "      <td>22.230823</td>\n",
       "      <td>1.954081</td>\n",
       "      <td>0.620036</td>\n",
       "      <td>...</td>\n",
       "      <td>3110.061838</td>\n",
       "      <td>208.441511</td>\n",
       "      <td>3246.929227</td>\n",
       "      <td>3309.686674</td>\n",
       "      <td>3246.929227</td>\n",
       "      <td>107.311590</td>\n",
       "      <td>NaN</td>\n",
       "      <td>NaN</td>\n",
       "      <td>NaN</td>\n",
       "      <td>NaN</td>\n",
       "    </tr>\n",
       "  </tbody>\n",
       "</table>\n",
       "<p>8 rows × 24 columns</p>\n",
       "</div>"
      ],
      "text/plain": [
       "       Grain_ID  206Pb_204Pb         U_ppm         U_Th         Th_U  \\\n",
       "count       0.0   589.000000  1.184000e+03  1184.000000  1184.000000   \n",
       "mean        NaN   488.143662  1.535729e+04     2.660451     0.571404   \n",
       "std         NaN   401.628866  6.010806e+04     3.485530     0.355032   \n",
       "min         NaN    27.043019  2.330000e+01     0.325100     0.016160   \n",
       "25%         NaN   212.240881  3.542250e+02     1.440044     0.351865   \n",
       "50%         NaN   382.879604  1.582590e+03     2.039231     0.490381   \n",
       "75%         NaN   639.357573  1.182978e+04     2.842000     0.694425   \n",
       "max         NaN  2912.198355  1.217614e+06    61.881165     3.075977   \n",
       "\n",
       "       207Pb_206Pb  207Pb_206Pb_err   207Pb_235U  207Pb_235U_err   206Pb_238U  \\\n",
       "count  1184.000000      1184.000000  1184.000000     1184.000000  1184.000000   \n",
       "mean      0.053841         0.004100     0.449679        0.019499     0.039633   \n",
       "std       0.018079         0.017931     1.377295        0.080965     0.070476   \n",
       "min       0.018146         0.000143     0.037519        0.000850     0.006688   \n",
       "25%       0.047596         0.000800     0.100513        0.003250     0.015208   \n",
       "50%       0.049334         0.001432     0.144072        0.005756     0.021930   \n",
       "75%       0.051800         0.004197     0.184492        0.016409     0.026100   \n",
       "max       0.260038         0.564884    22.230823        1.954081     0.620036   \n",
       "\n",
       "       ...        68Age    68Age_err        76Age    76Age_err      BestAge  \\\n",
       "count  ...  1184.000000  1184.000000   625.000000   625.000000  1184.000000   \n",
       "mean   ...   237.506342     4.827252   285.044004   289.446382   248.472298   \n",
       "std    ...   388.856896     9.456529   664.797347   327.423335   422.322410   \n",
       "min    ...    42.969196     0.310222 -3087.582303     0.000000    42.969196   \n",
       "25%    ...    97.261275     1.436355    13.499498    86.000000    97.261275   \n",
       "50%    ...   139.641154     2.176547   115.670764   186.132997   139.641154   \n",
       "75%    ...   166.050169     4.205218   241.342989   368.796567   166.050169   \n",
       "max    ...  3110.061838   208.441511  3246.929227  3309.686674  3246.929227   \n",
       "\n",
       "       BestAge_err  Disc  ZHe_Age  ZHe_Age_err  RimCore  \n",
       "count  1184.000000   0.0      0.0          0.0      0.0  \n",
       "mean      4.791130   NaN      NaN          NaN      NaN  \n",
       "std       8.445739   NaN      NaN          NaN      NaN  \n",
       "min       0.310222   NaN      NaN          NaN      NaN  \n",
       "25%       1.436355   NaN      NaN          NaN      NaN  \n",
       "50%       2.176547   NaN      NaN          NaN      NaN  \n",
       "75%       4.159157   NaN      NaN          NaN      NaN  \n",
       "max     107.311590   NaN      NaN          NaN      NaN  \n",
       "\n",
       "[8 rows x 24 columns]"
      ]
     },
     "execution_count": 5,
     "metadata": {},
     "output_type": "execute_result"
    }
   ],
   "source": [
    "df.describe()"
   ]
  },
  {
   "cell_type": "code",
   "execution_count": 6,
   "metadata": {
    "id": "-K1cY18hLn06"
   },
   "outputs": [
    {
     "data": {
      "text/html": [
       "<div>\n",
       "<style scoped>\n",
       "    .dataframe tbody tr th:only-of-type {\n",
       "        vertical-align: middle;\n",
       "    }\n",
       "\n",
       "    .dataframe tbody tr th {\n",
       "        vertical-align: top;\n",
       "    }\n",
       "\n",
       "    .dataframe thead th {\n",
       "        text-align: right;\n",
       "    }\n",
       "</style>\n",
       "<table border=\"1\" class=\"dataframe\">\n",
       "  <thead>\n",
       "    <tr style=\"text-align: right;\">\n",
       "      <th></th>\n",
       "      <th>count</th>\n",
       "      <th>mean</th>\n",
       "      <th>std</th>\n",
       "      <th>min</th>\n",
       "      <th>25%</th>\n",
       "      <th>50%</th>\n",
       "      <th>75%</th>\n",
       "      <th>max</th>\n",
       "    </tr>\n",
       "    <tr>\n",
       "      <th>Sample_ID</th>\n",
       "      <th></th>\n",
       "      <th></th>\n",
       "      <th></th>\n",
       "      <th></th>\n",
       "      <th></th>\n",
       "      <th></th>\n",
       "      <th></th>\n",
       "      <th></th>\n",
       "    </tr>\n",
       "  </thead>\n",
       "  <tbody>\n",
       "    <tr>\n",
       "      <th>BUT-1</th>\n",
       "      <td>100.0</td>\n",
       "      <td>270.821084</td>\n",
       "      <td>432.974949</td>\n",
       "      <td>81.909284</td>\n",
       "      <td>104.723150</td>\n",
       "      <td>159.566275</td>\n",
       "      <td>197.770412</td>\n",
       "      <td>2840.000000</td>\n",
       "    </tr>\n",
       "    <tr>\n",
       "      <th>BUT-2</th>\n",
       "      <td>99.0</td>\n",
       "      <td>255.744154</td>\n",
       "      <td>415.649604</td>\n",
       "      <td>77.217434</td>\n",
       "      <td>98.253280</td>\n",
       "      <td>153.425129</td>\n",
       "      <td>172.497076</td>\n",
       "      <td>2240.000000</td>\n",
       "    </tr>\n",
       "    <tr>\n",
       "      <th>BUT-3</th>\n",
       "      <td>100.0</td>\n",
       "      <td>218.253463</td>\n",
       "      <td>344.665800</td>\n",
       "      <td>67.113260</td>\n",
       "      <td>96.926225</td>\n",
       "      <td>150.370502</td>\n",
       "      <td>164.220574</td>\n",
       "      <td>1850.000000</td>\n",
       "    </tr>\n",
       "    <tr>\n",
       "      <th>BUT-4</th>\n",
       "      <td>99.0</td>\n",
       "      <td>261.970724</td>\n",
       "      <td>392.254698</td>\n",
       "      <td>85.977323</td>\n",
       "      <td>143.788676</td>\n",
       "      <td>161.838069</td>\n",
       "      <td>168.596222</td>\n",
       "      <td>1797.899348</td>\n",
       "    </tr>\n",
       "    <tr>\n",
       "      <th>BUT-5</th>\n",
       "      <td>96.0</td>\n",
       "      <td>329.429600</td>\n",
       "      <td>550.431616</td>\n",
       "      <td>79.957142</td>\n",
       "      <td>97.059649</td>\n",
       "      <td>150.096633</td>\n",
       "      <td>170.723591</td>\n",
       "      <td>3246.929227</td>\n",
       "    </tr>\n",
       "    <tr>\n",
       "      <th>POR-1</th>\n",
       "      <td>100.0</td>\n",
       "      <td>200.023693</td>\n",
       "      <td>361.083596</td>\n",
       "      <td>43.435009</td>\n",
       "      <td>95.190867</td>\n",
       "      <td>103.187945</td>\n",
       "      <td>120.019771</td>\n",
       "      <td>1896.928018</td>\n",
       "    </tr>\n",
       "    <tr>\n",
       "      <th>POR-2</th>\n",
       "      <td>97.0</td>\n",
       "      <td>296.816210</td>\n",
       "      <td>528.122072</td>\n",
       "      <td>42.969196</td>\n",
       "      <td>95.091671</td>\n",
       "      <td>105.071041</td>\n",
       "      <td>123.492473</td>\n",
       "      <td>2468.478322</td>\n",
       "    </tr>\n",
       "    <tr>\n",
       "      <th>POR-3</th>\n",
       "      <td>101.0</td>\n",
       "      <td>190.515164</td>\n",
       "      <td>413.503765</td>\n",
       "      <td>45.138314</td>\n",
       "      <td>94.049496</td>\n",
       "      <td>103.518484</td>\n",
       "      <td>121.731815</td>\n",
       "      <td>3179.874635</td>\n",
       "    </tr>\n",
       "    <tr>\n",
       "      <th>SEF-1</th>\n",
       "      <td>99.0</td>\n",
       "      <td>197.404483</td>\n",
       "      <td>314.881477</td>\n",
       "      <td>79.781044</td>\n",
       "      <td>96.516449</td>\n",
       "      <td>145.490278</td>\n",
       "      <td>161.381595</td>\n",
       "      <td>1790.000000</td>\n",
       "    </tr>\n",
       "    <tr>\n",
       "      <th>SJB-1</th>\n",
       "      <td>96.0</td>\n",
       "      <td>298.279611</td>\n",
       "      <td>503.904944</td>\n",
       "      <td>83.072715</td>\n",
       "      <td>97.385815</td>\n",
       "      <td>152.503890</td>\n",
       "      <td>170.199809</td>\n",
       "      <td>2598.543911</td>\n",
       "    </tr>\n",
       "    <tr>\n",
       "      <th>TEJ-1</th>\n",
       "      <td>100.0</td>\n",
       "      <td>262.736924</td>\n",
       "      <td>417.047428</td>\n",
       "      <td>85.140748</td>\n",
       "      <td>100.420791</td>\n",
       "      <td>150.987003</td>\n",
       "      <td>173.045555</td>\n",
       "      <td>2030.000000</td>\n",
       "    </tr>\n",
       "    <tr>\n",
       "      <th>TEJ-2</th>\n",
       "      <td>97.0</td>\n",
       "      <td>205.335865</td>\n",
       "      <td>318.716092</td>\n",
       "      <td>62.529436</td>\n",
       "      <td>96.563092</td>\n",
       "      <td>148.374087</td>\n",
       "      <td>162.416491</td>\n",
       "      <td>1714.000000</td>\n",
       "    </tr>\n",
       "  </tbody>\n",
       "</table>\n",
       "</div>"
      ],
      "text/plain": [
       "           count        mean         std        min         25%         50%  \\\n",
       "Sample_ID                                                                     \n",
       "BUT-1      100.0  270.821084  432.974949  81.909284  104.723150  159.566275   \n",
       "BUT-2       99.0  255.744154  415.649604  77.217434   98.253280  153.425129   \n",
       "BUT-3      100.0  218.253463  344.665800  67.113260   96.926225  150.370502   \n",
       "BUT-4       99.0  261.970724  392.254698  85.977323  143.788676  161.838069   \n",
       "BUT-5       96.0  329.429600  550.431616  79.957142   97.059649  150.096633   \n",
       "POR-1      100.0  200.023693  361.083596  43.435009   95.190867  103.187945   \n",
       "POR-2       97.0  296.816210  528.122072  42.969196   95.091671  105.071041   \n",
       "POR-3      101.0  190.515164  413.503765  45.138314   94.049496  103.518484   \n",
       "SEF-1       99.0  197.404483  314.881477  79.781044   96.516449  145.490278   \n",
       "SJB-1       96.0  298.279611  503.904944  83.072715   97.385815  152.503890   \n",
       "TEJ-1      100.0  262.736924  417.047428  85.140748  100.420791  150.987003   \n",
       "TEJ-2       97.0  205.335865  318.716092  62.529436   96.563092  148.374087   \n",
       "\n",
       "                  75%          max  \n",
       "Sample_ID                           \n",
       "BUT-1      197.770412  2840.000000  \n",
       "BUT-2      172.497076  2240.000000  \n",
       "BUT-3      164.220574  1850.000000  \n",
       "BUT-4      168.596222  1797.899348  \n",
       "BUT-5      170.723591  3246.929227  \n",
       "POR-1      120.019771  1896.928018  \n",
       "POR-2      123.492473  2468.478322  \n",
       "POR-3      121.731815  3179.874635  \n",
       "SEF-1      161.381595  1790.000000  \n",
       "SJB-1      170.199809  2598.543911  \n",
       "TEJ-1      173.045555  2030.000000  \n",
       "TEJ-2      162.416491  1714.000000  "
      ]
     },
     "execution_count": 6,
     "metadata": {},
     "output_type": "execute_result"
    }
   ],
   "source": [
    "df.groupby('Sample_ID').BestAge.describe()"
   ]
  },
  {
   "cell_type": "code",
   "execution_count": 7,
   "metadata": {
    "id": "R9gu1AKeJIQi"
   },
   "outputs": [
    {
     "data": {
      "text/plain": [
       "Sample_ID\n",
       "BUT-1    100\n",
       "BUT-2     99\n",
       "BUT-3    100\n",
       "BUT-4     99\n",
       "BUT-5     96\n",
       "POR-1    100\n",
       "POR-2     97\n",
       "POR-3    101\n",
       "SEF-1     99\n",
       "SJB-1     96\n",
       "TEJ-1    100\n",
       "TEJ-2     97\n",
       "dtype: int64"
      ]
     },
     "execution_count": 7,
     "metadata": {},
     "output_type": "execute_result"
    }
   ],
   "source": [
    "df.groupby('Sample_ID').size() # number of rows per sample"
   ]
  },
  {
   "cell_type": "code",
   "execution_count": 8,
   "metadata": {
    "id": "32TnQYpAJTMH"
   },
   "outputs": [
    {
     "data": {
      "text/plain": [
       "Sample_ID\n",
       "BUT-1    2840.000000\n",
       "BUT-2    2240.000000\n",
       "BUT-3    1850.000000\n",
       "BUT-4    1797.899348\n",
       "BUT-5    3246.929227\n",
       "POR-1    1896.928018\n",
       "POR-2    2468.478322\n",
       "POR-3    3179.874635\n",
       "SEF-1    1790.000000\n",
       "SJB-1    2598.543911\n",
       "TEJ-1    2030.000000\n",
       "TEJ-2    1714.000000\n",
       "Name: BestAge, dtype: float64"
      ]
     },
     "execution_count": 8,
     "metadata": {},
     "output_type": "execute_result"
    }
   ],
   "source": [
    "df.groupby('Sample_ID').BestAge.max() # oldest Age per sample (could also do min, mean, median, etc.)"
   ]
  },
  {
   "cell_type": "code",
   "execution_count": 9,
   "metadata": {
    "id": "VyK_wGnEL2-h"
   },
   "outputs": [
    {
     "data": {
      "text/plain": [
       "<Axes: >"
      ]
     },
     "execution_count": 9,
     "metadata": {},
     "output_type": "execute_result"
    },
    {
     "data": {
      "image/png": "[encoded data removed]",
      "text/plain": [
       "<Figure size 640x480 with 1 Axes>"
      ]
     },
     "metadata": {},
     "output_type": "display_data"
    }
   ],
   "source": [
    "df.BestAge.hist() # all ages as a histogram"
   ]
  },
  {
   "cell_type": "code",
   "execution_count": 10,
   "metadata": {
    "id": "UAqiNHRtINLH"
   },
   "outputs": [
    {
     "data": {
      "image/png": "[encoded data removed]",
      "text/plain": [
       "<Figure size 1000x2000 with 12 Axes>"
      ]
     },
     "metadata": {},
     "output_type": "display_data"
    }
   ],
   "source": [
    "# each sample as a separate box plot\n",
    "df.groupby('Sample_ID').boxplot(column=['BestAge'], grid=False, showfliers=False, figsize=[10,20], sharey=True)\n",
    "plt.show()"
   ]
  },
  {
   "cell_type": "code",
   "execution_count": 11,
   "metadata": {
    "id": "2fu9eHGQtLkr"
   },
   "outputs": [
    {
     "data": {
      "image/png": "[encoded data removed]",
      "text/plain": [
       "<Figure size 640x480 with 1 Axes>"
      ]
     },
     "metadata": {},
     "output_type": "display_data"
    }
   ],
   "source": [
    "df.plot(x='BestAge', y='BestAge_err', style='.');"
   ]
  },
  {
   "cell_type": "markdown",
   "metadata": {
    "id": "BLc7PdUn7w1E"
   },
   "source": [
    "### Now you try\n",
    "Make a plot using one of the built-in pandas plotting methods - anything you want! "
   ]
  },
  {
   "cell_type": "code",
   "execution_count": 12,
   "metadata": {
    "id": "bbb1SGwE7w1E"
   },
   "outputs": [],
   "source": [
    "# your code goes here"
   ]
  },
  {
   "cell_type": "markdown",
   "metadata": {
    "id": "23I60nMAqZmD"
   },
   "source": [
    "![I did it](https://media1.tenor.com/images/a5747f7b1d84287ca4a62e8a428d51ae/tenor.gif?itemid=4990241)"
   ]
  },
  {
   "cell_type": "markdown",
   "metadata": {
    "id": "ILqUaHPu6NTz"
   },
   "source": [
    "# Some not-so-easy geochronology data\n",
    "\n",
    "Ok, now it's time for the not-so-easy dataset. Here goes:"
   ]
  },
  {
   "cell_type": "code",
   "execution_count": 13,
   "metadata": {
    "id": "GcAjvaEy6NT8"
   },
   "outputs": [],
   "source": [
    "# these next two things shuoldnt need to be changed if you set up your Google Drive folder correctly (see Module 1)\n",
    "folder_path = '../1_data/' # makes a path\n",
    "file_name = 'Daniels_GSA_2017304_appendix2.xlsx' # file name"
   ]
  },
  {
   "cell_type": "markdown",
   "metadata": {
    "id": "0QlgJFu26NUH"
   },
   "source": [
    "## Let's load in a dataset\n",
    "The data we want is located here https://doi.org/10.1130/B31757.1 It is the Appendix 2 file (\"Supplemental Information 2\" down at the bottom   of the   page). Two tabs in that xlsx are useful to us, the \"high throughput\" and \"low throughput\" tabs, which are U-Pb ages from detrital zircons from the Magallanes Basin, Chile. Also, by default, `pandas` imports the first sheet, but we also want to specify that, so we use `sheet_name` for that. \n",
    "\n",
    "Before we load the data, the Excel file is weird, and has a linked IsoPlot function in the file that needs to be broken/deleted. I took care of breaking this link and saving as a new file, which fixes weird encryption issues with Excel format. Yet another reason to just use a csv file... \n",
    "\n",
    "We load it with the pandas `read_xls` function into a DataFrame called `df`:"
   ]
  },
  {
   "cell_type": "code",
   "execution_count": 14,
   "metadata": {
    "id": "5sbhaJoO6NUI"
   },
   "outputs": [
    {
     "name": "stderr",
     "output_type": "stream",
     "text": [
      "/opt/conda/envs/csm-2024-fall/lib/python3.11/site-packages/openpyxl/worksheet/_reader.py:329: UserWarning: Unknown extension is not supported and will be removed\n",
      "  warn(msg)\n"
     ]
    },
    {
     "data": {
      "text/html": [
       "<div>\n",
       "<style scoped>\n",
       "    .dataframe tbody tr th:only-of-type {\n",
       "        vertical-align: middle;\n",
       "    }\n",
       "\n",
       "    .dataframe tbody tr th {\n",
       "        vertical-align: top;\n",
       "    }\n",
       "\n",
       "    .dataframe thead th {\n",
       "        text-align: right;\n",
       "    }\n",
       "</style>\n",
       "<table border=\"1\" class=\"dataframe\">\n",
       "  <thead>\n",
       "    <tr style=\"text-align: right;\">\n",
       "      <th></th>\n",
       "      <th>University of Calgary, Centre for Pure and Applied Tectonics and Thermochronology</th>\n",
       "      <th>Unnamed: 1</th>\n",
       "      <th>Unnamed: 2</th>\n",
       "      <th>Unnamed: 3</th>\n",
       "      <th>Unnamed: 4</th>\n",
       "      <th>Unnamed: 5</th>\n",
       "      <th>Unnamed: 6</th>\n",
       "      <th>Unnamed: 7</th>\n",
       "      <th>Unnamed: 8</th>\n",
       "      <th>Unnamed: 9</th>\n",
       "      <th>...</th>\n",
       "      <th>Unnamed: 32</th>\n",
       "      <th>Unnamed: 33</th>\n",
       "      <th>Unnamed: 34</th>\n",
       "      <th>Unnamed: 35</th>\n",
       "      <th>Unnamed: 36</th>\n",
       "      <th>Unnamed: 37</th>\n",
       "      <th>Unnamed: 38</th>\n",
       "      <th>Unnamed: 39</th>\n",
       "      <th>Unnamed: 40</th>\n",
       "      <th>Unnamed: 41</th>\n",
       "    </tr>\n",
       "  </thead>\n",
       "  <tbody>\n",
       "    <tr>\n",
       "      <th>0</th>\n",
       "      <td>NaN</td>\n",
       "      <td>NaN</td>\n",
       "      <td>NaN</td>\n",
       "      <td>NaN</td>\n",
       "      <td>NaN</td>\n",
       "      <td>NaN</td>\n",
       "      <td>NaN</td>\n",
       "      <td>NaN</td>\n",
       "      <td>NaN</td>\n",
       "      <td>NaN</td>\n",
       "      <td>...</td>\n",
       "      <td>NaN</td>\n",
       "      <td>NaN</td>\n",
       "      <td>NaN</td>\n",
       "      <td>NaN</td>\n",
       "      <td>NaN</td>\n",
       "      <td>NaN</td>\n",
       "      <td>NaN</td>\n",
       "      <td>NaN</td>\n",
       "      <td>NaN</td>\n",
       "      <td>NaN</td>\n",
       "    </tr>\n",
       "    <tr>\n",
       "      <th>1</th>\n",
       "      <td>15-CC-01 HT</td>\n",
       "      <td>NaN</td>\n",
       "      <td>f206c</td>\n",
       "      <td>207Pb CPS</td>\n",
       "      <td>206Pb CPS</td>\n",
       "      <td>U (ppm)1</td>\n",
       "      <td>U/Th</td>\n",
       "      <td>206Pb/204Pb</td>\n",
       "      <td>1σ %</td>\n",
       "      <td>Data for Tera-Wasserburg plot2</td>\n",
       "      <td>...</td>\n",
       "      <td>2σx (ABS)</td>\n",
       "      <td>2σtotal (ABS)</td>\n",
       "      <td>Prob. Conc. (%)</td>\n",
       "      <td>% conc3</td>\n",
       "      <td>Comments</td>\n",
       "      <td>Accepted Dates4</td>\n",
       "      <td>NaN</td>\n",
       "      <td>NaN</td>\n",
       "      <td>NaN</td>\n",
       "      <td>NaN</td>\n",
       "    </tr>\n",
       "    <tr>\n",
       "      <th>2</th>\n",
       "      <td>Sample</td>\n",
       "      <td>Spot</td>\n",
       "      <td>NaN</td>\n",
       "      <td>NaN</td>\n",
       "      <td>NaN</td>\n",
       "      <td>NaN</td>\n",
       "      <td>NaN</td>\n",
       "      <td>NaN</td>\n",
       "      <td>NaN</td>\n",
       "      <td>238U/206Pb</td>\n",
       "      <td>...</td>\n",
       "      <td>NaN</td>\n",
       "      <td>NaN</td>\n",
       "      <td>NaN</td>\n",
       "      <td>NaN</td>\n",
       "      <td>NaN</td>\n",
       "      <td>Date (Ma)</td>\n",
       "      <td>2σx (ABS)</td>\n",
       "      <td>2σx (%)</td>\n",
       "      <td>2σtotal (ABS)</td>\n",
       "      <td>2σtotal (%)</td>\n",
       "    </tr>\n",
       "    <tr>\n",
       "      <th>3</th>\n",
       "      <td>UK012</td>\n",
       "      <td>UK012_356</td>\n",
       "      <td>NaN</td>\n",
       "      <td>50</td>\n",
       "      <td>1110</td>\n",
       "      <td>114.4</td>\n",
       "      <td>1.396825</td>\n",
       "      <td>NaN</td>\n",
       "      <td>NaN</td>\n",
       "      <td>100</td>\n",
       "      <td>...</td>\n",
       "      <td>NaN</td>\n",
       "      <td>NaN</td>\n",
       "      <td>71.822911</td>\n",
       "      <td>NaN</td>\n",
       "      <td>NaN</td>\n",
       "      <td>64.143954</td>\n",
       "      <td>4.777458</td>\n",
       "      <td>7.448025</td>\n",
       "      <td>4.842839</td>\n",
       "      <td>7.5119</td>\n",
       "    </tr>\n",
       "    <tr>\n",
       "      <th>4</th>\n",
       "      <td>UK012</td>\n",
       "      <td>UK012_576</td>\n",
       "      <td>NaN</td>\n",
       "      <td>378</td>\n",
       "      <td>8100</td>\n",
       "      <td>886</td>\n",
       "      <td>2.155718</td>\n",
       "      <td>NaN</td>\n",
       "      <td>NaN</td>\n",
       "      <td>95.510984</td>\n",
       "      <td>...</td>\n",
       "      <td>NaN</td>\n",
       "      <td>NaN</td>\n",
       "      <td>96.552144</td>\n",
       "      <td>NaN</td>\n",
       "      <td>NaN</td>\n",
       "      <td>67.143073</td>\n",
       "      <td>2.772284</td>\n",
       "      <td>4.128921</td>\n",
       "      <td>2.893859</td>\n",
       "      <td>4.308652</td>\n",
       "    </tr>\n",
       "  </tbody>\n",
       "</table>\n",
       "<p>5 rows × 42 columns</p>\n",
       "</div>"
      ],
      "text/plain": [
       "  University of Calgary, Centre for Pure and Applied Tectonics and Thermochronology  \\\n",
       "0                                                NaN                                  \n",
       "1                                        15-CC-01 HT                                  \n",
       "2                                             Sample                                  \n",
       "3                                              UK012                                  \n",
       "4                                              UK012                                  \n",
       "\n",
       "  Unnamed: 1 Unnamed: 2 Unnamed: 3 Unnamed: 4 Unnamed: 5 Unnamed: 6  \\\n",
       "0        NaN        NaN        NaN        NaN        NaN        NaN   \n",
       "1        NaN      f206c  207Pb CPS  206Pb CPS   U (ppm)1       U/Th   \n",
       "2       Spot        NaN        NaN        NaN        NaN        NaN   \n",
       "3  UK012_356        NaN         50       1110      114.4   1.396825   \n",
       "4  UK012_576        NaN        378       8100        886   2.155718   \n",
       "\n",
       "    Unnamed: 7 Unnamed: 8                      Unnamed: 9  ... Unnamed: 32  \\\n",
       "0          NaN        NaN                             NaN  ...         NaN   \n",
       "1  206Pb/204Pb       1σ %  Data for Tera-Wasserburg plot2  ...   2σx (ABS)   \n",
       "2          NaN        NaN                      238U/206Pb  ...         NaN   \n",
       "3          NaN        NaN                             100  ...         NaN   \n",
       "4          NaN        NaN                       95.510984  ...         NaN   \n",
       "\n",
       "     Unnamed: 33       Unnamed: 34 Unnamed: 35 Unnamed: 36      Unnamed: 37  \\\n",
       "0            NaN               NaN         NaN         NaN              NaN   \n",
       "1  2σtotal (ABS)  Prob. Conc. (%)      % conc3    Comments  Accepted Dates4   \n",
       "2            NaN               NaN         NaN         NaN        Date (Ma)   \n",
       "3            NaN         71.822911         NaN         NaN        64.143954   \n",
       "4            NaN         96.552144         NaN         NaN        67.143073   \n",
       "\n",
       "  Unnamed: 38 Unnamed: 39    Unnamed: 40  Unnamed: 41  \n",
       "0         NaN         NaN            NaN          NaN  \n",
       "1         NaN         NaN            NaN          NaN  \n",
       "2   2σx (ABS)     2σx (%)  2σtotal (ABS)  2σtotal (%)  \n",
       "3    4.777458    7.448025       4.842839       7.5119  \n",
       "4    2.772284    4.128921       2.893859     4.308652  \n",
       "\n",
       "[5 rows x 42 columns]"
      ]
     },
     "execution_count": 14,
     "metadata": {},
     "output_type": "execute_result"
    }
   ],
   "source": [
    "df=pd.read_excel(folder_path + file_name, sheet_name='HighThroughputAges - LA-ICP-MS') # uses pandas to read in the csv as a 'DataFrame' called df\n",
    "df.head()"
   ]
  },
  {
   "cell_type": "markdown",
   "metadata": {
    "id": "d1NaaMoo6NUO"
   },
   "source": [
    "Hmm, that doesnt look right. There are a few header lines, which are messing up the key names (currently in row `1`. You could go into Excel and delete them, but it's good practice to modify the input file as little as possible. Also, there are 13 samples and two tabs, so that means you would have to fix these issues 26 times manually, which is sub-optimal. Let's automate the boring stuff!"
   ]
  },
  {
   "cell_type": "code",
   "execution_count": 15,
   "metadata": {
    "id": "ZNNkt0EJHjRM"
   },
   "outputs": [
    {
     "name": "stderr",
     "output_type": "stream",
     "text": [
      "/opt/conda/envs/csm-2024-fall/lib/python3.11/site-packages/openpyxl/worksheet/_reader.py:329: UserWarning: Unknown extension is not supported and will be removed\n",
      "  warn(msg)\n"
     ]
    },
    {
     "data": {
      "text/html": [
       "<div>\n",
       "<style scoped>\n",
       "    .dataframe tbody tr th:only-of-type {\n",
       "        vertical-align: middle;\n",
       "    }\n",
       "\n",
       "    .dataframe tbody tr th {\n",
       "        vertical-align: top;\n",
       "    }\n",
       "\n",
       "    .dataframe thead th {\n",
       "        text-align: right;\n",
       "    }\n",
       "</style>\n",
       "<table border=\"1\" class=\"dataframe\">\n",
       "  <thead>\n",
       "    <tr style=\"text-align: right;\">\n",
       "      <th></th>\n",
       "      <th>15-CC-01 HT</th>\n",
       "      <th>Unnamed: 1</th>\n",
       "      <th>f206c</th>\n",
       "      <th>207Pb CPS</th>\n",
       "      <th>206Pb CPS</th>\n",
       "      <th>U (ppm)1</th>\n",
       "      <th>U/Th</th>\n",
       "      <th>206Pb/204Pb</th>\n",
       "      <th>1σ %</th>\n",
       "      <th>Data for Tera-Wasserburg plot2</th>\n",
       "      <th>...</th>\n",
       "      <th>2σx (ABS)</th>\n",
       "      <th>2σtotal (ABS)</th>\n",
       "      <th>Prob. Conc. (%)</th>\n",
       "      <th>% conc3</th>\n",
       "      <th>Comments</th>\n",
       "      <th>Accepted Dates4</th>\n",
       "      <th>Unnamed: 38</th>\n",
       "      <th>Unnamed: 39</th>\n",
       "      <th>Unnamed: 40</th>\n",
       "      <th>Unnamed: 41</th>\n",
       "    </tr>\n",
       "  </thead>\n",
       "  <tbody>\n",
       "    <tr>\n",
       "      <th>0</th>\n",
       "      <td>Sample</td>\n",
       "      <td>Spot</td>\n",
       "      <td>NaN</td>\n",
       "      <td>NaN</td>\n",
       "      <td>NaN</td>\n",
       "      <td>NaN</td>\n",
       "      <td>NaN</td>\n",
       "      <td>NaN</td>\n",
       "      <td>NaN</td>\n",
       "      <td>238U/206Pb</td>\n",
       "      <td>...</td>\n",
       "      <td>NaN</td>\n",
       "      <td>NaN</td>\n",
       "      <td>NaN</td>\n",
       "      <td>NaN</td>\n",
       "      <td>NaN</td>\n",
       "      <td>Date (Ma)</td>\n",
       "      <td>2σx (ABS)</td>\n",
       "      <td>2σx (%)</td>\n",
       "      <td>2σtotal (ABS)</td>\n",
       "      <td>2σtotal (%)</td>\n",
       "    </tr>\n",
       "    <tr>\n",
       "      <th>1</th>\n",
       "      <td>UK012</td>\n",
       "      <td>UK012_356</td>\n",
       "      <td>NaN</td>\n",
       "      <td>50</td>\n",
       "      <td>1110</td>\n",
       "      <td>114.4</td>\n",
       "      <td>1.396825</td>\n",
       "      <td>NaN</td>\n",
       "      <td>NaN</td>\n",
       "      <td>100</td>\n",
       "      <td>...</td>\n",
       "      <td>NaN</td>\n",
       "      <td>NaN</td>\n",
       "      <td>71.822911</td>\n",
       "      <td>NaN</td>\n",
       "      <td>NaN</td>\n",
       "      <td>64.143954</td>\n",
       "      <td>4.777458</td>\n",
       "      <td>7.448025</td>\n",
       "      <td>4.842839</td>\n",
       "      <td>7.5119</td>\n",
       "    </tr>\n",
       "    <tr>\n",
       "      <th>2</th>\n",
       "      <td>UK012</td>\n",
       "      <td>UK012_576</td>\n",
       "      <td>NaN</td>\n",
       "      <td>378</td>\n",
       "      <td>8100</td>\n",
       "      <td>886</td>\n",
       "      <td>2.155718</td>\n",
       "      <td>NaN</td>\n",
       "      <td>NaN</td>\n",
       "      <td>95.510984</td>\n",
       "      <td>...</td>\n",
       "      <td>NaN</td>\n",
       "      <td>NaN</td>\n",
       "      <td>96.552144</td>\n",
       "      <td>NaN</td>\n",
       "      <td>NaN</td>\n",
       "      <td>67.143073</td>\n",
       "      <td>2.772284</td>\n",
       "      <td>4.128921</td>\n",
       "      <td>2.893859</td>\n",
       "      <td>4.308652</td>\n",
       "    </tr>\n",
       "    <tr>\n",
       "      <th>3</th>\n",
       "      <td>UK012</td>\n",
       "      <td>UK012_632</td>\n",
       "      <td>NaN</td>\n",
       "      <td>149</td>\n",
       "      <td>2760</td>\n",
       "      <td>282</td>\n",
       "      <td>1.883768</td>\n",
       "      <td>NaN</td>\n",
       "      <td>NaN</td>\n",
       "      <td>95.147479</td>\n",
       "      <td>...</td>\n",
       "      <td>NaN</td>\n",
       "      <td>NaN</td>\n",
       "      <td>2.107021</td>\n",
       "      <td>NaN</td>\n",
       "      <td>NaN</td>\n",
       "      <td>67.398252</td>\n",
       "      <td>3.416051</td>\n",
       "      <td>5.068456</td>\n",
       "      <td>3.516174</td>\n",
       "      <td>5.179927</td>\n",
       "    </tr>\n",
       "    <tr>\n",
       "      <th>4</th>\n",
       "      <td>UK012</td>\n",
       "      <td>UK012_236</td>\n",
       "      <td>NaN</td>\n",
       "      <td>506</td>\n",
       "      <td>9180</td>\n",
       "      <td>787</td>\n",
       "      <td>1.834499</td>\n",
       "      <td>NaN</td>\n",
       "      <td>NaN</td>\n",
       "      <td>94.607379</td>\n",
       "      <td>...</td>\n",
       "      <td>NaN</td>\n",
       "      <td>NaN</td>\n",
       "      <td>1.142421</td>\n",
       "      <td>NaN</td>\n",
       "      <td>NaN</td>\n",
       "      <td>67.781003</td>\n",
       "      <td>2.978825</td>\n",
       "      <td>4.394779</td>\n",
       "      <td>3.094405</td>\n",
       "      <td>4.479329</td>\n",
       "    </tr>\n",
       "  </tbody>\n",
       "</table>\n",
       "<p>5 rows × 42 columns</p>\n",
       "</div>"
      ],
      "text/plain": [
       "  15-CC-01 HT Unnamed: 1 f206c 207Pb CPS 206Pb CPS U (ppm)1      U/Th  \\\n",
       "0      Sample       Spot   NaN       NaN       NaN      NaN       NaN   \n",
       "1       UK012  UK012_356   NaN        50      1110    114.4  1.396825   \n",
       "2       UK012  UK012_576   NaN       378      8100      886  2.155718   \n",
       "3       UK012  UK012_632   NaN       149      2760      282  1.883768   \n",
       "4       UK012  UK012_236   NaN       506      9180      787  1.834499   \n",
       "\n",
       "  206Pb/204Pb 1σ % Data for Tera-Wasserburg plot2  ... 2σx (ABS)  \\\n",
       "0         NaN  NaN                     238U/206Pb  ...       NaN   \n",
       "1         NaN  NaN                            100  ...       NaN   \n",
       "2         NaN  NaN                      95.510984  ...       NaN   \n",
       "3         NaN  NaN                      95.147479  ...       NaN   \n",
       "4         NaN  NaN                      94.607379  ...       NaN   \n",
       "\n",
       "  2σtotal (ABS) Prob. Conc. (%)  % conc3 Comments Accepted Dates4 Unnamed: 38  \\\n",
       "0           NaN              NaN     NaN      NaN       Date (Ma)   2σx (ABS)   \n",
       "1           NaN        71.822911     NaN      NaN       64.143954    4.777458   \n",
       "2           NaN        96.552144     NaN      NaN       67.143073    2.772284   \n",
       "3           NaN         2.107021     NaN      NaN       67.398252    3.416051   \n",
       "4           NaN         1.142421     NaN      NaN       67.781003    2.978825   \n",
       "\n",
       "  Unnamed: 39    Unnamed: 40  Unnamed: 41  \n",
       "0     2σx (%)  2σtotal (ABS)  2σtotal (%)  \n",
       "1    7.448025       4.842839       7.5119  \n",
       "2    4.128921       2.893859     4.308652  \n",
       "3    5.068456       3.516174     5.179927  \n",
       "4    4.394779       3.094405     4.479329  \n",
       "\n",
       "[5 rows x 42 columns]"
      ]
     },
     "execution_count": 15,
     "metadata": {},
     "output_type": "execute_result"
    }
   ],
   "source": [
    "df=pd.read_excel(folder_path + file_name, sheet_name='HighThroughputAges - LA-ICP-MS', skiprows=2) # uses pandas to read in the csv as a 'DataFrame' called df\n",
    "df.head()"
   ]
  },
  {
   "cell_type": "markdown",
   "metadata": {
    "id": "dOrbPCpKIge1"
   },
   "source": [
    "OK, that's a bit better, but still not great. If you look at the Excel, it has empty rows to separate the samples, and merged rows to indicate column names and subnames. This looks snazzy in Excel, but is a pain when doing data analysis because it means that one row is empty (hence the `Unnamed:1` as the second column name. \n",
    "\n",
    "First, let's get rid of the empty rows:"
   ]
  },
  {
   "cell_type": "code",
   "execution_count": 16,
   "metadata": {
    "id": "b53-xymd6NUT"
   },
   "outputs": [
    {
     "name": "stdout",
     "output_type": "stream",
     "text": [
      "df has length 8298 before dropping rows with no data\n",
      "df has length 8273 after dropping rows with no data\n"
     ]
    }
   ],
   "source": [
    "print('df has length', len(df), 'before dropping rows with no data')\n",
    "df.dropna(how='all', inplace=True)\n",
    "print('df has length', len(df), 'after dropping rows with no data')"
   ]
  },
  {
   "cell_type": "markdown",
   "metadata": {
    "id": "gYbKOSqx6NUV"
   },
   "source": [
    "Now to deal with the column names. Ideally, we would rename the column names so that the name and the subname is in each, like this first example:"
   ]
  },
  {
   "cell_type": "code",
   "execution_count": 17,
   "metadata": {
    "id": "rWY1Jyng63EY"
   },
   "outputs": [
    {
     "data": {
      "text/html": [
       "<div>\n",
       "<style scoped>\n",
       "    .dataframe tbody tr th:only-of-type {\n",
       "        vertical-align: middle;\n",
       "    }\n",
       "\n",
       "    .dataframe tbody tr th {\n",
       "        vertical-align: top;\n",
       "    }\n",
       "\n",
       "    .dataframe thead th {\n",
       "        text-align: right;\n",
       "    }\n",
       "</style>\n",
       "<table border=\"1\" class=\"dataframe\">\n",
       "  <thead>\n",
       "    <tr style=\"text-align: right;\">\n",
       "      <th></th>\n",
       "      <th>15-CC-01 HT</th>\n",
       "      <th>Unnamed: 1</th>\n",
       "      <th>f206c</th>\n",
       "      <th>207Pb CPS</th>\n",
       "      <th>206Pb CPS</th>\n",
       "      <th>U (ppm)1</th>\n",
       "      <th>U/Th</th>\n",
       "      <th>206Pb/204Pb</th>\n",
       "      <th>1σ %</th>\n",
       "      <th>TeraWasserburg_238U/206Pb</th>\n",
       "      <th>...</th>\n",
       "      <th>2σx (ABS)</th>\n",
       "      <th>2σtotal (ABS)</th>\n",
       "      <th>Prob. Conc. (%)</th>\n",
       "      <th>% conc3</th>\n",
       "      <th>Comments</th>\n",
       "      <th>Accepted Dates4</th>\n",
       "      <th>Unnamed: 38</th>\n",
       "      <th>Unnamed: 39</th>\n",
       "      <th>Unnamed: 40</th>\n",
       "      <th>Unnamed: 41</th>\n",
       "    </tr>\n",
       "  </thead>\n",
       "  <tbody>\n",
       "    <tr>\n",
       "      <th>0</th>\n",
       "      <td>Sample</td>\n",
       "      <td>Spot</td>\n",
       "      <td>NaN</td>\n",
       "      <td>NaN</td>\n",
       "      <td>NaN</td>\n",
       "      <td>NaN</td>\n",
       "      <td>NaN</td>\n",
       "      <td>NaN</td>\n",
       "      <td>NaN</td>\n",
       "      <td>238U/206Pb</td>\n",
       "      <td>...</td>\n",
       "      <td>NaN</td>\n",
       "      <td>NaN</td>\n",
       "      <td>NaN</td>\n",
       "      <td>NaN</td>\n",
       "      <td>NaN</td>\n",
       "      <td>Date (Ma)</td>\n",
       "      <td>2σx (ABS)</td>\n",
       "      <td>2σx (%)</td>\n",
       "      <td>2σtotal (ABS)</td>\n",
       "      <td>2σtotal (%)</td>\n",
       "    </tr>\n",
       "    <tr>\n",
       "      <th>1</th>\n",
       "      <td>UK012</td>\n",
       "      <td>UK012_356</td>\n",
       "      <td>NaN</td>\n",
       "      <td>50</td>\n",
       "      <td>1110</td>\n",
       "      <td>114.4</td>\n",
       "      <td>1.396825</td>\n",
       "      <td>NaN</td>\n",
       "      <td>NaN</td>\n",
       "      <td>100</td>\n",
       "      <td>...</td>\n",
       "      <td>NaN</td>\n",
       "      <td>NaN</td>\n",
       "      <td>71.822911</td>\n",
       "      <td>NaN</td>\n",
       "      <td>NaN</td>\n",
       "      <td>64.143954</td>\n",
       "      <td>4.777458</td>\n",
       "      <td>7.448025</td>\n",
       "      <td>4.842839</td>\n",
       "      <td>7.5119</td>\n",
       "    </tr>\n",
       "    <tr>\n",
       "      <th>2</th>\n",
       "      <td>UK012</td>\n",
       "      <td>UK012_576</td>\n",
       "      <td>NaN</td>\n",
       "      <td>378</td>\n",
       "      <td>8100</td>\n",
       "      <td>886</td>\n",
       "      <td>2.155718</td>\n",
       "      <td>NaN</td>\n",
       "      <td>NaN</td>\n",
       "      <td>95.510984</td>\n",
       "      <td>...</td>\n",
       "      <td>NaN</td>\n",
       "      <td>NaN</td>\n",
       "      <td>96.552144</td>\n",
       "      <td>NaN</td>\n",
       "      <td>NaN</td>\n",
       "      <td>67.143073</td>\n",
       "      <td>2.772284</td>\n",
       "      <td>4.128921</td>\n",
       "      <td>2.893859</td>\n",
       "      <td>4.308652</td>\n",
       "    </tr>\n",
       "    <tr>\n",
       "      <th>3</th>\n",
       "      <td>UK012</td>\n",
       "      <td>UK012_632</td>\n",
       "      <td>NaN</td>\n",
       "      <td>149</td>\n",
       "      <td>2760</td>\n",
       "      <td>282</td>\n",
       "      <td>1.883768</td>\n",
       "      <td>NaN</td>\n",
       "      <td>NaN</td>\n",
       "      <td>95.147479</td>\n",
       "      <td>...</td>\n",
       "      <td>NaN</td>\n",
       "      <td>NaN</td>\n",
       "      <td>2.107021</td>\n",
       "      <td>NaN</td>\n",
       "      <td>NaN</td>\n",
       "      <td>67.398252</td>\n",
       "      <td>3.416051</td>\n",
       "      <td>5.068456</td>\n",
       "      <td>3.516174</td>\n",
       "      <td>5.179927</td>\n",
       "    </tr>\n",
       "    <tr>\n",
       "      <th>4</th>\n",
       "      <td>UK012</td>\n",
       "      <td>UK012_236</td>\n",
       "      <td>NaN</td>\n",
       "      <td>506</td>\n",
       "      <td>9180</td>\n",
       "      <td>787</td>\n",
       "      <td>1.834499</td>\n",
       "      <td>NaN</td>\n",
       "      <td>NaN</td>\n",
       "      <td>94.607379</td>\n",
       "      <td>...</td>\n",
       "      <td>NaN</td>\n",
       "      <td>NaN</td>\n",
       "      <td>1.142421</td>\n",
       "      <td>NaN</td>\n",
       "      <td>NaN</td>\n",
       "      <td>67.781003</td>\n",
       "      <td>2.978825</td>\n",
       "      <td>4.394779</td>\n",
       "      <td>3.094405</td>\n",
       "      <td>4.479329</td>\n",
       "    </tr>\n",
       "  </tbody>\n",
       "</table>\n",
       "<p>5 rows × 42 columns</p>\n",
       "</div>"
      ],
      "text/plain": [
       "  15-CC-01 HT Unnamed: 1 f206c 207Pb CPS 206Pb CPS U (ppm)1      U/Th  \\\n",
       "0      Sample       Spot   NaN       NaN       NaN      NaN       NaN   \n",
       "1       UK012  UK012_356   NaN        50      1110    114.4  1.396825   \n",
       "2       UK012  UK012_576   NaN       378      8100      886  2.155718   \n",
       "3       UK012  UK012_632   NaN       149      2760      282  1.883768   \n",
       "4       UK012  UK012_236   NaN       506      9180      787  1.834499   \n",
       "\n",
       "  206Pb/204Pb 1σ % TeraWasserburg_238U/206Pb  ... 2σx (ABS) 2σtotal (ABS)  \\\n",
       "0         NaN  NaN                238U/206Pb  ...       NaN           NaN   \n",
       "1         NaN  NaN                       100  ...       NaN           NaN   \n",
       "2         NaN  NaN                 95.510984  ...       NaN           NaN   \n",
       "3         NaN  NaN                 95.147479  ...       NaN           NaN   \n",
       "4         NaN  NaN                 94.607379  ...       NaN           NaN   \n",
       "\n",
       "  Prob. Conc. (%)  % conc3 Comments Accepted Dates4 Unnamed: 38 Unnamed: 39  \\\n",
       "0              NaN     NaN      NaN       Date (Ma)   2σx (ABS)     2σx (%)   \n",
       "1        71.822911     NaN      NaN       64.143954    4.777458    7.448025   \n",
       "2        96.552144     NaN      NaN       67.143073    2.772284    4.128921   \n",
       "3         2.107021     NaN      NaN       67.398252    3.416051    5.068456   \n",
       "4         1.142421     NaN      NaN       67.781003    2.978825    4.394779   \n",
       "\n",
       "     Unnamed: 40  Unnamed: 41  \n",
       "0  2σtotal (ABS)  2σtotal (%)  \n",
       "1       4.842839       7.5119  \n",
       "2       2.893859     4.308652  \n",
       "3       3.516174     5.179927  \n",
       "4       3.094405     4.479329  \n",
       "\n",
       "[5 rows x 42 columns]"
      ]
     },
     "execution_count": 17,
     "metadata": {},
     "output_type": "execute_result"
    }
   ],
   "source": [
    "df.rename({'Data for Tera-Wasserburg plot2'\t: 'TeraWasserburg_238U/206Pb'},axis=1, inplace=True)\n",
    "df.head()"
   ]
  },
  {
   "cell_type": "markdown",
   "metadata": {
    "id": "xPyyZadTCFeR"
   },
   "source": [
    "There are smarter, more automated ways to do that (using a loop or `.apply` methods), but that's a topic for another day. \n",
    "\n",
    "In this case, we don't really want to fool around with all those columns anyways - what we are really interested in are the ages, and so we can just drop all the columns that don't have age information. "
   ]
  },
  {
   "cell_type": "code",
   "execution_count": 18,
   "metadata": {
    "id": "zqkRgqLrClyC"
   },
   "outputs": [
    {
     "data": {
      "text/html": [
       "<div>\n",
       "<style scoped>\n",
       "    .dataframe tbody tr th:only-of-type {\n",
       "        vertical-align: middle;\n",
       "    }\n",
       "\n",
       "    .dataframe tbody tr th {\n",
       "        vertical-align: top;\n",
       "    }\n",
       "\n",
       "    .dataframe thead th {\n",
       "        text-align: right;\n",
       "    }\n",
       "</style>\n",
       "<table border=\"1\" class=\"dataframe\">\n",
       "  <thead>\n",
       "    <tr style=\"text-align: right;\">\n",
       "      <th></th>\n",
       "      <th>Sample</th>\n",
       "      <th>Spot</th>\n",
       "      <th>Age_207Pb/206Pb</th>\n",
       "      <th>Age_206Pb/238U</th>\n",
       "      <th>Age_207Pb/235Pb</th>\n",
       "      <th>Age_Accepted</th>\n",
       "    </tr>\n",
       "  </thead>\n",
       "  <tbody>\n",
       "    <tr>\n",
       "      <th>0</th>\n",
       "      <td>Sample</td>\n",
       "      <td>Spot</td>\n",
       "      <td>207Pb/206Pb</td>\n",
       "      <td>206Pb/238U</td>\n",
       "      <td>207Pb/235Pb</td>\n",
       "      <td>Date (Ma)</td>\n",
       "    </tr>\n",
       "    <tr>\n",
       "      <th>1</th>\n",
       "      <td>UK012</td>\n",
       "      <td>UK012_356</td>\n",
       "      <td>NaN</td>\n",
       "      <td>64.143954</td>\n",
       "      <td>67.693053</td>\n",
       "      <td>64.143954</td>\n",
       "    </tr>\n",
       "    <tr>\n",
       "      <th>2</th>\n",
       "      <td>UK012</td>\n",
       "      <td>UK012_576</td>\n",
       "      <td>NaN</td>\n",
       "      <td>67.143073</td>\n",
       "      <td>67.342643</td>\n",
       "      <td>67.143073</td>\n",
       "    </tr>\n",
       "    <tr>\n",
       "      <th>3</th>\n",
       "      <td>UK012</td>\n",
       "      <td>UK012_632</td>\n",
       "      <td>NaN</td>\n",
       "      <td>67.398252</td>\n",
       "      <td>80.586226</td>\n",
       "      <td>67.398252</td>\n",
       "    </tr>\n",
       "    <tr>\n",
       "      <th>4</th>\n",
       "      <td>UK012</td>\n",
       "      <td>UK012_236</td>\n",
       "      <td>NaN</td>\n",
       "      <td>67.781003</td>\n",
       "      <td>77.743952</td>\n",
       "      <td>67.781003</td>\n",
       "    </tr>\n",
       "  </tbody>\n",
       "</table>\n",
       "</div>"
      ],
      "text/plain": [
       "   Sample       Spot Age_207Pb/206Pb Age_206Pb/238U Age_207Pb/235Pb  \\\n",
       "0  Sample       Spot     207Pb/206Pb     206Pb/238U     207Pb/235Pb   \n",
       "1   UK012  UK012_356             NaN      64.143954       67.693053   \n",
       "2   UK012  UK012_576             NaN      67.143073       67.342643   \n",
       "3   UK012  UK012_632             NaN      67.398252       80.586226   \n",
       "4   UK012  UK012_236             NaN      67.781003       77.743952   \n",
       "\n",
       "  Age_Accepted  \n",
       "0    Date (Ma)  \n",
       "1    64.143954  \n",
       "2    67.143073  \n",
       "3    67.398252  \n",
       "4    67.781003  "
      ]
     },
     "execution_count": 18,
     "metadata": {},
     "output_type": "execute_result"
    }
   ],
   "source": [
    "#renames the columns first\n",
    "col_dict = {'15-CC-01 HT':'Sample', \n",
    "            'Unnamed: 1':'Spot', \n",
    "            'Dates':'Age_207Pb/206Pb', \n",
    "            'Unnamed: 25':'Age_206Pb/238U', \n",
    "            'Unnamed: 28':'Age_207Pb/235Pb', \n",
    "            'Accepted Dates4':'Age_Accepted'\n",
    "           }\n",
    "\n",
    "df.rename(col_dict, axis=1, inplace=True) # axis 1 acts on the columns\n",
    "\n",
    "# now let's drop all the columns we didnt rename\n",
    "col_list = list(col_dict.values())\n",
    "df = df.filter(col_list, axis=1) # reassign it\n",
    "df.head()"
   ]
  },
  {
   "cell_type": "code",
   "execution_count": 19,
   "metadata": {
    "id": "MuCadeVCgM_x"
   },
   "outputs": [
    {
     "data": {
      "text/html": [
       "<div>\n",
       "<style scoped>\n",
       "    .dataframe tbody tr th:only-of-type {\n",
       "        vertical-align: middle;\n",
       "    }\n",
       "\n",
       "    .dataframe tbody tr th {\n",
       "        vertical-align: top;\n",
       "    }\n",
       "\n",
       "    .dataframe thead th {\n",
       "        text-align: right;\n",
       "    }\n",
       "</style>\n",
       "<table border=\"1\" class=\"dataframe\">\n",
       "  <thead>\n",
       "    <tr style=\"text-align: right;\">\n",
       "      <th></th>\n",
       "      <th>Sample</th>\n",
       "      <th>Spot</th>\n",
       "      <th>Age_207Pb/206Pb</th>\n",
       "      <th>Age_206Pb/238U</th>\n",
       "      <th>Age_207Pb/235Pb</th>\n",
       "      <th>Age_Accepted</th>\n",
       "    </tr>\n",
       "  </thead>\n",
       "  <tbody>\n",
       "    <tr>\n",
       "      <th>1</th>\n",
       "      <td>UK012</td>\n",
       "      <td>UK012_356</td>\n",
       "      <td>NaN</td>\n",
       "      <td>64.143954</td>\n",
       "      <td>67.693053</td>\n",
       "      <td>64.143954</td>\n",
       "    </tr>\n",
       "    <tr>\n",
       "      <th>2</th>\n",
       "      <td>UK012</td>\n",
       "      <td>UK012_576</td>\n",
       "      <td>NaN</td>\n",
       "      <td>67.143073</td>\n",
       "      <td>67.342643</td>\n",
       "      <td>67.143073</td>\n",
       "    </tr>\n",
       "    <tr>\n",
       "      <th>3</th>\n",
       "      <td>UK012</td>\n",
       "      <td>UK012_632</td>\n",
       "      <td>NaN</td>\n",
       "      <td>67.398252</td>\n",
       "      <td>80.586226</td>\n",
       "      <td>67.398252</td>\n",
       "    </tr>\n",
       "    <tr>\n",
       "      <th>4</th>\n",
       "      <td>UK012</td>\n",
       "      <td>UK012_236</td>\n",
       "      <td>NaN</td>\n",
       "      <td>67.781003</td>\n",
       "      <td>77.743952</td>\n",
       "      <td>67.781003</td>\n",
       "    </tr>\n",
       "    <tr>\n",
       "      <th>5</th>\n",
       "      <td>UK012</td>\n",
       "      <td>UK012_442</td>\n",
       "      <td>NaN</td>\n",
       "      <td>68.163731</td>\n",
       "      <td>73.47286</td>\n",
       "      <td>68.163731</td>\n",
       "    </tr>\n",
       "  </tbody>\n",
       "</table>\n",
       "</div>"
      ],
      "text/plain": [
       "  Sample       Spot Age_207Pb/206Pb Age_206Pb/238U Age_207Pb/235Pb  \\\n",
       "1  UK012  UK012_356             NaN      64.143954       67.693053   \n",
       "2  UK012  UK012_576             NaN      67.143073       67.342643   \n",
       "3  UK012  UK012_632             NaN      67.398252       80.586226   \n",
       "4  UK012  UK012_236             NaN      67.781003       77.743952   \n",
       "5  UK012  UK012_442             NaN      68.163731        73.47286   \n",
       "\n",
       "  Age_Accepted  \n",
       "1    64.143954  \n",
       "2    67.143073  \n",
       "3    67.398252  \n",
       "4    67.781003  \n",
       "5    68.163731  "
      ]
     },
     "execution_count": 19,
     "metadata": {},
     "output_type": "execute_result"
    }
   ],
   "source": [
    "# get rid of first line\n",
    "df.drop(0,axis=0, inplace=True) # axis 0 works on the rows\n",
    "df.head()"
   ]
  },
  {
   "cell_type": "markdown",
   "metadata": {
    "id": "4RbMQyZFDsPH"
   },
   "source": [
    "And lastly, from the way that xls was formatted, there should be some extra rows that only had values in the first column that we renamed to `Sample`, so let's look at that column:"
   ]
  },
  {
   "cell_type": "code",
   "execution_count": 20,
   "metadata": {
    "id": "ch2WZAn9Df49"
   },
   "outputs": [
    {
     "name": "stdout",
     "output_type": "stream",
     "text": [
      "Sample\n",
      "UK006                                                                                                                                                                                                                                                                                                                                                  640\n",
      "Uk008                                                                                                                                                                                                                                                                                                                                                  640\n",
      "UK009                                                                                                                                                                                                                                                                                                                                                  639\n",
      "UK003                                                                                                                                                                                                                                                                                                                                                  639\n",
      "UK007                                                                                                                                                                                                                                                                                                                                                  639\n",
      "UK001                                                                                                                                                                                                                                                                                                                                                  638\n",
      "UK013                                                                                                                                                                                                                                                                                                                                                  638\n",
      "UK011                                                                                                                                                                                                                                                                                                                                                  638\n",
      "UK004                                                                                                                                                                                                                                                                                                                                                  638\n",
      "UK002                                                                                                                                                                                                                                                                                                                                                  634\n",
      "UK012                                                                                                                                                                                                                                                                                                                                                  632\n",
      "UK005                                                                                                                                                                                                                                                                                                                                                  623\n",
      "UK010                                                                                                                                                                                                                                                                                                                                                  590\n",
      "University of Calgary, Centre for Pure and Applied Tectonics and Thermochronology                                                                                                                                                                                                                                                                       12\n",
      "Sample                                                                                                                                                                                                                                                                                                                                                  12\n",
      "4Accepted dates have probability of concordance >1%; probability of concordance was calculated using formulas outlined in Ludwig (1998)                                                                                                                                                                                                                  1\n",
      "2Data not corrected for common lead                                                                                                                                                                                                                                                                                                                      1\n",
      "Decay constants of Jaffey et al. (1971) used with modification after Mattinson (1987)                                                                                                                                                                                                                                                                    1\n",
      "1Concentration uncertainty 5%                                                                                                                                                                                                                                                                                                                            1\n",
      "bd = below detection, NA = not available                                                                                                                                                                                                                                                                                                                 1\n",
      "σx includes all random uncertainties (σm, ε); σtotal inlcudes all random and systematic uncertainties (σm, ε, ε', σy, λ) -- see Horstwood et al. (2016) for an explanation of each of these uncertainties                                                                                                                                                1\n",
      "15-CAZ-04 HT                                                                                                                                                                                                                                                                                                                                             1\n",
      "3Concordance calculated as [(206Pb/238U age)/(207Pb/206Pb age)]*100; this calculation was only performed for dates > 500 Ma, as 207Pb/206Pb dates < 500 Ma determined using our methods are too imprecise to be considered reliable                                                                                                                      1\n",
      "15-CAZ-03 HT                                                                                                                                                                                                                                                                                                                                             1\n",
      "15-CS-01 HT                                                                                                                                                                                                                                                                                                                                              1\n",
      "15-RZ-DZ1 HT                                                                                                                                                                                                                                                                                                                                             1\n",
      "15-RZ-DZ3 HT                                                                                                                                                                                                                                                                                                                                             1\n",
      "15-RZ-DZ2 HT                                                                                                                                                                                                                                                                                                                                             1\n",
      "15-PIC-04 HT                                                                                                                                                                                                                                                                                                                                             1\n",
      "15-CAZ-02 HT                                                                                                                                                                                                                                                                                                                                             1\n",
      "15-PIC-03 HT                                                                                                                                                                                                                                                                                                                                             1\n",
      "15-CAZ-01 HT                                                                                                                                                                                                                                                                                                                                             1\n",
      "15-PIC-02 HT                                                                                                                                                                                                                                                                                                                                             1\n",
      "15-PIC-01 HT                                                                                                                                                                                                                                                                                                                                             1\n",
      "Comments: LU - Low uranium concentration; CL - analysis affected by common Pb; DO - pit drilled out of grain; LL - affected by lead loss; SL - sloping 6/8 or 7/6 age, suggestive of age heterogeneity; 2Ages - age heterogeneity; CX - complex age structure; Inc - inclusion; Z - zoned; Inh - inheritance; E - analysis is not sound, eliminated      1\n",
      "Name: count, dtype: int64\n",
      "[640 640 639 639 639 638 638 638 638 634 632 623 590  12  12   1   1   1\n",
      "   1   1   1   1   1   1   1   1   1   1   1   1   1   1   1   1   1]\n"
     ]
    }
   ],
   "source": [
    "print(df.Sample.value_counts())\n",
    "print(df.Sample.value_counts().values)\n"
   ]
  },
  {
   "cell_type": "markdown",
   "metadata": {
    "id": "DrHzV3bdFAEj"
   },
   "source": [
    "Whoa, lots of weird things there. The way that xls is formatted is really not great! It would be smart to replace the sample names beginning with `UK` with the ones beginning with `15-`, but for now we won't mess with that. Let's just get rid of the rows that only have data in the `Sample` column, and no other data:"
   ]
  },
  {
   "cell_type": "code",
   "execution_count": 21,
   "metadata": {
    "id": "zr6PKKYKE-57",
    "scrolled": true
   },
   "outputs": [
    {
     "data": {
      "text/plain": [
       "Sample                0\n",
       "Spot                 32\n",
       "Age_207Pb/206Pb    5595\n",
       "Age_206Pb/238U       32\n",
       "Age_207Pb/235Pb      32\n",
       "Age_Accepted       1588\n",
       "dtype: int64"
      ]
     },
     "execution_count": 21,
     "metadata": {},
     "output_type": "execute_result"
    }
   ],
   "source": [
    "# Which columns have NaNs\n",
    "df.isnull().sum()"
   ]
  },
  {
   "cell_type": "markdown",
   "metadata": {
    "id": "7G6WG8Sg7w1a"
   },
   "source": [
    "See the 32 in Spot? There shouldn't be any NaNs there either, if each `Spot` is part of a `Sample`. So, let's get rid of rows where Spot is NaN"
   ]
  },
  {
   "cell_type": "code",
   "execution_count": 22,
   "metadata": {
    "id": "-QJiYhKqlvoO"
   },
   "outputs": [
    {
     "name": "stdout",
     "output_type": "stream",
     "text": [
      "Sample                0\n",
      "Spot                  0\n",
      "Age_207Pb/206Pb    5575\n",
      "Age_206Pb/238U        0\n",
      "Age_207Pb/235Pb       0\n",
      "Age_Accepted       1568\n",
      "dtype: int64\n",
      "Sample\n",
      "Uk008     640\n",
      "UK006     640\n",
      "UK009     639\n",
      "UK007     639\n",
      "UK003     639\n",
      "UK013     638\n",
      "UK011     638\n",
      "UK001     638\n",
      "UK004     638\n",
      "UK002     634\n",
      "UK012     632\n",
      "UK005     623\n",
      "UK010     590\n",
      "Sample     12\n",
      "Name: count, dtype: int64\n"
     ]
    }
   ],
   "source": [
    "# get rid of all rows where Spot is NaN\n",
    "df.dropna(axis=0, subset = ['Spot'], inplace=True)\n",
    "\n",
    "# now check the samples\n",
    "print(df.isnull().sum())\n",
    "print(df.Sample.value_counts())"
   ]
  },
  {
   "cell_type": "markdown",
   "metadata": {
    "id": "RtsGx1F5njMv"
   },
   "source": [
    "Great! That means we have 12 Samples, , with around 640 ages per sample. \n",
    "\n",
    "Last thing we need to do is to convert the `objects` to other dtypes:"
   ]
  },
  {
   "cell_type": "code",
   "execution_count": 23,
   "metadata": {
    "id": "xLKh1WLWni1H"
   },
   "outputs": [
    {
     "name": "stdout",
     "output_type": "stream",
     "text": [
      "<class 'pandas.core.frame.DataFrame'>\n",
      "Index: 8240 entries, 1 to 8288\n",
      "Data columns (total 6 columns):\n",
      " #   Column           Non-Null Count  Dtype \n",
      "---  ------           --------------  ----- \n",
      " 0   Sample           8240 non-null   object\n",
      " 1   Spot             8240 non-null   object\n",
      " 2   Age_207Pb/206Pb  2665 non-null   object\n",
      " 3   Age_206Pb/238U   8240 non-null   object\n",
      " 4   Age_207Pb/235Pb  8240 non-null   object\n",
      " 5   Age_Accepted     6672 non-null   object\n",
      "dtypes: object(6)\n",
      "memory usage: 450.6+ KB\n"
     ]
    }
   ],
   "source": [
    "df.info()"
   ]
  },
  {
   "cell_type": "code",
   "execution_count": 24,
   "metadata": {
    "id": "eVjt9TbqDF60"
   },
   "outputs": [],
   "source": [
    "# get rid of strings in the age columns\n",
    "df[df.columns[2:6]] = df[df.columns[2:6]].apply(pd.to_numeric, errors='coerce').fillna(0).astype(float).dropna()\n",
    "# you can read about the coerce method on the pandas website"
   ]
  },
  {
   "cell_type": "code",
   "execution_count": 25,
   "metadata": {
    "id": "gP_OJaaUniAB"
   },
   "outputs": [
    {
     "name": "stdout",
     "output_type": "stream",
     "text": [
      "<class 'pandas.core.frame.DataFrame'>\n",
      "Index: 8240 entries, 1 to 8288\n",
      "Data columns (total 6 columns):\n",
      " #   Column           Non-Null Count  Dtype  \n",
      "---  ------           --------------  -----  \n",
      " 0   Sample           8240 non-null   object \n",
      " 1   Spot             8240 non-null   object \n",
      " 2   Age_207Pb/206Pb  8240 non-null   float64\n",
      " 3   Age_206Pb/238U   8240 non-null   float64\n",
      " 4   Age_207Pb/235Pb  8240 non-null   float64\n",
      " 5   Age_Accepted     8240 non-null   float64\n",
      "dtypes: float64(4), object(2)\n",
      "memory usage: 450.6+ KB\n"
     ]
    }
   ],
   "source": [
    "df.info()"
   ]
  },
  {
   "cell_type": "markdown",
   "metadata": {
    "id": "A0phWFwdnJmC"
   },
   "source": [
    "### Whew! \n",
    "Ok, that took a bit of work, and you might think you can do this faster in Excel, and you are probably correct. but think about if instead of one spreadsheet, you had 55 or 550 of these spreadsheets to deal with - still want to do it in Excel? \n",
    "\n",
    "### Now let's try a simple plot:"
   ]
  },
  {
   "cell_type": "code",
   "execution_count": 26,
   "metadata": {
    "id": "jmkfmMXdZrfz"
   },
   "outputs": [
    {
     "data": {
      "text/plain": [
       "<Axes: xlabel='Age_207Pb/206Pb', ylabel='Age_206Pb/238U'>"
      ]
     },
     "execution_count": 26,
     "metadata": {},
     "output_type": "execute_result"
    },
    {
     "data": {
      "image/png": "[encoded data removed]",
      "text/plain": [
       "<Figure size 640x480 with 1 Axes>"
      ]
     },
     "metadata": {},
     "output_type": "display_data"
    }
   ],
   "source": [
    "df.plot.scatter(x='Age_207Pb/206Pb', y='Age_206Pb/238U')"
   ]
  },
  {
   "cell_type": "code",
   "execution_count": 27,
   "metadata": {
    "id": "jGM2_tjlaXUi"
   },
   "outputs": [
    {
     "data": {
      "text/plain": [
       "50935.55103170099"
      ]
     },
     "execution_count": 27,
     "metadata": {},
     "output_type": "execute_result"
    }
   ],
   "source": [
    "df['Age_206Pb/238U'].max()"
   ]
  },
  {
   "cell_type": "code",
   "execution_count": 28,
   "metadata": {
    "id": "SUBNX_XbD26R"
   },
   "outputs": [
    {
     "data": {
      "text/plain": [
       "<Axes: xlabel='Age_207Pb/206Pb', ylabel='Age_206Pb/238U'>"
      ]
     },
     "execution_count": 28,
     "metadata": {},
     "output_type": "execute_result"
    },
    {
     "data": {
      "image/png": "[encoded data removed]",
      "text/plain": [
       "<Figure size 640x480 with 1 Axes>"
      ]
     },
     "metadata": {},
     "output_type": "display_data"
    }
   ],
   "source": [
    "df.plot.scatter(x='Age_207Pb/206Pb', y='Age_206Pb/238U', xlim=[0, 4000], ylim=[0,4000])"
   ]
  },
  {
   "cell_type": "code",
   "execution_count": 29,
   "metadata": {
    "id": "C8M_vcNNEmHH"
   },
   "outputs": [],
   "source": [
    "### Now you try - for example, do a `describe()` on a column and a `hist` of ages (you can choose the column you want to plot)"
   ]
  },
  {
   "cell_type": "code",
   "execution_count": 30,
   "metadata": {
    "id": "yM5vDA8N7w1q"
   },
   "outputs": [],
   "source": [
    "# your code here"
   ]
  },
  {
   "cell_type": "markdown",
   "metadata": {
    "id": "-i8rVb7O7w1r"
   },
   "source": [
    "### Now let's export that clean dataset as a csv\n",
    "Search the pandas documention to figure out how to export a csv of this dataset you have just cleaned up"
   ]
  },
  {
   "cell_type": "code",
   "execution_count": 31,
   "metadata": {
    "id": "uc2wBmgz7w1s"
   },
   "outputs": [],
   "source": [
    "# your code here"
   ]
  },
  {
   "cell_type": "markdown",
   "metadata": {
    "id": "35lfh9tTqlmj"
   },
   "source": [
    "![Robert Redford](https://media1.tenor.com/images/3952a85da6e63c7755607a40a4bc975f/tenor.gif?itemid=4959267)"
   ]
  }
 ],
 "metadata": {
  "colab": {
   "collapsed_sections": [],
   "provenance": []
  },
  "kernelspec": {
   "display_name": "Python [conda env:csm-2024-fall]",
   "language": "python",
   "name": "conda-env-csm-2024-fall-py"
  },
  "language_info": {
   "codemirror_mode": {
    "name": "ipython",
    "version": 3
   },
   "file_extension": ".py",
   "mimetype": "text/x-python",
   "name": "python",
   "nbconvert_exporter": "python",
   "pygments_lexer": "ipython3",
   "version": "3.11.10"
  }
 },
 "nbformat": 4,
 "nbformat_minor": 4
}

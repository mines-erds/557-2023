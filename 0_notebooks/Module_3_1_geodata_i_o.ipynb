{
 "cells": [
  {
   "cell_type": "markdown",
   "metadata": {
    "id": "Q801KttGPsAp"
   },
   "source": [
    "# Module 3 | Loading in Geoscientific data"
   ]
  },
  {
   "cell_type": "markdown",
   "metadata": {
    "id": "21eyXms-PrGO"
   },
   "source": [
    "Hello! In this module we will load in some geo-whatever data into python for future use."
   ]
  },
  {
   "cell_type": "code",
   "execution_count": 19,
   "metadata": {
    "id": "5SvXmU-Bg-Wu",
    "tags": []
   },
   "outputs": [],
   "source": [
    "import pandas as pd\n",
    "import numpy as np"
   ]
  },
  {
   "cell_type": "markdown",
   "metadata": {
    "id": "IqDbRb9Bhd4Z"
   },
   "source": [
    "## Reading in a .las file"
   ]
  },
  {
   "cell_type": "markdown",
   "metadata": {
    "id": "2DKYllg4SxDl"
   },
   "source": [
    ".las files are common for downhole geophysical measurements (gamma ray, deep resistivity). They are commonly used in the oil and gas industry, but also used in enviromental and mining industries. To open up this file type, we will install a package called lasio, that will handle I/O."
   ]
  },
  {
   "cell_type": "code",
   "execution_count": 20,
   "metadata": {
    "colab": {
     "base_uri": "https://localhost:8080/",
     "height": 122
    },
    "id": "hq1_y7IihpBy",
    "outputId": "29c58bfb-63ea-4d25-a8a0-fbf5a612e873",
    "tags": []
   },
   "outputs": [
    {
     "name": "stdout",
     "output_type": "stream",
     "text": [
      "Requirement already satisfied: lasio in /opt/conda/envs/mines23f/lib/python3.8/site-packages (0.31)\n",
      "Requirement already satisfied: numpy in /opt/conda/envs/mines23f/lib/python3.8/site-packages (from lasio) (1.24.4)\n"
     ]
    }
   ],
   "source": [
    "!pip install lasio"
   ]
  },
  {
   "cell_type": "code",
   "execution_count": 3,
   "metadata": {
    "id": "FVUzqYolhtAh",
    "tags": []
   },
   "outputs": [],
   "source": [
    "import lasio"
   ]
  },
  {
   "cell_type": "code",
   "execution_count": 4,
   "metadata": {
    "tags": []
   },
   "outputs": [],
   "source": [
    "lasfile = '../1_data/561689E.las'"
   ]
  },
  {
   "cell_type": "code",
   "execution_count": 5,
   "metadata": {
    "id": "JvrYY0ULhgXo",
    "tags": []
   },
   "outputs": [],
   "source": [
    "las = lasio.read(lasfile)"
   ]
  },
  {
   "cell_type": "markdown",
   "metadata": {
    "id": "MyMwg_HvYv__"
   },
   "source": [
    "In one line, we can convert the las object to a dataframe!"
   ]
  },
  {
   "cell_type": "code",
   "execution_count": 6,
   "metadata": {
    "id": "7d0EM532hnlh",
    "tags": []
   },
   "outputs": [],
   "source": [
    "df = las.df()"
   ]
  },
  {
   "cell_type": "code",
   "execution_count": 7,
   "metadata": {
    "colab": {
     "base_uri": "https://localhost:8080/",
     "height": 470
    },
    "id": "jGrzd1sth4GV",
    "outputId": "75109ef9-9efa-4d88-fc8f-1e4ae22858ef",
    "tags": []
   },
   "outputs": [
    {
     "data": {
      "text/html": [
       "<div>\n",
       "<style scoped>\n",
       "    .dataframe tbody tr th:only-of-type {\n",
       "        vertical-align: middle;\n",
       "    }\n",
       "\n",
       "    .dataframe tbody tr th {\n",
       "        vertical-align: top;\n",
       "    }\n",
       "\n",
       "    .dataframe thead th {\n",
       "        text-align: right;\n",
       "    }\n",
       "</style>\n",
       "<table border=\"1\" class=\"dataframe\">\n",
       "  <thead>\n",
       "    <tr style=\"text-align: right;\">\n",
       "      <th></th>\n",
       "      <th>BIT</th>\n",
       "      <th>BVOL</th>\n",
       "      <th>CAL</th>\n",
       "      <th>CNCF</th>\n",
       "      <th>CVOL</th>\n",
       "      <th>DT</th>\n",
       "      <th>GR</th>\n",
       "      <th>M2R1</th>\n",
       "      <th>M2R2</th>\n",
       "      <th>M2R3</th>\n",
       "      <th>...</th>\n",
       "      <th>M2RX</th>\n",
       "      <th>PE</th>\n",
       "      <th>PORA</th>\n",
       "      <th>PORZ</th>\n",
       "      <th>RWAZ</th>\n",
       "      <th>SPDH</th>\n",
       "      <th>TEN</th>\n",
       "      <th>TT</th>\n",
       "      <th>ZCOR</th>\n",
       "      <th>ZDEN</th>\n",
       "    </tr>\n",
       "    <tr>\n",
       "      <th>DEPT</th>\n",
       "      <th></th>\n",
       "      <th></th>\n",
       "      <th></th>\n",
       "      <th></th>\n",
       "      <th></th>\n",
       "      <th></th>\n",
       "      <th></th>\n",
       "      <th></th>\n",
       "      <th></th>\n",
       "      <th></th>\n",
       "      <th></th>\n",
       "      <th></th>\n",
       "      <th></th>\n",
       "      <th></th>\n",
       "      <th></th>\n",
       "      <th></th>\n",
       "      <th></th>\n",
       "      <th></th>\n",
       "      <th></th>\n",
       "      <th></th>\n",
       "      <th></th>\n",
       "    </tr>\n",
       "  </thead>\n",
       "  <tbody>\n",
       "    <tr>\n",
       "      <th>0.0</th>\n",
       "      <td>NaN</td>\n",
       "      <td>NaN</td>\n",
       "      <td>NaN</td>\n",
       "      <td>NaN</td>\n",
       "      <td>NaN</td>\n",
       "      <td>NaN</td>\n",
       "      <td>223.172</td>\n",
       "      <td>NaN</td>\n",
       "      <td>NaN</td>\n",
       "      <td>NaN</td>\n",
       "      <td>...</td>\n",
       "      <td>NaN</td>\n",
       "      <td>NaN</td>\n",
       "      <td>NaN</td>\n",
       "      <td>NaN</td>\n",
       "      <td>NaN</td>\n",
       "      <td>NaN</td>\n",
       "      <td>NaN</td>\n",
       "      <td>NaN</td>\n",
       "      <td>NaN</td>\n",
       "      <td>NaN</td>\n",
       "    </tr>\n",
       "    <tr>\n",
       "      <th>0.5</th>\n",
       "      <td>NaN</td>\n",
       "      <td>NaN</td>\n",
       "      <td>NaN</td>\n",
       "      <td>NaN</td>\n",
       "      <td>NaN</td>\n",
       "      <td>NaN</td>\n",
       "      <td>240.508</td>\n",
       "      <td>NaN</td>\n",
       "      <td>NaN</td>\n",
       "      <td>NaN</td>\n",
       "      <td>...</td>\n",
       "      <td>NaN</td>\n",
       "      <td>NaN</td>\n",
       "      <td>NaN</td>\n",
       "      <td>NaN</td>\n",
       "      <td>NaN</td>\n",
       "      <td>NaN</td>\n",
       "      <td>NaN</td>\n",
       "      <td>NaN</td>\n",
       "      <td>NaN</td>\n",
       "      <td>NaN</td>\n",
       "    </tr>\n",
       "    <tr>\n",
       "      <th>1.0</th>\n",
       "      <td>NaN</td>\n",
       "      <td>NaN</td>\n",
       "      <td>NaN</td>\n",
       "      <td>NaN</td>\n",
       "      <td>NaN</td>\n",
       "      <td>NaN</td>\n",
       "      <td>251.382</td>\n",
       "      <td>NaN</td>\n",
       "      <td>NaN</td>\n",
       "      <td>NaN</td>\n",
       "      <td>...</td>\n",
       "      <td>NaN</td>\n",
       "      <td>NaN</td>\n",
       "      <td>NaN</td>\n",
       "      <td>NaN</td>\n",
       "      <td>NaN</td>\n",
       "      <td>NaN</td>\n",
       "      <td>NaN</td>\n",
       "      <td>NaN</td>\n",
       "      <td>NaN</td>\n",
       "      <td>NaN</td>\n",
       "    </tr>\n",
       "    <tr>\n",
       "      <th>1.5</th>\n",
       "      <td>NaN</td>\n",
       "      <td>NaN</td>\n",
       "      <td>NaN</td>\n",
       "      <td>NaN</td>\n",
       "      <td>NaN</td>\n",
       "      <td>NaN</td>\n",
       "      <td>256.477</td>\n",
       "      <td>NaN</td>\n",
       "      <td>NaN</td>\n",
       "      <td>NaN</td>\n",
       "      <td>...</td>\n",
       "      <td>NaN</td>\n",
       "      <td>NaN</td>\n",
       "      <td>NaN</td>\n",
       "      <td>NaN</td>\n",
       "      <td>NaN</td>\n",
       "      <td>NaN</td>\n",
       "      <td>NaN</td>\n",
       "      <td>NaN</td>\n",
       "      <td>NaN</td>\n",
       "      <td>NaN</td>\n",
       "    </tr>\n",
       "    <tr>\n",
       "      <th>2.0</th>\n",
       "      <td>NaN</td>\n",
       "      <td>NaN</td>\n",
       "      <td>NaN</td>\n",
       "      <td>NaN</td>\n",
       "      <td>NaN</td>\n",
       "      <td>NaN</td>\n",
       "      <td>250.439</td>\n",
       "      <td>NaN</td>\n",
       "      <td>NaN</td>\n",
       "      <td>NaN</td>\n",
       "      <td>...</td>\n",
       "      <td>NaN</td>\n",
       "      <td>NaN</td>\n",
       "      <td>NaN</td>\n",
       "      <td>NaN</td>\n",
       "      <td>NaN</td>\n",
       "      <td>NaN</td>\n",
       "      <td>NaN</td>\n",
       "      <td>NaN</td>\n",
       "      <td>NaN</td>\n",
       "      <td>NaN</td>\n",
       "    </tr>\n",
       "    <tr>\n",
       "      <th>...</th>\n",
       "      <td>...</td>\n",
       "      <td>...</td>\n",
       "      <td>...</td>\n",
       "      <td>...</td>\n",
       "      <td>...</td>\n",
       "      <td>...</td>\n",
       "      <td>...</td>\n",
       "      <td>...</td>\n",
       "      <td>...</td>\n",
       "      <td>...</td>\n",
       "      <td>...</td>\n",
       "      <td>...</td>\n",
       "      <td>...</td>\n",
       "      <td>...</td>\n",
       "      <td>...</td>\n",
       "      <td>...</td>\n",
       "      <td>...</td>\n",
       "      <td>...</td>\n",
       "      <td>...</td>\n",
       "      <td>...</td>\n",
       "      <td>...</td>\n",
       "    </tr>\n",
       "    <tr>\n",
       "      <th>8078.0</th>\n",
       "      <td>8.75</td>\n",
       "      <td>NaN</td>\n",
       "      <td>NaN</td>\n",
       "      <td>NaN</td>\n",
       "      <td>NaN</td>\n",
       "      <td>NaN</td>\n",
       "      <td>NaN</td>\n",
       "      <td>NaN</td>\n",
       "      <td>NaN</td>\n",
       "      <td>NaN</td>\n",
       "      <td>...</td>\n",
       "      <td>NaN</td>\n",
       "      <td>NaN</td>\n",
       "      <td>NaN</td>\n",
       "      <td>NaN</td>\n",
       "      <td>NaN</td>\n",
       "      <td>NaN</td>\n",
       "      <td>737.130</td>\n",
       "      <td>NaN</td>\n",
       "      <td>NaN</td>\n",
       "      <td>NaN</td>\n",
       "    </tr>\n",
       "    <tr>\n",
       "      <th>8078.5</th>\n",
       "      <td>8.75</td>\n",
       "      <td>NaN</td>\n",
       "      <td>NaN</td>\n",
       "      <td>NaN</td>\n",
       "      <td>NaN</td>\n",
       "      <td>NaN</td>\n",
       "      <td>NaN</td>\n",
       "      <td>NaN</td>\n",
       "      <td>NaN</td>\n",
       "      <td>NaN</td>\n",
       "      <td>...</td>\n",
       "      <td>NaN</td>\n",
       "      <td>NaN</td>\n",
       "      <td>NaN</td>\n",
       "      <td>NaN</td>\n",
       "      <td>NaN</td>\n",
       "      <td>NaN</td>\n",
       "      <td>703.401</td>\n",
       "      <td>NaN</td>\n",
       "      <td>NaN</td>\n",
       "      <td>NaN</td>\n",
       "    </tr>\n",
       "    <tr>\n",
       "      <th>8079.0</th>\n",
       "      <td>8.75</td>\n",
       "      <td>NaN</td>\n",
       "      <td>NaN</td>\n",
       "      <td>NaN</td>\n",
       "      <td>NaN</td>\n",
       "      <td>NaN</td>\n",
       "      <td>NaN</td>\n",
       "      <td>NaN</td>\n",
       "      <td>NaN</td>\n",
       "      <td>NaN</td>\n",
       "      <td>...</td>\n",
       "      <td>NaN</td>\n",
       "      <td>NaN</td>\n",
       "      <td>NaN</td>\n",
       "      <td>NaN</td>\n",
       "      <td>NaN</td>\n",
       "      <td>NaN</td>\n",
       "      <td>NaN</td>\n",
       "      <td>NaN</td>\n",
       "      <td>NaN</td>\n",
       "      <td>NaN</td>\n",
       "    </tr>\n",
       "    <tr>\n",
       "      <th>8079.5</th>\n",
       "      <td>8.75</td>\n",
       "      <td>NaN</td>\n",
       "      <td>NaN</td>\n",
       "      <td>NaN</td>\n",
       "      <td>NaN</td>\n",
       "      <td>NaN</td>\n",
       "      <td>NaN</td>\n",
       "      <td>NaN</td>\n",
       "      <td>NaN</td>\n",
       "      <td>NaN</td>\n",
       "      <td>...</td>\n",
       "      <td>NaN</td>\n",
       "      <td>NaN</td>\n",
       "      <td>NaN</td>\n",
       "      <td>NaN</td>\n",
       "      <td>NaN</td>\n",
       "      <td>NaN</td>\n",
       "      <td>NaN</td>\n",
       "      <td>NaN</td>\n",
       "      <td>NaN</td>\n",
       "      <td>NaN</td>\n",
       "    </tr>\n",
       "    <tr>\n",
       "      <th>8080.0</th>\n",
       "      <td>8.75</td>\n",
       "      <td>NaN</td>\n",
       "      <td>NaN</td>\n",
       "      <td>NaN</td>\n",
       "      <td>NaN</td>\n",
       "      <td>NaN</td>\n",
       "      <td>NaN</td>\n",
       "      <td>NaN</td>\n",
       "      <td>NaN</td>\n",
       "      <td>NaN</td>\n",
       "      <td>...</td>\n",
       "      <td>NaN</td>\n",
       "      <td>NaN</td>\n",
       "      <td>NaN</td>\n",
       "      <td>NaN</td>\n",
       "      <td>NaN</td>\n",
       "      <td>NaN</td>\n",
       "      <td>NaN</td>\n",
       "      <td>NaN</td>\n",
       "      <td>NaN</td>\n",
       "      <td>NaN</td>\n",
       "    </tr>\n",
       "  </tbody>\n",
       "</table>\n",
       "<p>16161 rows × 22 columns</p>\n",
       "</div>"
      ],
      "text/plain": [
       "         BIT  BVOL  CAL  CNCF  CVOL  DT       GR  M2R1  M2R2  M2R3  ...  M2RX  \\\n",
       "DEPT                                                                ...         \n",
       "0.0      NaN   NaN  NaN   NaN   NaN NaN  223.172   NaN   NaN   NaN  ...   NaN   \n",
       "0.5      NaN   NaN  NaN   NaN   NaN NaN  240.508   NaN   NaN   NaN  ...   NaN   \n",
       "1.0      NaN   NaN  NaN   NaN   NaN NaN  251.382   NaN   NaN   NaN  ...   NaN   \n",
       "1.5      NaN   NaN  NaN   NaN   NaN NaN  256.477   NaN   NaN   NaN  ...   NaN   \n",
       "2.0      NaN   NaN  NaN   NaN   NaN NaN  250.439   NaN   NaN   NaN  ...   NaN   \n",
       "...      ...   ...  ...   ...   ...  ..      ...   ...   ...   ...  ...   ...   \n",
       "8078.0  8.75   NaN  NaN   NaN   NaN NaN      NaN   NaN   NaN   NaN  ...   NaN   \n",
       "8078.5  8.75   NaN  NaN   NaN   NaN NaN      NaN   NaN   NaN   NaN  ...   NaN   \n",
       "8079.0  8.75   NaN  NaN   NaN   NaN NaN      NaN   NaN   NaN   NaN  ...   NaN   \n",
       "8079.5  8.75   NaN  NaN   NaN   NaN NaN      NaN   NaN   NaN   NaN  ...   NaN   \n",
       "8080.0  8.75   NaN  NaN   NaN   NaN NaN      NaN   NaN   NaN   NaN  ...   NaN   \n",
       "\n",
       "        PE  PORA  PORZ  RWAZ  SPDH      TEN  TT  ZCOR  ZDEN  \n",
       "DEPT                                                         \n",
       "0.0    NaN   NaN   NaN   NaN   NaN      NaN NaN   NaN   NaN  \n",
       "0.5    NaN   NaN   NaN   NaN   NaN      NaN NaN   NaN   NaN  \n",
       "1.0    NaN   NaN   NaN   NaN   NaN      NaN NaN   NaN   NaN  \n",
       "1.5    NaN   NaN   NaN   NaN   NaN      NaN NaN   NaN   NaN  \n",
       "2.0    NaN   NaN   NaN   NaN   NaN      NaN NaN   NaN   NaN  \n",
       "...     ..   ...   ...   ...   ...      ...  ..   ...   ...  \n",
       "8078.0 NaN   NaN   NaN   NaN   NaN  737.130 NaN   NaN   NaN  \n",
       "8078.5 NaN   NaN   NaN   NaN   NaN  703.401 NaN   NaN   NaN  \n",
       "8079.0 NaN   NaN   NaN   NaN   NaN      NaN NaN   NaN   NaN  \n",
       "8079.5 NaN   NaN   NaN   NaN   NaN      NaN NaN   NaN   NaN  \n",
       "8080.0 NaN   NaN   NaN   NaN   NaN      NaN NaN   NaN   NaN  \n",
       "\n",
       "[16161 rows x 22 columns]"
      ]
     },
     "execution_count": 7,
     "metadata": {},
     "output_type": "execute_result"
    }
   ],
   "source": [
    "df"
   ]
  },
  {
   "cell_type": "markdown",
   "metadata": {
    "id": "IpfPZUDJZGyX"
   },
   "source": [
    "Once the well data is loaded into a data frame, you can export it as a .csv, a JSON, or other pythontic functions. If your interested in using well logs further, check out the turtorial on the github."
   ]
  },
  {
   "cell_type": "markdown",
   "metadata": {
    "id": "TQvD4tmth9WN"
   },
   "source": [
    "## Reading in USGS River Data"
   ]
  },
  {
   "cell_type": "markdown",
   "metadata": {
    "id": "MZMlRhfzlghf"
   },
   "source": [
    "USGS has river data from everywhere, we will load in some USGS data from Western Colorado. There are two files, discharge and temperature. Link to the data is [here](https://waterdata.usgs.gov/co/nwis/inventory/?site_no=09070500). The file has a header that is commented with a # infront of it. There are two ways we can handle this. The other small change I did was to make these files a .txt file."
   ]
  },
  {
   "cell_type": "markdown",
   "metadata": {
    "id": "5lMhuRVnbBU8"
   },
   "source": [
    "#### USGS Temperature Data"
   ]
  },
  {
   "cell_type": "code",
   "execution_count": 8,
   "metadata": {
    "id": "rCFsymGWtJox",
    "tags": []
   },
   "outputs": [],
   "source": [
    "rowskip = np.arange(0,35)\n",
    "rowskip = rowskip.tolist()\n",
    "rowskip.append(36)\n",
    "# rowskip # uncomment if you want to qc the output"
   ]
  },
  {
   "cell_type": "code",
   "execution_count": 9,
   "metadata": {
    "id": "mijcRXtktTRZ",
    "tags": []
   },
   "outputs": [],
   "source": [
    "folder = '../1_data/'\n",
    "usgs_temp = 'monthly_temp.txt'"
   ]
  },
  {
   "cell_type": "code",
   "execution_count": 10,
   "metadata": {
    "id": "5THS3NKSh_51",
    "tags": []
   },
   "outputs": [],
   "source": [
    "df_temp = pd.read_csv(folder + usgs_temp, skiprows=rowskip, sep = \"\\t\")"
   ]
  },
  {
   "cell_type": "code",
   "execution_count": 11,
   "metadata": {
    "colab": {
     "base_uri": "https://localhost:8080/",
     "height": 204
    },
    "id": "QwsycIFIjDeB",
    "outputId": "2c3e6195-b948-4dbb-8de8-2b1a00938d41",
    "tags": []
   },
   "outputs": [
    {
     "data": {
      "text/html": [
       "<div>\n",
       "<style scoped>\n",
       "    .dataframe tbody tr th:only-of-type {\n",
       "        vertical-align: middle;\n",
       "    }\n",
       "\n",
       "    .dataframe tbody tr th {\n",
       "        vertical-align: top;\n",
       "    }\n",
       "\n",
       "    .dataframe thead th {\n",
       "        text-align: right;\n",
       "    }\n",
       "</style>\n",
       "<table border=\"1\" class=\"dataframe\">\n",
       "  <thead>\n",
       "    <tr style=\"text-align: right;\">\n",
       "      <th></th>\n",
       "      <th>agency_cd</th>\n",
       "      <th>site_no</th>\n",
       "      <th>parameter_cd</th>\n",
       "      <th>ts_id</th>\n",
       "      <th>year_nu</th>\n",
       "      <th>month_nu</th>\n",
       "      <th>mean_va</th>\n",
       "    </tr>\n",
       "  </thead>\n",
       "  <tbody>\n",
       "    <tr>\n",
       "      <th>0</th>\n",
       "      <td>USGS</td>\n",
       "      <td>9070500</td>\n",
       "      <td>10</td>\n",
       "      <td>18627</td>\n",
       "      <td>1980</td>\n",
       "      <td>3</td>\n",
       "      <td>4.26</td>\n",
       "    </tr>\n",
       "    <tr>\n",
       "      <th>1</th>\n",
       "      <td>USGS</td>\n",
       "      <td>9070500</td>\n",
       "      <td>10</td>\n",
       "      <td>18627</td>\n",
       "      <td>1980</td>\n",
       "      <td>4</td>\n",
       "      <td>8.27</td>\n",
       "    </tr>\n",
       "    <tr>\n",
       "      <th>2</th>\n",
       "      <td>USGS</td>\n",
       "      <td>9070500</td>\n",
       "      <td>10</td>\n",
       "      <td>18627</td>\n",
       "      <td>1980</td>\n",
       "      <td>5</td>\n",
       "      <td>9.94</td>\n",
       "    </tr>\n",
       "    <tr>\n",
       "      <th>3</th>\n",
       "      <td>USGS</td>\n",
       "      <td>9070500</td>\n",
       "      <td>10</td>\n",
       "      <td>18627</td>\n",
       "      <td>1980</td>\n",
       "      <td>6</td>\n",
       "      <td>12.20</td>\n",
       "    </tr>\n",
       "    <tr>\n",
       "      <th>4</th>\n",
       "      <td>USGS</td>\n",
       "      <td>9070500</td>\n",
       "      <td>10</td>\n",
       "      <td>18627</td>\n",
       "      <td>1980</td>\n",
       "      <td>8</td>\n",
       "      <td>17.66</td>\n",
       "    </tr>\n",
       "  </tbody>\n",
       "</table>\n",
       "</div>"
      ],
      "text/plain": [
       "  agency_cd  site_no  parameter_cd  ts_id  year_nu  month_nu  mean_va\n",
       "0      USGS  9070500            10  18627     1980         3     4.26\n",
       "1      USGS  9070500            10  18627     1980         4     8.27\n",
       "2      USGS  9070500            10  18627     1980         5     9.94\n",
       "3      USGS  9070500            10  18627     1980         6    12.20\n",
       "4      USGS  9070500            10  18627     1980         8    17.66"
      ]
     },
     "execution_count": 11,
     "metadata": {},
     "output_type": "execute_result"
    }
   ],
   "source": [
    "df_temp.head()"
   ]
  },
  {
   "cell_type": "markdown",
   "metadata": {
    "id": "Uw0dFyKsbLHX"
   },
   "source": [
    "#### USGS Discharge data"
   ]
  },
  {
   "cell_type": "markdown",
   "metadata": {
    "id": "mOILf1HQeBBj"
   },
   "source": [
    "Let's load in the discharge data"
   ]
  },
  {
   "cell_type": "code",
   "execution_count": 12,
   "metadata": {
    "id": "-GbFaOnEbPVQ",
    "tags": []
   },
   "outputs": [],
   "source": [
    "usgs_discharge = '../1_data/monthly_distcharge.txt'"
   ]
  },
  {
   "cell_type": "code",
   "execution_count": 13,
   "metadata": {
    "id": "9PCI0s8teE8z",
    "tags": []
   },
   "outputs": [],
   "source": [
    "df_dist = pd.read_csv(usgs_discharge, delim_whitespace=True, comment=\"#\", header=0, skiprows=[1])"
   ]
  },
  {
   "cell_type": "code",
   "execution_count": 14,
   "metadata": {
    "colab": {
     "base_uri": "https://localhost:8080/",
     "height": 204
    },
    "id": "THnm2GHPeZ8X",
    "outputId": "13a00826-a151-4fc2-c29a-3d456bd58498",
    "tags": []
   },
   "outputs": [
    {
     "data": {
      "text/html": [
       "<div>\n",
       "<style scoped>\n",
       "    .dataframe tbody tr th:only-of-type {\n",
       "        vertical-align: middle;\n",
       "    }\n",
       "\n",
       "    .dataframe tbody tr th {\n",
       "        vertical-align: top;\n",
       "    }\n",
       "\n",
       "    .dataframe thead th {\n",
       "        text-align: right;\n",
       "    }\n",
       "</style>\n",
       "<table border=\"1\" class=\"dataframe\">\n",
       "  <thead>\n",
       "    <tr style=\"text-align: right;\">\n",
       "      <th></th>\n",
       "      <th>agency_cd</th>\n",
       "      <th>site_no</th>\n",
       "      <th>parameter_cd</th>\n",
       "      <th>ts_id</th>\n",
       "      <th>year_nu</th>\n",
       "      <th>month_nu</th>\n",
       "      <th>mean_va</th>\n",
       "    </tr>\n",
       "  </thead>\n",
       "  <tbody>\n",
       "    <tr>\n",
       "      <th>0</th>\n",
       "      <td>USGS</td>\n",
       "      <td>9070500</td>\n",
       "      <td>60</td>\n",
       "      <td>18624</td>\n",
       "      <td>1980</td>\n",
       "      <td>2</td>\n",
       "      <td>990.2</td>\n",
       "    </tr>\n",
       "    <tr>\n",
       "      <th>1</th>\n",
       "      <td>USGS</td>\n",
       "      <td>9070500</td>\n",
       "      <td>60</td>\n",
       "      <td>18624</td>\n",
       "      <td>1980</td>\n",
       "      <td>3</td>\n",
       "      <td>1020.0</td>\n",
       "    </tr>\n",
       "    <tr>\n",
       "      <th>2</th>\n",
       "      <td>USGS</td>\n",
       "      <td>9070500</td>\n",
       "      <td>60</td>\n",
       "      <td>18624</td>\n",
       "      <td>1980</td>\n",
       "      <td>4</td>\n",
       "      <td>1645.0</td>\n",
       "    </tr>\n",
       "    <tr>\n",
       "      <th>3</th>\n",
       "      <td>USGS</td>\n",
       "      <td>9070500</td>\n",
       "      <td>60</td>\n",
       "      <td>18624</td>\n",
       "      <td>1980</td>\n",
       "      <td>5</td>\n",
       "      <td>5682.0</td>\n",
       "    </tr>\n",
       "    <tr>\n",
       "      <th>4</th>\n",
       "      <td>USGS</td>\n",
       "      <td>9070500</td>\n",
       "      <td>60</td>\n",
       "      <td>18624</td>\n",
       "      <td>1980</td>\n",
       "      <td>6</td>\n",
       "      <td>7134.0</td>\n",
       "    </tr>\n",
       "  </tbody>\n",
       "</table>\n",
       "</div>"
      ],
      "text/plain": [
       "  agency_cd  site_no  parameter_cd  ts_id  year_nu  month_nu  mean_va\n",
       "0      USGS  9070500            60  18624     1980         2    990.2\n",
       "1      USGS  9070500            60  18624     1980         3   1020.0\n",
       "2      USGS  9070500            60  18624     1980         4   1645.0\n",
       "3      USGS  9070500            60  18624     1980         5   5682.0\n",
       "4      USGS  9070500            60  18624     1980         6   7134.0"
      ]
     },
     "execution_count": 14,
     "metadata": {},
     "output_type": "execute_result"
    }
   ],
   "source": [
    "df_dist.head()"
   ]
  },
  {
   "cell_type": "markdown",
   "metadata": {},
   "source": [
    "# SEGY Headers"
   ]
  },
  {
   "cell_type": "markdown",
   "metadata": {
    "id": "4Qt1xdGvWK6K"
   },
   "source": [
    "segy data is seismic data, if you have questions about what it is, here is a great blog post: https://agilescientific.com/blog/2014/3/26/what-is-seg-y.html . If you want to check out the headers, you can use obspy"
   ]
  },
  {
   "cell_type": "code",
   "execution_count": 15,
   "metadata": {
    "tags": []
   },
   "outputs": [
    {
     "name": "stdout",
     "output_type": "stream",
     "text": [
      "Collecting obspy\n",
      "  Using cached obspy-1.4.0-cp38-cp38-manylinux_2_17_x86_64.manylinux2014_x86_64.whl (14.5 MB)\n",
      "Collecting numpy>=1.20 (from obspy)\n",
      "  Obtaining dependency information for numpy>=1.20 from https://files.pythonhosted.org/packages/98/5d/5738903efe0ecb73e51eb44feafba32bdba2081263d40c5043568ff60faf/numpy-1.24.4-cp38-cp38-manylinux_2_17_x86_64.manylinux2014_x86_64.whl.metadata\n",
      "  Using cached numpy-1.24.4-cp38-cp38-manylinux_2_17_x86_64.manylinux2014_x86_64.whl.metadata (5.6 kB)\n",
      "Requirement already satisfied: scipy>=1.7 in /opt/conda/envs/mines23f/lib/python3.8/site-packages (from obspy) (1.9.1)\n",
      "Requirement already satisfied: matplotlib>=3.3 in /opt/conda/envs/mines23f/lib/python3.8/site-packages (from obspy) (3.3.2)\n",
      "Collecting lxml (from obspy)\n",
      "  Obtaining dependency information for lxml from https://files.pythonhosted.org/packages/44/1b/0771c38e65ad23e25368b5e07c920054774b8d12477a4fad116bf500de73/lxml-4.9.3-cp38-cp38-manylinux_2_28_x86_64.whl.metadata\n",
      "  Using cached lxml-4.9.3-cp38-cp38-manylinux_2_28_x86_64.whl.metadata (3.8 kB)\n",
      "Requirement already satisfied: setuptools in /opt/conda/envs/mines23f/lib/python3.8/site-packages (from obspy) (59.8.0)\n",
      "Collecting sqlalchemy (from obspy)\n",
      "  Obtaining dependency information for sqlalchemy from https://files.pythonhosted.org/packages/f2/40/5c63e612ff70247ece24dc6de14426fd4276ff39e835df833b38b0796c7e/SQLAlchemy-2.0.22-cp38-cp38-manylinux_2_17_x86_64.manylinux2014_x86_64.whl.metadata\n",
      "  Using cached SQLAlchemy-2.0.22-cp38-cp38-manylinux_2_17_x86_64.manylinux2014_x86_64.whl.metadata (9.4 kB)\n",
      "Requirement already satisfied: decorator in /opt/conda/envs/mines23f/lib/python3.8/site-packages (from obspy) (5.1.1)\n",
      "Requirement already satisfied: requests in /opt/conda/envs/mines23f/lib/python3.8/site-packages (from obspy) (2.31.0)\n",
      "Requirement already satisfied: certifi>=2020.06.20 in /opt/conda/envs/mines23f/lib/python3.8/site-packages (from matplotlib>=3.3->obspy) (2023.7.22)\n",
      "Requirement already satisfied: cycler>=0.10 in /opt/conda/envs/mines23f/lib/python3.8/site-packages (from matplotlib>=3.3->obspy) (0.12.0)\n",
      "Requirement already satisfied: kiwisolver>=1.0.1 in /opt/conda/envs/mines23f/lib/python3.8/site-packages (from matplotlib>=3.3->obspy) (1.4.5)\n",
      "Requirement already satisfied: pillow>=6.2.0 in /opt/conda/envs/mines23f/lib/python3.8/site-packages (from matplotlib>=3.3->obspy) (9.2.0)\n",
      "Requirement already satisfied: pyparsing!=2.0.4,!=2.1.2,!=2.1.6,>=2.0.3 in /opt/conda/envs/mines23f/lib/python3.8/site-packages (from matplotlib>=3.3->obspy) (3.1.1)\n",
      "Requirement already satisfied: python-dateutil>=2.1 in /opt/conda/envs/mines23f/lib/python3.8/site-packages (from matplotlib>=3.3->obspy) (2.8.2)\n",
      "Requirement already satisfied: charset-normalizer<4,>=2 in /opt/conda/envs/mines23f/lib/python3.8/site-packages (from requests->obspy) (3.3.0)\n",
      "Requirement already satisfied: idna<4,>=2.5 in /opt/conda/envs/mines23f/lib/python3.8/site-packages (from requests->obspy) (3.4)\n",
      "Requirement already satisfied: urllib3<3,>=1.21.1 in /opt/conda/envs/mines23f/lib/python3.8/site-packages (from requests->obspy) (2.0.6)\n",
      "Requirement already satisfied: typing-extensions>=4.2.0 in /opt/conda/envs/mines23f/lib/python3.8/site-packages (from sqlalchemy->obspy) (4.8.0)\n",
      "Collecting greenlet!=0.4.17 (from sqlalchemy->obspy)\n",
      "  Obtaining dependency information for greenlet!=0.4.17 from https://files.pythonhosted.org/packages/75/5a/4ecc17749c54882dd3422befcd35fec5128ae2a72138844899322af0b55a/greenlet-3.0.0-cp38-cp38-manylinux_2_24_x86_64.manylinux_2_28_x86_64.whl.metadata\n",
      "  Using cached greenlet-3.0.0-cp38-cp38-manylinux_2_24_x86_64.manylinux_2_28_x86_64.whl.metadata (3.8 kB)\n",
      "Requirement already satisfied: six>=1.5 in /opt/conda/envs/mines23f/lib/python3.8/site-packages (from python-dateutil>=2.1->matplotlib>=3.3->obspy) (1.16.0)\n",
      "Using cached numpy-1.24.4-cp38-cp38-manylinux_2_17_x86_64.manylinux2014_x86_64.whl (17.3 MB)\n",
      "Using cached lxml-4.9.3-cp38-cp38-manylinux_2_28_x86_64.whl (8.0 MB)\n",
      "Using cached SQLAlchemy-2.0.22-cp38-cp38-manylinux_2_17_x86_64.manylinux2014_x86_64.whl (3.1 MB)\n",
      "Using cached greenlet-3.0.0-cp38-cp38-manylinux_2_24_x86_64.manylinux_2_28_x86_64.whl (617 kB)\n",
      "Installing collected packages: numpy, lxml, greenlet, sqlalchemy, obspy\n",
      "  Attempting uninstall: numpy\n",
      "    Found existing installation: numpy 1.19.5\n",
      "    Uninstalling numpy-1.19.5:\n",
      "      Successfully uninstalled numpy-1.19.5\n",
      "Successfully installed greenlet-3.0.0 lxml-4.9.3 numpy-1.24.4 obspy-1.4.0 sqlalchemy-2.0.22\n"
     ]
    }
   ],
   "source": [
    "!pip install obspy"
   ]
  },
  {
   "cell_type": "code",
   "execution_count": 16,
   "metadata": {
    "id": "vdINFv3k3J9i",
    "tags": []
   },
   "outputs": [],
   "source": [
    "from obspy.core import read\n",
    "stream = read('https://examples.obspy.org/RJOB20090824.ehz')\n",
    "stream.write('outfile.ascii', format='SLIST')"
   ]
  },
  {
   "cell_type": "code",
   "execution_count": 17,
   "metadata": {
    "id": "xJ69by29DkZm",
    "tags": []
   },
   "outputs": [],
   "source": [
    "segy_df = pd.read_csv('outfile.ascii', sep='\\t', skiprows=0)"
   ]
  },
  {
   "cell_type": "code",
   "execution_count": 18,
   "metadata": {
    "tags": []
   },
   "outputs": [
    {
     "data": {
      "text/html": [
       "<div>\n",
       "<style scoped>\n",
       "    .dataframe tbody tr th:only-of-type {\n",
       "        vertical-align: middle;\n",
       "    }\n",
       "\n",
       "    .dataframe tbody tr th {\n",
       "        vertical-align: top;\n",
       "    }\n",
       "\n",
       "    .dataframe thead th {\n",
       "        text-align: right;\n",
       "    }\n",
       "</style>\n",
       "<table border=\"1\" class=\"dataframe\">\n",
       "  <thead>\n",
       "    <tr style=\"text-align: right;\">\n",
       "      <th></th>\n",
       "      <th></th>\n",
       "      <th></th>\n",
       "      <th></th>\n",
       "      <th></th>\n",
       "      <th>TIMESERIES BW_RJOB__EHZ_D, 6001 samples, 200 sps, 2009-08-24T00:20:03.000000, SLIST, INTEGER,</th>\n",
       "    </tr>\n",
       "  </thead>\n",
       "  <tbody>\n",
       "    <tr>\n",
       "      <th>288</th>\n",
       "      <th>300.0</th>\n",
       "      <th>292.0</th>\n",
       "      <th>285.0</th>\n",
       "      <th>265.0</th>\n",
       "      <td>287.0</td>\n",
       "    </tr>\n",
       "    <tr>\n",
       "      <th>279</th>\n",
       "      <th>250.0</th>\n",
       "      <th>278.0</th>\n",
       "      <th>278.0</th>\n",
       "      <th>268.0</th>\n",
       "      <td>258.0</td>\n",
       "    </tr>\n",
       "    <tr>\n",
       "      <th rowspan=\"2\" valign=\"top\">250</th>\n",
       "      <th>256.0</th>\n",
       "      <th>232.0</th>\n",
       "      <th>232.0</th>\n",
       "      <th>255.0</th>\n",
       "      <td>261.0</td>\n",
       "    </tr>\n",
       "    <tr>\n",
       "      <th>220.0</th>\n",
       "      <th>227.0</th>\n",
       "      <th>252.0</th>\n",
       "      <th>230.0</th>\n",
       "      <td>209.0</td>\n",
       "    </tr>\n",
       "    <tr>\n",
       "      <th>224</th>\n",
       "      <th>229.0</th>\n",
       "      <th>218.0</th>\n",
       "      <th>209.0</th>\n",
       "      <th>208.0</th>\n",
       "      <td>214.0</td>\n",
       "    </tr>\n",
       "    <tr>\n",
       "      <th>...</th>\n",
       "      <th>...</th>\n",
       "      <th>...</th>\n",
       "      <th>...</th>\n",
       "      <th>...</th>\n",
       "      <td>...</td>\n",
       "    </tr>\n",
       "    <tr>\n",
       "      <th>482</th>\n",
       "      <th>461.0</th>\n",
       "      <th>429.0</th>\n",
       "      <th>450.0</th>\n",
       "      <th>469.0</th>\n",
       "      <td>425.0</td>\n",
       "    </tr>\n",
       "    <tr>\n",
       "      <th>423</th>\n",
       "      <th>455.0</th>\n",
       "      <th>455.0</th>\n",
       "      <th>434.0</th>\n",
       "      <th>429.0</th>\n",
       "      <td>457.0</td>\n",
       "    </tr>\n",
       "    <tr>\n",
       "      <th>449</th>\n",
       "      <th>432.0</th>\n",
       "      <th>441.0</th>\n",
       "      <th>445.0</th>\n",
       "      <th>432.0</th>\n",
       "      <td>425.0</td>\n",
       "    </tr>\n",
       "    <tr>\n",
       "      <th>400</th>\n",
       "      <th>397.0</th>\n",
       "      <th>471.0</th>\n",
       "      <th>426.0</th>\n",
       "      <th>390.0</th>\n",
       "      <td>450.0</td>\n",
       "    </tr>\n",
       "    <tr>\n",
       "      <th>442</th>\n",
       "      <th>NaN</th>\n",
       "      <th>NaN</th>\n",
       "      <th>NaN</th>\n",
       "      <th>NaN</th>\n",
       "      <td>NaN</td>\n",
       "    </tr>\n",
       "  </tbody>\n",
       "</table>\n",
       "<p>1001 rows × 1 columns</p>\n",
       "</div>"
      ],
      "text/plain": [
       "                             TIMESERIES BW_RJOB__EHZ_D, 6001 samples, 200 sps, 2009-08-24T00:20:03.000000, SLIST, INTEGER, \n",
       "288 300.0 292.0 285.0 265.0                                              287.0                                             \n",
       "279 250.0 278.0 278.0 268.0                                              258.0                                             \n",
       "250 256.0 232.0 232.0 255.0                                              261.0                                             \n",
       "    220.0 227.0 252.0 230.0                                              209.0                                             \n",
       "224 229.0 218.0 209.0 208.0                                              214.0                                             \n",
       "...                                                                        ...                                             \n",
       "482 461.0 429.0 450.0 469.0                                              425.0                                             \n",
       "423 455.0 455.0 434.0 429.0                                              457.0                                             \n",
       "449 432.0 441.0 445.0 432.0                                              425.0                                             \n",
       "400 397.0 471.0 426.0 390.0                                              450.0                                             \n",
       "442 NaN   NaN   NaN   NaN                                                  NaN                                             \n",
       "\n",
       "[1001 rows x 1 columns]"
      ]
     },
     "execution_count": 18,
     "metadata": {},
     "output_type": "execute_result"
    }
   ],
   "source": [
    "segy_df"
   ]
  },
  {
   "cell_type": "markdown",
   "metadata": {
    "id": "b-k4i2FiBE2m"
   },
   "source": [
    "# Questions"
   ]
  },
  {
   "cell_type": "markdown",
   "metadata": {
    "id": "xjolnBhpBJP7"
   },
   "source": [
    "Using a combination of code and text boxes, please answer the following questions:"
   ]
  },
  {
   "cell_type": "markdown",
   "metadata": {
    "id": "hsoWROMbET0T"
   },
   "source": [
    "#### 0. segy_df can be loaded as a dataframe, but the header is still a bit odd. Improve the loading of the seismic ascii file"
   ]
  },
  {
   "cell_type": "markdown",
   "metadata": {
    "id": "tJpVQqqfBQna"
   },
   "source": [
    "#### 1. Load in a data file from your research or independent project? Does it require a package (like lasio or obspy)? After you have loaded it in, can you make it into a pandas dataframe easily? If not, why?"
   ]
  },
  {
   "cell_type": "markdown",
   "metadata": {
    "id": "WO6peuneBRAS"
   },
   "source": [
    "#### 2. Do you like using packages to load in data, or would you prefer something else?"
   ]
  },
  {
   "cell_type": "markdown",
   "metadata": {
    "id": "jhICJKbOBp5S"
   },
   "source": [
    "#### 3. Does using python change how you want to create and store data?"
   ]
  },
  {
   "cell_type": "markdown",
   "metadata": {
    "id": "L1Qjc8dmCKx4"
   },
   "source": [
    "#### 4. How is data storage handled in your research group or job? Could it be done better (in the context of python)?"
   ]
  },
  {
   "cell_type": "markdown",
   "metadata": {
    "id": "uoSz6M-aFCeF"
   },
   "source": [
    "#### 5. Out of loading the two USGS river data files, which made more sense?"
   ]
  },
  {
   "cell_type": "markdown",
   "metadata": {
    "id": "3sww4tbfCZOx"
   },
   "source": [
    "#### 6. Bonus. Is there a geo-data format that you wanted to load into python, but could not?"
   ]
  },
  {
   "cell_type": "code",
   "execution_count": null,
   "metadata": {
    "id": "JHhdRSdNFLs4"
   },
   "outputs": [],
   "source": []
  }
 ],
 "metadata": {
  "colab": {
   "provenance": [],
   "toc_visible": true
  },
  "kernelspec": {
   "display_name": "Python [conda env:mines23f]",
   "language": "python",
   "name": "conda-env-mines23f-py"
  },
  "language_info": {
   "codemirror_mode": {
    "name": "ipython",
    "version": 3
   },
   "file_extension": ".py",
   "mimetype": "text/x-python",
   "name": "python",
   "nbconvert_exporter": "python",
   "pygments_lexer": "ipython3",
   "version": "3.8.17"
  }
 },
 "nbformat": 4,
 "nbformat_minor": 4
}
